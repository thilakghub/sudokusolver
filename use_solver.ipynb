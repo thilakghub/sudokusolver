{
 "cells": [
  {
   "cell_type": "code",
   "execution_count": 1,
   "metadata": {},
   "outputs": [],
   "source": [
    "import sys\n",
    "import time"
   ]
  },
  {
   "cell_type": "code",
   "execution_count": 2,
   "metadata": {},
   "outputs": [],
   "source": [
    "from solver import sudoku"
   ]
  },
  {
   "cell_type": "code",
   "execution_count": 3,
   "metadata": {},
   "outputs": [],
   "source": [
    "sys.setrecursionlimit(100000)"
   ]
  },
  {
   "cell_type": "code",
   "execution_count": 4,
   "metadata": {},
   "outputs": [],
   "source": [
    "f = open('/Users/z001t72/Documents/Training/Sudoku/all_17_clue_sudokus.txt', 'r')\n",
    "content = f.readlines()\n",
    "f.close()"
   ]
  },
  {
   "cell_type": "code",
   "execution_count": 11,
   "metadata": {},
   "outputs": [
    {
     "name": "stdout",
     "output_type": "stream",
     "text": [
      "time to solve puzzle number: 0 - 0.16 s\n",
      "time to solve puzzle number: 1 - 0.15 s\n",
      "time to solve puzzle number: 2 - 0.28 s\n",
      "time to solve puzzle number: 3 - 0.32 s\n",
      "time to solve puzzle number: 4 - 0.47 s\n",
      "time to solve puzzle number: 5 - 0.16 s\n",
      "time to solve puzzle number: 6 - 1.15 s\n",
      "time to solve puzzle number: 7 - 1.03 s\n",
      "time to solve puzzle number: 8 - 0.27 s\n",
      "time to solve puzzle number: 9 - 0.36 s\n"
     ]
    }
   ],
   "source": [
    "for i in range(10):\n",
    "#     print(\"puzzle number: \", i)\n",
    "    start_time = time.time()\n",
    "    arr = sudoku()\n",
    "\n",
    "    for j in range(len(content[i])-1):\n",
    "        if int(content[i][j]) != 0: arr.sudoku_array[j] = [int(content[i][j])]\n",
    "    \n",
    "    arr.verbose = 0\n",
    "    arr.row_excl_update()\n",
    "    arr.col_excl_update()\n",
    "    arr.box_excl_update()\n",
    "    arr.solve()\n",
    "    print(\"time to solve puzzle number:\",i,\"-\", round(time.time()- start_time,2), \"s\")"
   ]
  },
  {
   "cell_type": "code",
   "execution_count": null,
   "metadata": {},
   "outputs": [],
   "source": []
  },
  {
   "cell_type": "markdown",
   "metadata": {},
   "source": [
    "naked single and hidden single"
   ]
  },
  {
   "cell_type": "code",
   "execution_count": 5,
   "metadata": {},
   "outputs": [
    {
     "name": "stdout",
     "output_type": "stream",
     "text": [
      "puzzle number:  0\n",
      "     a    b    c    d    e    f    g    h    i\n",
      "0  [6]  [9]  [3]  [7]  [8]  [4]  [5]  [1]  [2]\n",
      "1  [4]  [8]  [7]  [5]  [1]  [2]  [9]  [3]  [6]\n",
      "2  [1]  [2]  [5]  [9]  [6]  [3]  [8]  [7]  [4]\n",
      "3  [9]  [3]  [2]  [6]  [5]  [1]  [4]  [8]  [7]\n",
      "4  [5]  [6]  [8]  [2]  [4]  [7]  [3]  [9]  [1]\n",
      "5  [7]  [4]  [1]  [3]  [9]  [8]  [6]  [2]  [5]\n",
      "6  [3]  [1]  [9]  [4]  [7]  [5]  [2]  [6]  [8]\n",
      "7  [8]  [5]  [6]  [1]  [2]  [9]  [7]  [4]  [3]\n",
      "8  [2]  [7]  [4]  [8]  [3]  [6]  [1]  [5]  [9]\n",
      "time to solve:  0.2 s\n",
      "puzzle number:  1\n",
      "     a    b    c    d    e    f    g    h    i\n",
      "0  [7]  [9]  [3]  [6]  [8]  [4]  [5]  [1]  [2]\n",
      "1  [4]  [8]  [6]  [5]  [1]  [2]  [9]  [3]  [7]\n",
      "2  [1]  [2]  [5]  [9]  [7]  [3]  [8]  [4]  [6]\n",
      "3  [9]  [3]  [2]  [7]  [5]  [1]  [6]  [8]  [4]\n",
      "4  [5]  [7]  [8]  [2]  [4]  [6]  [3]  [9]  [1]\n",
      "5  [6]  [4]  [1]  [3]  [9]  [8]  [7]  [2]  [5]\n",
      "6  [3]  [1]  [9]  [4]  [6]  [5]  [2]  [7]  [8]\n",
      "7  [8]  [5]  [7]  [1]  [2]  [9]  [4]  [6]  [3]\n",
      "8  [2]  [6]  [4]  [8]  [3]  [7]  [1]  [5]  [9]\n",
      "time to solve:  0.19 s\n",
      "puzzle number:  2\n",
      "     a    b    c    d    e    f    g    h    i\n",
      "0  [6]  [7]  [3]  [8]  [9]  [4]  [5]  [1]  [2]\n",
      "1  [9]  [1]  [2]  [7]  [3]  [5]  [4]  [8]  [6]\n",
      "2  [8]  [4]  [5]  [6]  [1]  [2]  [9]  [7]  [3]\n",
      "3  [7]  [9]  [8]  [2]  [6]  [1]  [3]  [5]  [4]\n",
      "4  [5]  [2]  [6]  [4]  [7]  [3]  [8]  [9]  [1]\n",
      "5  [1]  [3]  [4]  [5]  [8]  [9]  [2]  [6]  [7]\n",
      "6  [4]  [6]  [9]  [1]  [2]  [8]  [7]  [3]  [5]\n",
      "7  [2]  [8]  [7]  [3]  [5]  [6]  [1]  [4]  [9]\n",
      "8  [3]  [5]  [1]  [9]  [4]  [7]  [6]  [2]  [8]\n",
      "time to solve:  0.3 s\n",
      "puzzle number:  3\n",
      "     a    b    c    d    e    f    g    h    i\n",
      "0  [6]  [7]  [9]  [8]  [3]  [5]  [4]  [1]  [2]\n",
      "1  [1]  [2]  [3]  [6]  [9]  [4]  [7]  [5]  [8]\n",
      "2  [5]  [4]  [8]  [2]  [1]  [7]  [9]  [3]  [6]\n",
      "3  [4]  [1]  [6]  [7]  [2]  [3]  [8]  [9]  [5]\n",
      "4  [8]  [9]  [2]  [5]  [6]  [1]  [3]  [7]  [4]\n",
      "5  [7]  [3]  [5]  [4]  [8]  [9]  [6]  [2]  [1]\n",
      "6  [2]  [8]  [7]  [9]  [5]  [6]  [1]  [4]  [3]\n",
      "7  [9]  [6]  [1]  [3]  [4]  [2]  [5]  [8]  [7]\n",
      "8  [3]  [5]  [4]  [1]  [7]  [8]  [2]  [6]  [9]\n",
      "time to solve:  0.34 s\n",
      "puzzle number:  4\n",
      "     a    b    c    d    e    f    g    h    i\n",
      "0  [3]  [4]  [6]  [7]  [9]  [5]  [8]  [1]  [2]\n",
      "1  [2]  [5]  [8]  [4]  [3]  [1]  [6]  [9]  [7]\n",
      "2  [9]  [7]  [1]  [8]  [6]  [2]  [5]  [4]  [3]\n",
      "3  [1]  [2]  [9]  [5]  [7]  [6]  [4]  [3]  [8]\n",
      "4  [8]  [3]  [5]  [2]  [1]  [4]  [7]  [6]  [9]\n",
      "5  [7]  [6]  [4]  [3]  [8]  [9]  [2]  [5]  [1]\n",
      "6  [5]  [1]  [7]  [9]  [4]  [8]  [3]  [2]  [6]\n",
      "7  [4]  [9]  [3]  [6]  [2]  [7]  [1]  [8]  [5]\n",
      "8  [6]  [8]  [2]  [1]  [5]  [3]  [9]  [7]  [4]\n",
      "time to solve:  0.47 s\n",
      "puzzle number:  5\n",
      "     a    b    c    d    e    f    g    h    i\n",
      "0  [5]  [9]  [8]  [4]  [6]  [3]  [7]  [1]  [2]\n",
      "1  [7]  [4]  [2]  [8]  [5]  [1]  [6]  [3]  [9]\n",
      "2  [3]  [1]  [6]  [7]  [2]  [9]  [8]  [4]  [5]\n",
      "3  [1]  [7]  [5]  [6]  [3]  [2]  [4]  [9]  [8]\n",
      "4  [8]  [6]  [9]  [1]  [4]  [5]  [2]  [7]  [3]\n",
      "5  [4]  [2]  [3]  [9]  [7]  [8]  [1]  [5]  [6]\n",
      "6  [9]  [3]  [4]  [2]  [8]  [7]  [5]  [6]  [1]\n",
      "7  [6]  [8]  [1]  [5]  [9]  [4]  [3]  [2]  [7]\n",
      "8  [2]  [5]  [7]  [3]  [1]  [6]  [9]  [8]  [4]\n",
      "time to solve:  0.18 s\n",
      "puzzle number:  6\n",
      "     a    b    c    d    e    f    g    h    i\n",
      "0  [3]  [6]  [4]  [9]  [7]  [8]  [5]  [1]  [2]\n",
      "1  [1]  [5]  [2]  [4]  [3]  [6]  [9]  [7]  [8]\n",
      "2  [8]  [7]  [9]  [1]  [2]  [5]  [6]  [3]  [4]\n",
      "3  [7]  [3]  [8]  [6]  [5]  [1]  [4]  [2]  [9]\n",
      "4  [6]  [9]  [1]  [2]  [4]  [7]  [3]  [8]  [5]\n",
      "5  [2]  [4]  [5]  [3]  [8]  [9]  [1]  [6]  [7]\n",
      "6  [9]  [2]  [3]  [7]  [6]  [4]  [8]  [5]  [1]\n",
      "7  [4]  [8]  [6]  [5]  [1]  [2]  [7]  [9]  [3]\n",
      "8  [5]  [1]  [7]  [8]  [9]  [3]  [2]  [4]  [6]\n",
      "time to solve:  1.18 s\n",
      "puzzle number:  7\n",
      "     a    b    c    d    e    f    g    h    i\n",
      "0  [6]  [4]  [9]  [8]  [3]  [5]  [7]  [1]  [2]\n",
      "1  [3]  [5]  [8]  [2]  [1]  [7]  [9]  [6]  [4]\n",
      "2  [1]  [7]  [2]  [6]  [4]  [9]  [3]  [8]  [5]\n",
      "3  [9]  [1]  [6]  [7]  [8]  [4]  [5]  [2]  [3]\n",
      "4  [8]  [3]  [4]  [5]  [2]  [1]  [6]  [7]  [9]\n",
      "5  [7]  [2]  [5]  [9]  [6]  [3]  [1]  [4]  [8]\n",
      "6  [2]  [8]  [7]  [3]  [5]  [6]  [4]  [9]  [1]\n",
      "7  [5]  [9]  [1]  [4]  [7]  [2]  [8]  [3]  [6]\n",
      "8  [4]  [6]  [3]  [1]  [9]  [8]  [2]  [5]  [7]\n",
      "time to solve:  1.11 s\n",
      "puzzle number:  8\n",
      "     a    b    c    d    e    f    g    h    i\n",
      "0  [3]  [6]  [7]  [4]  [8]  [5]  [9]  [1]  [2]\n",
      "1  [4]  [2]  [5]  [3]  [9]  [1]  [8]  [6]  [7]\n",
      "2  [1]  [8]  [9]  [7]  [2]  [6]  [3]  [5]  [4]\n",
      "3  [8]  [7]  [3]  [2]  [5]  [4]  [1]  [9]  [6]\n",
      "4  [6]  [5]  [1]  [9]  [7]  [3]  [4]  [2]  [8]\n",
      "5  [2]  [9]  [4]  [1]  [6]  [8]  [5]  [7]  [3]\n",
      "6  [7]  [1]  [8]  [6]  [4]  [9]  [2]  [3]  [5]\n",
      "7  [9]  [4]  [6]  [5]  [3]  [2]  [7]  [8]  [1]\n",
      "8  [5]  [3]  [2]  [8]  [1]  [7]  [6]  [4]  [9]\n",
      "time to solve:  0.31 s\n",
      "puzzle number:  9\n",
      "     a    b    c    d    e    f    g    h    i\n",
      "0  [3]  [7]  [8]  [6]  [9]  [4]  [5]  [1]  [2]\n",
      "1  [5]  [6]  [4]  [2]  [1]  [8]  [3]  [9]  [7]\n",
      "2  [2]  [9]  [1]  [7]  [5]  [3]  [6]  [8]  [4]\n",
      "3  [6]  [4]  [3]  [1]  [2]  [5]  [9]  [7]  [8]\n",
      "4  [7]  [1]  [2]  [8]  [6]  [9]  [4]  [5]  [3]\n",
      "5  [8]  [5]  [9]  [4]  [3]  [7]  [2]  [6]  [1]\n",
      "6  [4]  [3]  [5]  [9]  [7]  [1]  [8]  [2]  [6]\n",
      "7  [1]  [8]  [6]  [5]  [4]  [2]  [7]  [3]  [9]\n",
      "8  [9]  [2]  [7]  [3]  [8]  [6]  [1]  [4]  [5]\n",
      "time to solve:  0.41 s\n"
     ]
    }
   ],
   "source": [
    "for i in range(10):\n",
    "    print(\"puzzle number: \", i)\n",
    "    start_time = time.time()\n",
    "    arr = sudoku()\n",
    "\n",
    "    for j in range(len(content[i])-1):\n",
    "        if int(content[i][j]) != 0: arr.sudoku_array[j] = [int(content[i][j])]\n",
    "    \n",
    "    arr.verbose = 0\n",
    "    arr.row_excl_update()\n",
    "    arr.col_excl_update()\n",
    "    arr.box_excl_update()\n",
    "    arr.solve()\n",
    "    print(\"time to solve: \", round(time.time()- start_time,2), \"s\")"
   ]
  },
  {
   "cell_type": "code",
   "execution_count": null,
   "metadata": {},
   "outputs": [],
   "source": []
  },
  {
   "cell_type": "code",
   "execution_count": 17,
   "metadata": {},
   "outputs": [],
   "source": [
    "def sev_clue(x):\n",
    "    arr = sudoku()\n",
    "\n",
    "    for j in range(len(x)):\n",
    "        if int(x[j]) != 0: arr.sudoku_array[j] = [int(x[j])]\n",
    "    \n",
    "    arr.verbose = 0\n",
    "    arr.row_excl_update()\n",
    "    arr.col_excl_update()\n",
    "    arr.box_excl_update()\n",
    "    arr.solve()\n",
    "    return(1)"
   ]
  },
  {
   "cell_type": "code",
   "execution_count": 19,
   "metadata": {},
   "outputs": [
    {
     "data": {
      "text/plain": [
       "'00000001040000000002000000000005040700800030000109000030040020005010000000080600'"
      ]
     },
     "execution_count": 19,
     "metadata": {},
     "output_type": "execute_result"
    }
   ],
   "source": [
    "content[0][0:80]"
   ]
  },
  {
   "cell_type": "code",
   "execution_count": 20,
   "metadata": {},
   "outputs": [
    {
     "name": "stdout",
     "output_type": "stream",
     "text": [
      "     a    b    c    d    e    f    g    h    i\n",
      "0  [6]  [9]  [3]  [7]  [8]  [4]  [5]  [1]  [2]\n",
      "1  [4]  [8]  [7]  [5]  [1]  [2]  [9]  [3]  [6]\n",
      "2  [1]  [2]  [5]  [9]  [6]  [3]  [8]  [7]  [4]\n",
      "3  [9]  [3]  [2]  [6]  [5]  [1]  [4]  [8]  [7]\n",
      "4  [5]  [6]  [8]  [2]  [4]  [7]  [3]  [9]  [1]\n",
      "5  [7]  [4]  [1]  [3]  [9]  [8]  [6]  [2]  [5]\n",
      "6  [3]  [1]  [9]  [4]  [7]  [5]  [2]  [6]  [8]\n",
      "7  [8]  [5]  [6]  [1]  [2]  [9]  [7]  [4]  [3]\n",
      "8  [2]  [7]  [4]  [8]  [3]  [6]  [1]  [5]  [9]\n"
     ]
    },
    {
     "data": {
      "text/plain": [
       "1"
      ]
     },
     "execution_count": 20,
     "metadata": {},
     "output_type": "execute_result"
    }
   ],
   "source": [
    "sev_clue(content[0][0:80])"
   ]
  },
  {
   "cell_type": "code",
   "execution_count": null,
   "metadata": {},
   "outputs": [],
   "source": []
  }
 ],
 "metadata": {
  "kernelspec": {
   "display_name": "Python 3",
   "language": "python",
   "name": "python3"
  },
  "language_info": {
   "codemirror_mode": {
    "name": "ipython",
    "version": 3
   },
   "file_extension": ".py",
   "mimetype": "text/x-python",
   "name": "python",
   "nbconvert_exporter": "python",
   "pygments_lexer": "ipython3",
   "version": "3.7.6"
  }
 },
 "nbformat": 4,
 "nbformat_minor": 4
}
