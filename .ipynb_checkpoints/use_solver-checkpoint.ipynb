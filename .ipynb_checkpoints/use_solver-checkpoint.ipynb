{
 "cells": [
  {
   "cell_type": "code",
   "execution_count": 1,
   "metadata": {},
   "outputs": [],
   "source": [
    "from solver import sudoku"
   ]
  },
  {
   "cell_type": "code",
   "execution_count": 2,
   "metadata": {},
   "outputs": [],
   "source": [
    "arr = sudoku()"
   ]
  },
  {
   "cell_type": "code",
   "execution_count": 3,
   "metadata": {},
   "outputs": [],
   "source": [
    "arr.sudoku_array[4] = [9]\n",
    "arr.sudoku_array[6] = [3]\n",
    "arr.sudoku_array[10] = [4]\n",
    "arr.sudoku_array[11] = [9]\n",
    "arr.sudoku_array[15] = [7]\n",
    "arr.sudoku_array[19] = [5]\n",
    "arr.sudoku_array[20] = [6]\n",
    "arr.sudoku_array[30] = [6]\n",
    "arr.sudoku_array[32] = [8]\n",
    "arr.sudoku_array[40] = [3]\n",
    "arr.sudoku_array[41] = [2]\n",
    "arr.sudoku_array[46] = [8]\n",
    "arr.sudoku_array[48] = [9]\n",
    "arr.sudoku_array[49] = [1]\n",
    "arr.sudoku_array[51] = [2]\n",
    "arr.sudoku_array[53] = [4]\n",
    "arr.sudoku_array[55] = [9]\n",
    "arr.sudoku_array[59] = [4]\n",
    "arr.sudoku_array[60] = [1]\n",
    "arr.sudoku_array[62] = [2]\n",
    "arr.sudoku_array[65] = [4]\n",
    "arr.sudoku_array[69] = [5]\n",
    "arr.sudoku_array[71] = [8]\n",
    "arr.sudoku_array[76] = [6]\n",
    "arr.sudoku_array[80] = [9]"
   ]
  },
  {
   "cell_type": "code",
   "execution_count": 4,
   "metadata": {},
   "outputs": [
    {
     "name": "stdout",
     "output_type": "stream",
     "text": [
      "     a    b    c    d    e    f    g    h    i\n",
      "0  [8]  [7]  [1]  [2]  [9]  [6]  [3]  [4]  [5]\n",
      "1  [3]  [4]  [9]  [5]  [8]  [1]  [7]  [2]  [6]\n",
      "2  [2]  [5]  [6]  [7]  [4]  [3]  [8]  [9]  [1]\n",
      "3  [4]  [2]  [7]  [6]  [5]  [8]  [9]  [1]  [3]\n",
      "4  [9]  [1]  [5]  [4]  [3]  [2]  [6]  [8]  [7]\n",
      "5  [6]  [8]  [3]  [9]  [1]  [7]  [2]  [5]  [4]\n",
      "6  [5]  [9]  [8]  [3]  [7]  [4]  [1]  [6]  [2]\n",
      "7  [7]  [6]  [4]  [1]  [2]  [9]  [5]  [3]  [8]\n",
      "8  [1]  [3]  [2]  [8]  [6]  [5]  [4]  [7]  [9]\n"
     ]
    }
   ],
   "source": [
    "arr.verbose = 0\n",
    "arr.row_excl_update()\n",
    "arr.col_excl_update()\n",
    "arr.box_excl_update()\n",
    "arr.solve()"
   ]
  },
  {
   "cell_type": "code",
   "execution_count": 27,
   "metadata": {},
   "outputs": [],
   "source": [
    "f = open('/Users/z001t72/Documents/Training/Sudoku/all_17_clue_sudokus.txt', 'r')\n",
    "content = f.readlines()\n",
    "f.close()"
   ]
  },
  {
   "cell_type": "code",
   "execution_count": 58,
   "metadata": {},
   "outputs": [],
   "source": [
    "for i in range(1):\n",
    "    arr = sudoku()\n",
    "    for j in range(len(content[i])-1):\n",
    "        if int(content[i][j]) != 0: arr.sudoku_array[j] = [int(content[i][j])]"
   ]
  },
  {
   "cell_type": "code",
   "execution_count": 59,
   "metadata": {},
   "outputs": [
    {
     "name": "stdout",
     "output_type": "stream",
     "text": [
      "                             a                            b  \\\n",
      "0  [1, 2, 3, 4, 5, 6, 7, 8, 9]  [1, 2, 3, 4, 5, 6, 7, 8, 9]   \n",
      "1                          [4]  [1, 2, 3, 4, 5, 6, 7, 8, 9]   \n",
      "2  [1, 2, 3, 4, 5, 6, 7, 8, 9]                          [2]   \n",
      "3  [1, 2, 3, 4, 5, 6, 7, 8, 9]  [1, 2, 3, 4, 5, 6, 7, 8, 9]   \n",
      "4  [1, 2, 3, 4, 5, 6, 7, 8, 9]  [1, 2, 3, 4, 5, 6, 7, 8, 9]   \n",
      "5  [1, 2, 3, 4, 5, 6, 7, 8, 9]  [1, 2, 3, 4, 5, 6, 7, 8, 9]   \n",
      "6                          [3]  [1, 2, 3, 4, 5, 6, 7, 8, 9]   \n",
      "7  [1, 2, 3, 4, 5, 6, 7, 8, 9]                          [5]   \n",
      "8  [1, 2, 3, 4, 5, 6, 7, 8, 9]  [1, 2, 3, 4, 5, 6, 7, 8, 9]   \n",
      "\n",
      "                             c                            d  \\\n",
      "0  [1, 2, 3, 4, 5, 6, 7, 8, 9]  [1, 2, 3, 4, 5, 6, 7, 8, 9]   \n",
      "1  [1, 2, 3, 4, 5, 6, 7, 8, 9]  [1, 2, 3, 4, 5, 6, 7, 8, 9]   \n",
      "2  [1, 2, 3, 4, 5, 6, 7, 8, 9]  [1, 2, 3, 4, 5, 6, 7, 8, 9]   \n",
      "3  [1, 2, 3, 4, 5, 6, 7, 8, 9]  [1, 2, 3, 4, 5, 6, 7, 8, 9]   \n",
      "4                          [8]  [1, 2, 3, 4, 5, 6, 7, 8, 9]   \n",
      "5                          [1]  [1, 2, 3, 4, 5, 6, 7, 8, 9]   \n",
      "6  [1, 2, 3, 4, 5, 6, 7, 8, 9]                          [4]   \n",
      "7  [1, 2, 3, 4, 5, 6, 7, 8, 9]                          [1]   \n",
      "8  [1, 2, 3, 4, 5, 6, 7, 8, 9]                          [8]   \n",
      "\n",
      "                             e                            f  \\\n",
      "0  [1, 2, 3, 4, 5, 6, 7, 8, 9]  [1, 2, 3, 4, 5, 6, 7, 8, 9]   \n",
      "1  [1, 2, 3, 4, 5, 6, 7, 8, 9]  [1, 2, 3, 4, 5, 6, 7, 8, 9]   \n",
      "2  [1, 2, 3, 4, 5, 6, 7, 8, 9]  [1, 2, 3, 4, 5, 6, 7, 8, 9]   \n",
      "3                          [5]  [1, 2, 3, 4, 5, 6, 7, 8, 9]   \n",
      "4  [1, 2, 3, 4, 5, 6, 7, 8, 9]  [1, 2, 3, 4, 5, 6, 7, 8, 9]   \n",
      "5                          [9]  [1, 2, 3, 4, 5, 6, 7, 8, 9]   \n",
      "6  [1, 2, 3, 4, 5, 6, 7, 8, 9]  [1, 2, 3, 4, 5, 6, 7, 8, 9]   \n",
      "7  [1, 2, 3, 4, 5, 6, 7, 8, 9]  [1, 2, 3, 4, 5, 6, 7, 8, 9]   \n",
      "8  [1, 2, 3, 4, 5, 6, 7, 8, 9]                          [6]   \n",
      "\n",
      "                             g                            h  \\\n",
      "0  [1, 2, 3, 4, 5, 6, 7, 8, 9]                          [1]   \n",
      "1  [1, 2, 3, 4, 5, 6, 7, 8, 9]  [1, 2, 3, 4, 5, 6, 7, 8, 9]   \n",
      "2  [1, 2, 3, 4, 5, 6, 7, 8, 9]  [1, 2, 3, 4, 5, 6, 7, 8, 9]   \n",
      "3                          [4]  [1, 2, 3, 4, 5, 6, 7, 8, 9]   \n",
      "4                          [3]  [1, 2, 3, 4, 5, 6, 7, 8, 9]   \n",
      "5  [1, 2, 3, 4, 5, 6, 7, 8, 9]  [1, 2, 3, 4, 5, 6, 7, 8, 9]   \n",
      "6                          [2]  [1, 2, 3, 4, 5, 6, 7, 8, 9]   \n",
      "7  [1, 2, 3, 4, 5, 6, 7, 8, 9]  [1, 2, 3, 4, 5, 6, 7, 8, 9]   \n",
      "8  [1, 2, 3, 4, 5, 6, 7, 8, 9]  [1, 2, 3, 4, 5, 6, 7, 8, 9]   \n",
      "\n",
      "                             i  \n",
      "0  [1, 2, 3, 4, 5, 6, 7, 8, 9]  \n",
      "1  [1, 2, 3, 4, 5, 6, 7, 8, 9]  \n",
      "2  [1, 2, 3, 4, 5, 6, 7, 8, 9]  \n",
      "3                          [7]  \n",
      "4  [1, 2, 3, 4, 5, 6, 7, 8, 9]  \n",
      "5  [1, 2, 3, 4, 5, 6, 7, 8, 9]  \n",
      "6  [1, 2, 3, 4, 5, 6, 7, 8, 9]  \n",
      "7  [1, 2, 3, 4, 5, 6, 7, 8, 9]  \n",
      "8  [1, 2, 3, 4, 5, 6, 7, 8, 9]  \n"
     ]
    }
   ],
   "source": [
    "arr.print_sudoku()"
   ]
  },
  {
   "cell_type": "code",
   "execution_count": null,
   "metadata": {},
   "outputs": [],
   "source": [
    "arr.verbose = 0\n",
    "arr.row_excl_update()\n",
    "arr.col_excl_update()\n",
    "arr.box_excl_update()\n",
    "arr.solve()"
   ]
  },
  {
   "cell_type": "code",
   "execution_count": null,
   "metadata": {},
   "outputs": [],
   "source": []
  }
 ],
 "metadata": {
  "kernelspec": {
   "display_name": "Python 3",
   "language": "python",
   "name": "python3"
  },
  "language_info": {
   "codemirror_mode": {
    "name": "ipython",
    "version": 3
   },
   "file_extension": ".py",
   "mimetype": "text/x-python",
   "name": "python",
   "nbconvert_exporter": "python",
   "pygments_lexer": "ipython3",
   "version": "3.7.6"
  }
 },
 "nbformat": 4,
 "nbformat_minor": 4
}
