{
 "cells": [
  {
   "cell_type": "markdown",
   "metadata": {},
   "source": [
    "## Pseudo code"
   ]
  },
  {
   "cell_type": "markdown",
   "metadata": {},
   "source": [
    "1. Create 81 lists, each with 9 elements\n",
    "2. Perform hard assign. Overwrite the values of the lists based on initial values provided by Sudoku question\n",
    "3. Update elements of the list which are not assigned, based on constraints\n",
    "4. Select one list, whose length is greater than 1\n",
    "5. Perform a soft assign. Assign the least value of elements in the list, to the list\n",
    "6. Run step 3\n",
    "7. If any error, drop the assigned value from the list\n",
    "    7.1 if the length of the list is 1, then check for soft assignments run step 4 and beyond\n",
    "    7.2 if length of the list is greater than 1, then step 5 and beyond\n",
    "8. If no error, then select another list whose length is greater than 1\n",
    "9. Run step 5 and beyond"
   ]
  },
  {
   "cell_type": "markdown",
   "metadata": {},
   "source": [
    "### Constraints"
   ]
  },
  {
   "cell_type": "markdown",
   "metadata": {},
   "source": [
    "a list cannot have elements which are present in any other single length list (SLL), given the SLL appears within the same block or horizontal row or vertical row"
   ]
  },
  {
   "cell_type": "markdown",
   "metadata": {},
   "source": [
    "## Step 1: Create variables"
   ]
  },
  {
   "cell_type": "code",
   "execution_count": 33,
   "metadata": {},
   "outputs": [],
   "source": [
    "import numpy as np"
   ]
  },
  {
   "cell_type": "code",
   "execution_count": 34,
   "metadata": {},
   "outputs": [],
   "source": [
    "import pandas as pd"
   ]
  },
  {
   "cell_type": "code",
   "execution_count": 35,
   "metadata": {},
   "outputs": [],
   "source": [
    "sudoku_array = [[1, 2, 3, 4, 5, 6, 7, 8, 9]]\n",
    "for i in range(80):\n",
    "    sudoku_array.append([1, 2, 3, 4, 5, 6, 7, 8, 9])"
   ]
  },
  {
   "cell_type": "markdown",
   "metadata": {},
   "source": [
    "## Step 2: Assignment"
   ]
  },
  {
   "cell_type": "markdown",
   "metadata": {},
   "source": [
    "### Difficulty level: Easy"
   ]
  },
  {
   "cell_type": "code",
   "execution_count": 36,
   "metadata": {},
   "outputs": [],
   "source": [
    "# sudoku_array[1] = [3]\n",
    "# sudoku_array[2] = [8]\n",
    "# sudoku_array[6] = [2]\n",
    "# sudoku_array[7] = [5]\n",
    "# sudoku_array[8] = [4]\n",
    "# sudoku_array[11] = [1]\n",
    "# sudoku_array[14] = [2]\n",
    "# sudoku_array[15] = [6]\n",
    "# sudoku_array[17] = [7]\n",
    "# sudoku_array[19] = [7]\n",
    "# sudoku_array[22] = [6]\n",
    "# sudoku_array[24] = [9]\n",
    "# sudoku_array[26] = [3]\n",
    "# sudoku_array[27] = [7]\n",
    "# sudoku_array[31] = [1]\n",
    "# sudoku_array[34] = [3]\n",
    "# sudoku_array[36] = [5]\n",
    "# sudoku_array[41] = [4]\n",
    "# sudoku_array[42] = [1]\n",
    "# sudoku_array[44] = [2]\n",
    "# sudoku_array[45] = [1]\n",
    "# sudoku_array[46] = [2]\n",
    "# sudoku_array[47] = [3]\n",
    "# sudoku_array[48] = [6]\n",
    "# sudoku_array[54] = [8]\n",
    "# sudoku_array[55] = [1]\n",
    "# sudoku_array[56] = [7]\n",
    "# sudoku_array[58] = [2]\n",
    "# sudoku_array[59] = [6]\n",
    "# sudoku_array[63] = [3]\n",
    "# sudoku_array[64] = [9]\n",
    "# sudoku_array[65] = [4]\n",
    "# sudoku_array[66] = [8]\n",
    "# sudoku_array[69] = [7]\n",
    "# sudoku_array[71] = [6]\n",
    "# sudoku_array[72] = [2]\n",
    "# sudoku_array[74] = [5]\n",
    "# sudoku_array[75] = [4]"
   ]
  },
  {
   "cell_type": "markdown",
   "metadata": {},
   "source": [
    "#### difficulty level: Medium"
   ]
  },
  {
   "cell_type": "code",
   "execution_count": 37,
   "metadata": {},
   "outputs": [],
   "source": [
    "# sudoku_array[1] = [7]\n",
    "# sudoku_array[2] = [2]\n",
    "# sudoku_array[3] = [5]\n",
    "# sudoku_array[8] = [4]\n",
    "# sudoku_array[12] = [8]\n",
    "# sudoku_array[15] = [6]\n",
    "# sudoku_array[18] = [8]\n",
    "# sudoku_array[19] = [3]\n",
    "# sudoku_array[24] = [2]\n",
    "# sudoku_array[25] = [5]\n",
    "# sudoku_array[27] = [1]\n",
    "# sudoku_array[31] = [9]\n",
    "# sudoku_array[32] = [6]\n",
    "# sudoku_array[33] = [8]\n",
    "# sudoku_array[37] = [8]\n",
    "# sudoku_array[38] = [4]\n",
    "# sudoku_array[43] = [9]\n",
    "# sudoku_array[44] = [6]\n",
    "# sudoku_array[47] = [6]\n",
    "# sudoku_array[49] = [1]\n",
    "# sudoku_array[50] = [8]\n",
    "# sudoku_array[51] = [7]\n",
    "# sudoku_array[52] = [4]\n",
    "# sudoku_array[54] = [4]\n",
    "# sudoku_array[57] = [9]\n",
    "# sudoku_array[65] = [3]\n",
    "# sudoku_array[68] = [5]\n",
    "# sudoku_array[73] = [2]\n",
    "# sudoku_array[75] = [3]\n",
    "# sudoku_array[76] = [7]"
   ]
  },
  {
   "cell_type": "markdown",
   "metadata": {},
   "source": [
    "https://sudoku.com"
   ]
  },
  {
   "cell_type": "markdown",
   "metadata": {},
   "source": [
    "<img src=\"difficulty_medium_p1.png\">"
   ]
  },
  {
   "cell_type": "markdown",
   "metadata": {},
   "source": [
    "another Medium difficulty problem"
   ]
  },
  {
   "cell_type": "code",
   "execution_count": 38,
   "metadata": {},
   "outputs": [],
   "source": [
    "# sudoku_array[2] = [6]\n",
    "# sudoku_array[3] = [4]\n",
    "# sudoku_array[5] = [7]\n",
    "# sudoku_array[13] = [8]\n",
    "# sudoku_array[17] = [5]\n",
    "# sudoku_array[19] = [2]\n",
    "# sudoku_array[22] = [1]\n",
    "# sudoku_array[28] = [9]\n",
    "# sudoku_array[30] = [7]\n",
    "# sudoku_array[31] = [6]\n",
    "# sudoku_array[36] = [7]\n",
    "# sudoku_array[38] = [3]\n",
    "# sudoku_array[40] = [9]\n",
    "# sudoku_array[41] = [8]\n",
    "# sudoku_array[43] = [2]\n",
    "# sudoku_array[44] = [6]\n",
    "# sudoku_array[46] = [5]\n",
    "# sudoku_array[52] = [9]\n",
    "# sudoku_array[53] = [7]\n",
    "# sudoku_array[56] = [2]\n",
    "# sudoku_array[57] = [8]\n",
    "# sudoku_array[59] = [1]\n",
    "# sudoku_array[62] = [4]\n",
    "# sudoku_array[64] = [1]\n",
    "# sudoku_array[68] = [9]\n",
    "# sudoku_array[70] = [6]\n",
    "# sudoku_array[73] = [3]\n",
    "# sudoku_array[74] = [7]\n",
    "# sudoku_array[76] = [5]\n",
    "# sudoku_array[78] = [8]"
   ]
  },
  {
   "cell_type": "markdown",
   "metadata": {},
   "source": [
    "<img src=\"difficulty_medium_p2.png\">"
   ]
  },
  {
   "cell_type": "markdown",
   "metadata": {},
   "source": [
    "#### difficulty level: Hard"
   ]
  },
  {
   "cell_type": "code",
   "execution_count": 39,
   "metadata": {},
   "outputs": [],
   "source": [
    "# sudoku_array[0] = [9]\n",
    "# sudoku_array[10] = [6]\n",
    "# sudoku_array[15] = [5]\n",
    "# sudoku_array[21] = [2]\n",
    "# sudoku_array[24] = [7]\n",
    "# sudoku_array[25] = [6]\n",
    "# sudoku_array[27] = [4]\n",
    "# sudoku_array[28] = [5]\n",
    "# sudoku_array[31] = [9]\n",
    "# sudoku_array[34] = [8]\n",
    "# sudoku_array[36] = [7]\n",
    "# sudoku_array[40] = [4]\n",
    "# sudoku_array[43] = [1]\n",
    "# sudoku_array[45] = [3]\n",
    "# sudoku_array[48] = [5]\n",
    "# sudoku_array[54] = [5]\n",
    "# sudoku_array[55] = [4]\n",
    "# sudoku_array[56] = [3]\n",
    "# sudoku_array[62] = [1]\n",
    "# sudoku_array[63] = [1]\n",
    "# sudoku_array[67] = [7]\n",
    "# sudoku_array[75] = [8]\n",
    "# sudoku_array[77] = [1]\n",
    "# sudoku_array[79] = [4]\n",
    "# sudoku_array[80] = [9]"
   ]
  },
  {
   "cell_type": "markdown",
   "metadata": {},
   "source": [
    "<img src=\"difficulty_hard_p1.png\">"
   ]
  },
  {
   "cell_type": "markdown",
   "metadata": {},
   "source": [
    "another Hard difficulty problem"
   ]
  },
  {
   "cell_type": "code",
   "execution_count": 40,
   "metadata": {},
   "outputs": [],
   "source": [
    "# sudoku_array[4] = [9]\n",
    "# sudoku_array[6] = [3]\n",
    "# sudoku_array[10] = [4]\n",
    "# sudoku_array[11] = [9]\n",
    "# sudoku_array[15] = [7]\n",
    "# sudoku_array[19] = [5]\n",
    "# sudoku_array[20] = [6]\n",
    "# sudoku_array[30] = [6]\n",
    "# sudoku_array[32] = [8]\n",
    "# sudoku_array[40] = [3]\n",
    "# sudoku_array[41] = [2]\n",
    "# sudoku_array[46] = [8]\n",
    "# sudoku_array[48] = [9]\n",
    "# sudoku_array[49] = [1]\n",
    "# sudoku_array[51] = [2]\n",
    "# sudoku_array[53] = [4]\n",
    "# sudoku_array[55] = [9]\n",
    "# sudoku_array[59] = [4]\n",
    "# sudoku_array[60] = [1]\n",
    "# sudoku_array[62] = [2]\n",
    "# sudoku_array[65] = [4]\n",
    "# sudoku_array[69] = [5]\n",
    "# sudoku_array[71] = [8]\n",
    "# sudoku_array[76] = [6]\n",
    "# sudoku_array[80] = [9]"
   ]
  },
  {
   "cell_type": "markdown",
   "metadata": {},
   "source": [
    "<img src=\"difficulty_hard_p2.png\">"
   ]
  },
  {
   "cell_type": "markdown",
   "metadata": {},
   "source": [
    "#### difficulty level: Expert"
   ]
  },
  {
   "cell_type": "code",
   "execution_count": 41,
   "metadata": {},
   "outputs": [],
   "source": [
    "sudoku_array[2] = [7]\n",
    "sudoku_array[4] = [1]\n",
    "sudoku_array[7] = [6]\n",
    "sudoku_array[8] = [5]\n",
    "sudoku_array[9] = [9]\n",
    "sudoku_array[12] = [7]\n",
    "sudoku_array[15] = [2]\n",
    "sudoku_array[19] = [8]\n",
    "sudoku_array[28] = [9]\n",
    "sudoku_array[32] = [1]\n",
    "sudoku_array[35] = [7]\n",
    "sudoku_array[38] = [4]\n",
    "sudoku_array[42] = [9]\n",
    "sudoku_array[43] = [1]\n",
    "sudoku_array[46] = [3]\n",
    "sudoku_array[56] = [1]\n",
    "sudoku_array[58] = [4]\n",
    "sudoku_array[61] = [2]\n",
    "sudoku_array[62] = [9]\n",
    "sudoku_array[67] = [2]\n",
    "sudoku_array[70] = [5]\n",
    "sudoku_array[73] = [5]\n",
    "sudoku_array[78] = [3]"
   ]
  },
  {
   "cell_type": "markdown",
   "metadata": {},
   "source": [
    "<img src=\"difficulty_expert_p1.png\">"
   ]
  },
  {
   "cell_type": "markdown",
   "metadata": {},
   "source": [
    "## Step 3: Update table"
   ]
  },
  {
   "cell_type": "code",
   "execution_count": 42,
   "metadata": {},
   "outputs": [],
   "source": [
    "def row_excl_update():\n",
    "    global row_excl\n",
    "    row_excl = [[0],[0],[0],[0],[0],[0],[0],[0],[0]]\n",
    "    for i in range(0,80,9):\n",
    "        k = i//9\n",
    "        for j in range(i, i+9):\n",
    "            if len(sudoku_array[j]) == 1:\n",
    "                row_excl[k] = row_excl[k] + sudoku_array[j]\n",
    "    return(row_excl)"
   ]
  },
  {
   "cell_type": "code",
   "execution_count": 43,
   "metadata": {},
   "outputs": [
    {
     "data": {
      "text/plain": [
       "[[0, 7, 1, 6, 5],\n",
       " [0, 9, 7, 2],\n",
       " [0, 8],\n",
       " [0, 9, 1, 7],\n",
       " [0, 4, 9, 1],\n",
       " [0, 3],\n",
       " [0, 1, 4, 2, 9],\n",
       " [0, 2, 5],\n",
       " [0, 5, 3]]"
      ]
     },
     "execution_count": 43,
     "metadata": {},
     "output_type": "execute_result"
    }
   ],
   "source": [
    "row_excl_update()"
   ]
  },
  {
   "cell_type": "code",
   "execution_count": 44,
   "metadata": {},
   "outputs": [],
   "source": [
    "def row_condn(i):\n",
    "    sudoku_array[i] = [x for x in sudoku_array[i] if x not in row_excl[i//9]]"
   ]
  },
  {
   "cell_type": "code",
   "execution_count": 45,
   "metadata": {},
   "outputs": [],
   "source": [
    "def col_excl_update():\n",
    "    global col_excl\n",
    "    col_excl = [[0],[0],[0],[0],[0],[0],[0],[0],[0]]\n",
    "    for i in range(9):\n",
    "        k = i\n",
    "        for j in range(i, 80, 9):\n",
    "            if len(sudoku_array[j]) == 1:\n",
    "                col_excl[k] = col_excl[k] + sudoku_array[j]\n",
    "    return(col_excl)"
   ]
  },
  {
   "cell_type": "code",
   "execution_count": 46,
   "metadata": {},
   "outputs": [
    {
     "data": {
      "text/plain": [
       "[[0, 9],\n",
       " [0, 8, 9, 3, 5],\n",
       " [0, 7, 4, 1],\n",
       " [0, 7],\n",
       " [0, 1, 4, 2],\n",
       " [0, 1],\n",
       " [0, 2, 9, 3],\n",
       " [0, 6, 1, 2, 5],\n",
       " [0, 5, 7, 9]]"
      ]
     },
     "execution_count": 46,
     "metadata": {},
     "output_type": "execute_result"
    }
   ],
   "source": [
    "col_excl_update()"
   ]
  },
  {
   "cell_type": "code",
   "execution_count": 47,
   "metadata": {},
   "outputs": [],
   "source": [
    "def col_condn(i):\n",
    "    sudoku_array[i] = [x for x in sudoku_array[i] if x not in col_excl[i%9]]"
   ]
  },
  {
   "cell_type": "code",
   "execution_count": 48,
   "metadata": {},
   "outputs": [],
   "source": [
    "def box_excl_update():\n",
    "    global box_excl\n",
    "    box_excl = [[0],[0],[0],[0],[0],[0],[0],[0],[0]]\n",
    "    for i in range(81):\n",
    "        k = ((i//3)//9)*3 + ((i//3)%3)\n",
    "        if len(sudoku_array[i]) == 1:\n",
    "            box_excl[k] = box_excl[k] + sudoku_array[i]\n",
    "    return(box_excl)"
   ]
  },
  {
   "cell_type": "code",
   "execution_count": 49,
   "metadata": {},
   "outputs": [
    {
     "data": {
      "text/plain": [
       "[[0, 7, 9, 8],\n",
       " [0, 1, 7],\n",
       " [0, 6, 5, 2],\n",
       " [0, 9, 4, 3],\n",
       " [0, 1],\n",
       " [0, 7, 9, 1],\n",
       " [0, 1, 5],\n",
       " [0, 4, 2],\n",
       " [0, 2, 9, 5, 3]]"
      ]
     },
     "execution_count": 49,
     "metadata": {},
     "output_type": "execute_result"
    }
   ],
   "source": [
    "box_excl_update()"
   ]
  },
  {
   "cell_type": "code",
   "execution_count": 50,
   "metadata": {},
   "outputs": [
    {
     "data": {
      "text/plain": [
       "[[0, 7, 9, 8],\n",
       " [0, 1, 7],\n",
       " [0, 6, 5, 2],\n",
       " [0, 9, 4, 3],\n",
       " [0, 1],\n",
       " [0, 7, 9, 1],\n",
       " [0, 1, 5],\n",
       " [0, 4, 2],\n",
       " [0, 2, 9, 5, 3]]"
      ]
     },
     "execution_count": 50,
     "metadata": {},
     "output_type": "execute_result"
    }
   ],
   "source": [
    "box_excl"
   ]
  },
  {
   "cell_type": "code",
   "execution_count": 51,
   "metadata": {},
   "outputs": [],
   "source": [
    "def box_condn(i):\n",
    "    sudoku_array[i] = [x for x in sudoku_array[i] if x not in box_excl[((i//3)//9)*3 + ((i//3)%3)]]"
   ]
  },
  {
   "cell_type": "code",
   "execution_count": 52,
   "metadata": {},
   "outputs": [],
   "source": [
    "def issue_check():\n",
    "    global error_flag_duplicate_list\n",
    "    global error_flag_zero_list\n",
    "    error_flag_duplicate_list = 0\n",
    "    error_flag_zero_list = 0\n",
    "    \n",
    "    for i in range(9):\n",
    "        if len([x for x in box_excl[i] if box_excl[i].count(x) > 1]) > 0: error_flag_duplicate_list+=1\n",
    "        if len([x for x in box_excl[i] if row_excl[i].count(x) > 1]) > 0: error_flag_duplicate_list+=1\n",
    "        if len([x for x in box_excl[i] if col_excl[i].count(x) > 1]) > 0: error_flag_duplicate_list+=1\n",
    "    \n",
    "    for i in range(81):\n",
    "        if len(sudoku_array[i]) < 1: error_flag_zero_list+=1\n",
    "    \n",
    "    if error_flag_duplicate_list > 0:\n",
    "        print(\"duplicate list error\")\n",
    "\n",
    "    if error_flag_zero_list > 0:\n",
    "        print(\"zero list error\")"
   ]
  },
  {
   "cell_type": "code",
   "execution_count": 53,
   "metadata": {},
   "outputs": [],
   "source": [
    "#issue_check()"
   ]
  },
  {
   "cell_type": "code",
   "execution_count": 54,
   "metadata": {},
   "outputs": [],
   "source": [
    "def filled_cnt():\n",
    "    global filled_cnt_val\n",
    "    filled_cnt_val = 0\n",
    "    for i in range(81):\n",
    "        if len(sudoku_array[i]) == 1:\n",
    "            filled_cnt_val+=1\n",
    "    return(filled_cnt_val)"
   ]
  },
  {
   "cell_type": "code",
   "execution_count": 55,
   "metadata": {},
   "outputs": [],
   "source": [
    "def print_sudoku():\n",
    "    sudoku_pd = pd.DataFrame(columns = ('a','b','c','d','e','f','g','h','i')) \n",
    "    \n",
    "    for i in range(9):\n",
    "        sudoku_pd = sudoku_pd.append({\"a\":sudoku_array[(i*9)+0],\n",
    "                                      \"b\":sudoku_array[(i*9)+1],\n",
    "                                      \"c\":sudoku_array[(i*9)+2],\n",
    "                                      \"d\":sudoku_array[(i*9)+3],\n",
    "                                      \"e\":sudoku_array[(i*9)+4],\n",
    "                                      \"f\":sudoku_array[(i*9)+5],\n",
    "                                      \"g\":sudoku_array[(i*9)+6],\n",
    "                                      \"h\":sudoku_array[(i*9)+7],\n",
    "                                      \"i\":sudoku_array[(i*9)+8]},ignore_index=True)\n",
    "    \n",
    "    return(sudoku_pd)"
   ]
  },
  {
   "cell_type": "code",
   "execution_count": 56,
   "metadata": {},
   "outputs": [],
   "source": [
    "def naked_single():\n",
    "    print(\"running naked single\")\n",
    "    print(\"filled cells at start: \",filled_cnt())\n",
    "    for i in range(81):\n",
    "        if len(sudoku_array[i]) > 1: row_condn(i)\n",
    "        if len(sudoku_array[i]) > 1: col_condn(i)\n",
    "        if len(sudoku_array[i]) > 1: box_condn(i)\n",
    "    print(\"filled cells at end: \",filled_cnt())\n",
    "    row_excl_update()\n",
    "    col_excl_update()\n",
    "    box_excl_update()\n",
    "    issue_check()"
   ]
  },
  {
   "cell_type": "code",
   "execution_count": 57,
   "metadata": {},
   "outputs": [],
   "source": [
    "def hidden_single():\n",
    "    print(\"running hidden single\")\n",
    "    print(\"filled cells at start: \",filled_cnt())\n",
    "    for i in range(81):\n",
    "        # row checks\n",
    "        k = i//9\n",
    "        rest = []\n",
    "        if len(sudoku_array[i]) > 1:\n",
    "            for j in range(k*9, (k*9)+9):\n",
    "                if((i!=j)) : rest = np.append(rest, sudoku_array[j])\n",
    "            if len(np.setdiff1d(sudoku_array[i], rest)) == 1:\n",
    "                sudoku_array[i] = [np.setdiff1d(sudoku_array[i], rest)[0]]\n",
    "        \n",
    "        # column checks\n",
    "        k = i//9\n",
    "        rest = []\n",
    "        if len(sudoku_array[i]) > 1:\n",
    "            for j in range(k, 81, 9):\n",
    "                if((i!=j)) : rest = np.append(rest, sudoku_array[j])\n",
    "            if len(np.setdiff1d(sudoku_array[i], rest)) == 1:\n",
    "                sudoku_array[i] = [np.setdiff1d(sudoku_array[i], rest)[0]]\n",
    "        \n",
    "        # box checks\n",
    "        rest = []\n",
    "        if len(sudoku_array[i]) > 1:\n",
    "            for j in range((((i%9)//3)*3)+(((i//9)//3)*27),(((i%9)//3)*3)+(((i//9)//3)*27)+3):\n",
    "                if((i!=j)) : rest = np.append(rest, sudoku_array[j])\n",
    "            for j in range((((i%9)//3)*3)+(((i//9)//3)*27)+9,(((i%9)//3)*3)+(((i//9)//3)*27)+12):\n",
    "                if((i!=j)) : rest = np.append(rest, sudoku_array[j])\n",
    "            for j in range((((i%9)//3)*3)+(((i//9)//3)*27)+18,(((i%9)//3)*3)+(((i//9)//3)*27)+21):\n",
    "                if((i!=j)) : rest = np.append(rest, sudoku_array[j])\n",
    "            if len(np.setdiff1d(sudoku_array[i], rest)) == 1:\n",
    "                sudoku_array[i] = [np.setdiff1d(sudoku_array[i], rest)[0]]\n",
    "            \n",
    "    print(\"filled cells at end: \",filled_cnt())\n",
    "    row_excl_update()\n",
    "    col_excl_update()\n",
    "    box_excl_update()\n",
    "    issue_check()"
   ]
  },
  {
   "cell_type": "code",
   "execution_count": 58,
   "metadata": {},
   "outputs": [],
   "source": [
    "# re_evaluation()\n",
    "# print_sudoku()"
   ]
  },
  {
   "cell_type": "markdown",
   "metadata": {},
   "source": [
    "## Step 4: Soft assignment"
   ]
  },
  {
   "cell_type": "code",
   "execution_count": 59,
   "metadata": {},
   "outputs": [],
   "source": [
    "bkup_stack = list()\n",
    "index_value_stack = list()"
   ]
  },
  {
   "cell_type": "code",
   "execution_count": 60,
   "metadata": {},
   "outputs": [],
   "source": [
    "def soft_assignment():\n",
    "    print(\"soft assignment starting...\")\n",
    "    bkup_stack.append(sudoku_array[:])\n",
    "    print(\"copied dataset to bkup_stack\")\n",
    "    \n",
    "    global index_value\n",
    "#     index_value = next(sudoku_array.index(x) for x in sudoku_array if len(x) > 1)\n",
    "    index_value = next(self.sudoku_array.index(x) for x in sorted(self.sudoku_array, key=len) if len(x) > 1)\n",
    "    sudoku_array[index_value] = [sudoku_array[index_value][0]]\n",
    "    index_value_stack.append(index_value)\n",
    "    \n",
    "    print(\"element #\",index_value,\" of the sudoku array is being assigned value:\", sudoku_array[index_value])\n",
    "    print(\"updating row, col and box exclusion rules\")\n",
    "    row_excl_update()\n",
    "    col_excl_update()\n",
    "    box_excl_update()\n",
    "    print(\"---soft assignment complete---\")"
   ]
  },
  {
   "cell_type": "code",
   "execution_count": 61,
   "metadata": {},
   "outputs": [],
   "source": [
    "def update_array():\n",
    "    print(\"updating array based on latest assignments...\")\n",
    "    fc_s = 0\n",
    "    fc_e = 1\n",
    "    while (fc_s < fc_e):\n",
    "        fc_s = filled_cnt()\n",
    "        naked_single()\n",
    "        hidden_single()\n",
    "        fc_e = filled_cnt()\n",
    "        if (error_flag_duplicate_list + error_flag_zero_list) > 0:\n",
    "            cancel_assignment()\n",
    "            break\n",
    "    print(print_sudoku())\n",
    "    print(\"---array update complete---\")"
   ]
  },
  {
   "cell_type": "code",
   "execution_count": 62,
   "metadata": {},
   "outputs": [],
   "source": [
    "def cancel_assignment():\n",
    "    global sudoku_array\n",
    "    print(\"issue encountered. running cancellation...\")\n",
    "    print(\"cancelling assignment at index \", index_value_stack[len(index_value_stack)-1])\n",
    "    sudoku_array.clear()\n",
    "    sudoku_array = bkup_stack[len(bkup_stack)-1][:]\n",
    "    sudoku_array[index_value_stack[len(index_value_stack)-1]] = sudoku_array[index_value_stack[len(index_value_stack)-1]][1:]\n",
    "    bkup_stack.pop()\n",
    "    index_value_stack.pop()\n",
    "    print(\"---cancelling assignment complete---\")\n",
    "    \n",
    "    print(\"updating row, col and box exclusion rules\")\n",
    "    row_excl_update()\n",
    "    col_excl_update()\n",
    "    box_excl_update()\n",
    "    update_array()"
   ]
  },
  {
   "cell_type": "code",
   "execution_count": 63,
   "metadata": {},
   "outputs": [],
   "source": [
    "def recursive_eval():\n",
    "    soft_assignment()\n",
    "    \n",
    "    update_array()\n",
    "    \n",
    "    if filled_cnt_val == 81:\n",
    "        return(print(print_sudoku()))\n",
    "    \n",
    "    else:\n",
    "        recursive_eval()"
   ]
  },
  {
   "cell_type": "code",
   "execution_count": 64,
   "metadata": {},
   "outputs": [
    {
     "name": "stdout",
     "output_type": "stream",
     "text": [
      "updating array based on latest assignments...\n",
      "running naked single\n",
      "filled cells at start:  23\n",
      "filled cells at end:  23\n",
      "                    a          b             c                   d  \\\n",
      "0           [2, 3, 4]     [2, 4]           [7]     [2, 3, 4, 8, 9]   \n",
      "1                 [9]  [1, 4, 6]     [3, 5, 6]                 [7]   \n",
      "2  [1, 2, 3, 4, 5, 6]        [8]  [2, 3, 5, 6]  [2, 3, 4, 5, 6, 9]   \n",
      "3        [2, 5, 6, 8]        [9]  [2, 5, 6, 8]  [2, 3, 4, 5, 6, 8]   \n",
      "4     [2, 5, 6, 7, 8]  [2, 6, 7]           [4]     [2, 3, 5, 6, 8]   \n",
      "5  [1, 2, 5, 6, 7, 8]        [3]  [2, 5, 6, 8]  [2, 4, 5, 6, 8, 9]   \n",
      "6        [3, 6, 7, 8]     [6, 7]           [1]        [3, 5, 6, 8]   \n",
      "7     [3, 4, 6, 7, 8]  [4, 6, 7]  [3, 6, 8, 9]     [1, 3, 6, 8, 9]   \n",
      "8     [2, 4, 6, 7, 8]        [5]  [2, 6, 8, 9]        [1, 6, 8, 9]   \n",
      "\n",
      "                 e                      f                g             h  \\\n",
      "0              [1]        [2, 3, 4, 8, 9]           [4, 8]           [6]   \n",
      "1     [3, 5, 6, 8]        [3, 4, 5, 6, 8]              [2]     [3, 4, 8]   \n",
      "2     [3, 5, 6, 9]     [2, 3, 4, 5, 6, 9]        [1, 4, 7]  [3, 4, 7, 9]   \n",
      "3     [3, 5, 6, 8]                    [1]     [4, 5, 6, 8]     [3, 4, 8]   \n",
      "4  [3, 5, 6, 7, 8]     [2, 3, 5, 6, 7, 8]              [9]           [1]   \n",
      "5  [5, 6, 7, 8, 9]  [2, 4, 5, 6, 7, 8, 9]     [4, 5, 6, 8]        [4, 8]   \n",
      "6              [4]        [3, 5, 6, 7, 8]        [6, 7, 8]           [2]   \n",
      "7              [2]        [3, 6, 7, 8, 9]  [1, 4, 6, 7, 8]           [5]   \n",
      "8     [6, 7, 8, 9]           [6, 7, 8, 9]              [3]     [4, 7, 8]   \n",
      "\n",
      "              i  \n",
      "0           [5]  \n",
      "1  [1, 3, 4, 8]  \n",
      "2     [1, 3, 4]  \n",
      "3           [7]  \n",
      "4  [2, 3, 6, 8]  \n",
      "5  [2, 4, 6, 8]  \n",
      "6           [9]  \n",
      "7  [1, 4, 6, 8]  \n",
      "8  [1, 4, 6, 8]  \n",
      "---array update complete---\n"
     ]
    }
   ],
   "source": [
    "update_array()"
   ]
  },
  {
   "cell_type": "code",
   "execution_count": null,
   "metadata": {},
   "outputs": [],
   "source": []
  },
  {
   "cell_type": "code",
   "execution_count": 32,
   "metadata": {
    "scrolled": false
   },
   "outputs": [],
   "source": [
    "# recursive_eval()"
   ]
  },
  {
   "cell_type": "code",
   "execution_count": null,
   "metadata": {},
   "outputs": [],
   "source": []
  },
  {
   "cell_type": "code",
   "execution_count": null,
   "metadata": {},
   "outputs": [],
   "source": []
  },
  {
   "cell_type": "markdown",
   "metadata": {},
   "source": [
    "### hidden single"
   ]
  },
  {
   "cell_type": "code",
   "execution_count": 33,
   "metadata": {},
   "outputs": [
    {
     "data": {
      "text/plain": [
       "[1, 2, 5, 6, 7, 8]"
      ]
     },
     "execution_count": 33,
     "metadata": {},
     "output_type": "execute_result"
    }
   ],
   "source": [
    "sudoku_array[45]"
   ]
  },
  {
   "cell_type": "code",
   "execution_count": 34,
   "metadata": {},
   "outputs": [],
   "source": [
    "# row checks\n",
    "for i in range(81):\n",
    "    k = i//9\n",
    "    rest = []\n",
    "    if len(sudoku_array[i]) > 1:\n",
    "        for j in range(k*9, (k*9)+9):\n",
    "            if((i!=j)) : rest = np.append(rest, sudoku_array[j])\n",
    "        if len(np.setdiff1d(sudoku_array[i], rest)) == 1:\n",
    "            sudoku_array[i] = [np.setdiff1d(sudoku_array[i], rest)[0]]"
   ]
  },
  {
   "cell_type": "code",
   "execution_count": 35,
   "metadata": {},
   "outputs": [
    {
     "data": {
      "text/plain": [
       "[1]"
      ]
     },
     "execution_count": 35,
     "metadata": {},
     "output_type": "execute_result"
    }
   ],
   "source": [
    "sudoku_array[45]"
   ]
  },
  {
   "cell_type": "code",
   "execution_count": 47,
   "metadata": {},
   "outputs": [
    {
     "data": {
      "text/plain": [
       "[1, 4, 6]"
      ]
     },
     "execution_count": 47,
     "metadata": {},
     "output_type": "execute_result"
    }
   ],
   "source": [
    "sudoku_array[10]"
   ]
  },
  {
   "cell_type": "code",
   "execution_count": 49,
   "metadata": {},
   "outputs": [],
   "source": [
    "# column checks\n",
    "for i in range(81):\n",
    "    k = i//9\n",
    "    rest = []\n",
    "    if len(sudoku_array[i]) > 1:\n",
    "        for j in range(k, 81, 9):\n",
    "            if((i!=j)) : rest = np.append(rest, sudoku_array[j])\n",
    "        if len(np.setdiff1d(sudoku_array[i], rest)) == 1:\n",
    "            sudoku_array[i] = [np.setdiff1d(sudoku_array[i], rest)[0]]"
   ]
  },
  {
   "cell_type": "code",
   "execution_count": 50,
   "metadata": {},
   "outputs": [
    {
     "data": {
      "text/plain": [
       "[1]"
      ]
     },
     "execution_count": 50,
     "metadata": {},
     "output_type": "execute_result"
    }
   ],
   "source": [
    "sudoku_array[10]"
   ]
  },
  {
   "cell_type": "code",
   "execution_count": 83,
   "metadata": {},
   "outputs": [
    {
     "data": {
      "text/plain": [
       "[3, 4, 7, 9]"
      ]
     },
     "execution_count": 83,
     "metadata": {},
     "output_type": "execute_result"
    }
   ],
   "source": [
    "sudoku_array[25]"
   ]
  },
  {
   "cell_type": "code",
   "execution_count": 84,
   "metadata": {},
   "outputs": [],
   "source": [
    "# box checks\n",
    "for i in range(81):\n",
    "    rest = []\n",
    "    if len(sudoku_array[i]) > 1:\n",
    "        for j in range((((i%9)//3)*3)+(((i//9)//3)*27),(((i%9)//3)*3)+(((i//9)//3)*27)+3):\n",
    "            if((i!=j)) : rest = np.append(rest, sudoku_array[j])\n",
    "        for j in range((((i%9)//3)*3)+(((i//9)//3)*27)+9,(((i%9)//3)*3)+(((i//9)//3)*27)+12):\n",
    "            if((i!=j)) : rest = np.append(rest, sudoku_array[j])\n",
    "        for j in range((((i%9)//3)*3)+(((i//9)//3)*27)+18,(((i%9)//3)*3)+(((i//9)//3)*27)+21):\n",
    "            if((i!=j)) : rest = np.append(rest, sudoku_array[j])\n",
    "        if len(np.setdiff1d(sudoku_array[i], rest)) == 1:\n",
    "            sudoku_array[i] = [np.setdiff1d(sudoku_array[i], rest)[0]]"
   ]
  },
  {
   "cell_type": "code",
   "execution_count": 85,
   "metadata": {},
   "outputs": [
    {
     "data": {
      "text/plain": [
       "[9]"
      ]
     },
     "execution_count": 85,
     "metadata": {},
     "output_type": "execute_result"
    }
   ],
   "source": [
    "sudoku_array[25]"
   ]
  },
  {
   "cell_type": "code",
   "execution_count": null,
   "metadata": {},
   "outputs": [],
   "source": []
  }
 ],
 "metadata": {
  "kernelspec": {
   "display_name": "Python 3",
   "language": "python",
   "name": "python3"
  },
  "language_info": {
   "codemirror_mode": {
    "name": "ipython",
    "version": 3
   },
   "file_extension": ".py",
   "mimetype": "text/x-python",
   "name": "python",
   "nbconvert_exporter": "python",
   "pygments_lexer": "ipython3",
   "version": "3.7.6"
  }
 },
 "nbformat": 4,
 "nbformat_minor": 2
}
