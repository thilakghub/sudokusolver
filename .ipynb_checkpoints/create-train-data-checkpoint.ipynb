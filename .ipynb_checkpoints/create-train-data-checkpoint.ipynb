{
 "cells": [
  {
   "cell_type": "code",
   "execution_count": 1,
   "metadata": {},
   "outputs": [],
   "source": [
    "import cv2\n",
    "import os\n",
    "import numpy as np\n",
    "from matplotlib import pyplot as plt\n",
    "import pandas as pd\n",
    "from random import randint"
   ]
  },
  {
   "cell_type": "code",
   "execution_count": 66,
   "metadata": {},
   "outputs": [],
   "source": [
    "from keras.datasets import mnist\n",
    "from keras.models import Sequential\n",
    "from keras.layers import Dense\n",
    "from keras.layers import Dropout\n",
    "from keras.layers import Flatten\n",
    "from keras.layers.convolutional import Conv2D\n",
    "from keras.layers.convolutional import MaxPooling2D\n",
    "from keras.utils import np_utils\n",
    "import matplotlib.pyplot as plt\n",
    "from keras.utils import np_utils\n",
    "from keras import callbacks"
   ]
  },
  {
   "cell_type": "code",
   "execution_count": 3,
   "metadata": {},
   "outputs": [],
   "source": [
    "import os\n",
    "os.environ['KMP_DUPLICATE_LIB_OK']='True'"
   ]
  },
  {
   "cell_type": "code",
   "execution_count": 4,
   "metadata": {},
   "outputs": [],
   "source": [
    "def h_v(image):\n",
    "    steps = 1\n",
    "    cutoff = 220\n",
    "    h,w,d = image.shape\n",
    "    for i in range(w):\n",
    "        if(np.mean(image[i:i+1,:,:]) < cutoff):\n",
    "            image[i:i+1,:,:].fill(255)\n",
    "    for i in range(h):\n",
    "        if(np.mean(image[:,i:i+1,:]) < cutoff):\n",
    "            image[:,i:i+1,:].fill(255)\n",
    "    return(image)"
   ]
  },
  {
   "cell_type": "markdown",
   "metadata": {},
   "source": [
    "### baseline model using mulit-layer perceptron"
   ]
  },
  {
   "cell_type": "code",
   "execution_count": 78,
   "metadata": {},
   "outputs": [],
   "source": [
    "path = 'create-train-data/'\n",
    "filelist = os.listdir(path)\n",
    "filelist.sort()\n",
    "cnt = 0\n",
    "for f in filelist[:]:\n",
    "    if (f.endswith(\".png\")):\n",
    "        foo = cv2.imread(path+f)\n",
    "        \n",
    "#         removing horizontal and vertical grids\n",
    "        foo = h_v(foo)\n",
    "        \n",
    "#         making both height and width of the same dimension which is 9 * 28\n",
    "        foo = cv2.resize(foo, (252,252), interpolation = cv2.INTER_LINEAR)\n",
    "        foo = cv2.cvtColor(foo,cv2.COLOR_BGR2GRAY)\n",
    "        foo = cv2.threshold(foo, 170, 255, cv2.THRESH_BINARY_INV)[1]\n",
    "#         plt.imshow(foo)\n",
    "#         plt.show()\n",
    "        \n",
    "#         store train data\n",
    "        h,w = foo.shape\n",
    "        box = 28\n",
    "        for i in range(0,h,box):\n",
    "            for j in range(0,w,box):\n",
    "                foo_r = foo[i:i+box:, j:j+box]\n",
    "#                 plt.imshow(foo_r)\n",
    "#                 plt.show()\n",
    "\n",
    "                foo_f = foo_r.reshape(1, 784).astype('float32')\n",
    "                foo_f = foo_f/255\n",
    "                if((i==0) & (j==0)):\n",
    "                    train = foo_f.copy()\n",
    "                else:\n",
    "                    train = np.append(train, foo_f, axis = 0)\n",
    "        if cnt == 0: train_x = train.copy()\n",
    "        else: train_x = np.append(train_x, train, axis = 0)\n",
    "        cnt = cnt + 1"
   ]
  },
  {
   "cell_type": "code",
   "execution_count": 6,
   "metadata": {},
   "outputs": [],
   "source": [
    "# train_f = train_f[0:162]"
   ]
  },
  {
   "cell_type": "code",
   "execution_count": 79,
   "metadata": {},
   "outputs": [
    {
     "data": {
      "text/plain": [
       "(810, 784)"
      ]
     },
     "execution_count": 79,
     "metadata": {},
     "output_type": "execute_result"
    }
   ],
   "source": [
    "train_x.shape"
   ]
  },
  {
   "cell_type": "code",
   "execution_count": 80,
   "metadata": {},
   "outputs": [],
   "source": [
    "train_y0 = np.array([0,0,0,6,9,0,4,0,0\n",
    "                 ,0,2,9,0,0,5,0,0,3\n",
    "                 ,0,0,1,0,3,4,0,0,8\n",
    "                 ,9,8,0,0,0,1,0,7,0\n",
    "                 ,2,0,7,0,6,9,0,3,1\n",
    "                 ,0,0,3,2,0,7,5,4,0\n",
    "                 ,8,3,0,9,0,0,0,0,7\n",
    "                 ,0,0,5,0,2,0,0,0,0\n",
    "                 ,1,0,6,5,7,3,0,0,4\n",
    "                 ,6,0,0,1,0,0,0,0,2\n",
    "                 ,8,0,1,0,9,0,0,0,0\n",
    "                 ,0,7,5,0,8,4,0,0,0\n",
    "                 ,4,3,0,0,2,0,5,6,1\n",
    "                 ,5,1,8,7,0,0,4,0,9\n",
    "                 ,0,9,6,4,1,0,3,0,0\n",
    "                 ,0,0,0,0,7,0,0,0,0\n",
    "                 ,0,6,0,0,3,1,0,5,0\n",
    "                 ,7,0,2,5,4,0,6,0,3\n",
    "                 ,0,9,1,0,5,0,6,8,0\n",
    "                 ,0,0,0,6,8,7,0,0,5\n",
    "                 ,8,0,0,0,1,3,0,2,0\n",
    "                 ,4,0,0,0,0,2,0,0,0\n",
    "                 ,0,0,2,0,0,8,7,6,0\n",
    "                 ,0,8,6,4,0,0,1,0,0\n",
    "                 ,3,0,4,8,0,0,2,5,0\n",
    "                 ,1,5,8,0,0,0,3,4,0\n",
    "                 ,0,2,9,0,0,5,0,7,1\n",
    "                 ,4,0,6,7,5,1,0,8,0\n",
    "                 ,2,0,8,0,0,0,4,7,0\n",
    "                 ,0,0,0,0,0,0,9,0,6\n",
    "                 ,5,3,0,2,0,0,0,0,0\n",
    "                 ,6,4,9,1,3,0,0,0,0\n",
    "                 ,0,0,7,9,0,5,1,0,0\n",
    "                 ,0,7,0,8,2,9,0,5,0\n",
    "                 ,0,6,2,0,1,0,0,3,8\n",
    "                 ,1,8,0,0,0,7,0,0,9\n",
    "                 ,7,0,4,5,3,0,2,0,0\n",
    "                 ,0,0,8,1,6,0,0,0,0\n",
    "                 ,1,0,2,0,0,0,6,8,5\n",
    "                 ,0,0,7,9,1,0,0,6,8\n",
    "                 ,0,0,5,0,0,7,3,0,2\n",
    "                 ,6,8,0,0,5,4,1,9,0\n",
    "                 ,0,0,0,7,0,0,8,0,0\n",
    "                 ,2,5,0,0,0,0,4,7,3\n",
    "                 ,0,0,0,0,4,0,0,2,6\n",
    "                 ,7,4,5,0,9,0,0,0,0\n",
    "                 ,0,3,2,1,5,0,0,4,6\n",
    "                 ,0,0,0,2,8,0,5,0,3\n",
    "                 ,2,0,0,0,0,0,0,6,0\n",
    "                 ,9,8,0,6,0,0,3,5,1\n",
    "                 ,0,0,0,5,4,0,2,0,7\n",
    "                 ,3,0,8,0,0,0,0,0,2\n",
    "                 ,0,2,0,7,6,0,0,1,0\n",
    "                 ,0,6,0,9,0,8,0,3,4\n",
    "                 ,3,1,5,6,0,0,0,0,4\n",
    "                 ,0,9,0,0,0,0,2,0,0\n",
    "                 ,2,0,0,5,9,0,0,1,3\n",
    "                 ,0,6,0,1,7,5,0,0,0\n",
    "                 ,1,8,0,3,0,0,7,0,0\n",
    "                 ,5,3,0,0,4,0,0,9,6\n",
    "                 ,0,2,9,0,5,1,0,7,8\n",
    "                 ,0,0,0,0,3,0,0,2,0\n",
    "                 ,7,4,3,0,0,2,5,0,0\n",
    "                 ,0,0,0,7,0,0,0,0,0\n",
    "                 ,7,2,0,0,0,9,0,5,1\n",
    "                 ,8,9,1,0,2,6,0,7,0\n",
    "                 ,9,0,3,2,0,0,0,6,8\n",
    "                 ,6,8,0,1,0,0,3,4,2\n",
    "                 ,2,5,4,0,0,0,0,0,0\n",
    "                 ,0,0,9,3,1,0,6,8,0\n",
    "                 ,0,0,0,9,5,0,0,0,4\n",
    "                 ,0,3,0,6,7,0,0,1,0\n",
    "                 ,6,9,0,0,0,0,7,0,0\n",
    "                 ,0,0,0,0,9,6,0,0,0\n",
    "                 ,0,8,0,7,5,3,0,9,0\n",
    "                 ,0,2,0,3,7,4,5,6,1\n",
    "                 ,3,6,0,0,0,5,0,2,0\n",
    "                 ,0,0,0,9,6,0,3,7,8\n",
    "                 ,0,0,6,0,3,1,0,8,4\n",
    "                 ,0,4,5,8,0,7,6,0,0\n",
    "                 ,0,0,0,0,0,0,0,5,7\n",
    "                 ,0,0,0,4,0,9,8,0,2\n",
    "                 ,5,7,0,3,8,0,0,0,4\n",
    "                 ,0,0,0,0,0,2,5,0,0\n",
    "                 ,3,2,8,0,1,7,0,6,0\n",
    "                 ,0,5,7,9,3,0,0,0,0\n",
    "                 ,9,0,0,0,2,0,7,3,0\n",
    "                 ,7,8,0,1,0,0,0,0,0\n",
    "                 ,6,0,5,2,0,8,0,0,7\n",
    "                 ,0,9,4,0,7,3,0,5,0])"
   ]
  },
  {
   "cell_type": "code",
   "execution_count": 81,
   "metadata": {},
   "outputs": [],
   "source": [
    "train_y = np_utils.to_categorical(train_y0)"
   ]
  },
  {
   "cell_type": "code",
   "execution_count": 82,
   "metadata": {},
   "outputs": [
    {
     "data": {
      "text/plain": [
       "(810, 10)"
      ]
     },
     "execution_count": 82,
     "metadata": {},
     "output_type": "execute_result"
    }
   ],
   "source": [
    "train_y.shape"
   ]
  },
  {
   "cell_type": "code",
   "execution_count": 83,
   "metadata": {},
   "outputs": [],
   "source": [
    "num_pixels = 784"
   ]
  },
  {
   "cell_type": "code",
   "execution_count": 84,
   "metadata": {},
   "outputs": [],
   "source": [
    "num_classes = train_y.shape[1]"
   ]
  },
  {
   "cell_type": "code",
   "execution_count": 85,
   "metadata": {},
   "outputs": [],
   "source": [
    "# define baseline model\n",
    "def baseline_model():\n",
    "    # create model\n",
    "    model = Sequential()\n",
    "    model.add(Dense(num_pixels, input_dim=num_pixels, kernel_initializer='normal', activation='relu'))\n",
    "    model.add(Dense(250, kernel_initializer='normal', activation='relu'))\n",
    "    model.add(Dropout(0.25))\n",
    "    model.add(Dense(100, kernel_initializer='normal', activation='relu'))\n",
    "    model.add(Dropout(0.25))\n",
    "    model.add(Dense(num_classes, kernel_initializer='normal', activation='softmax'))\n",
    "    # Compile model\n",
    "    model.compile(loss='categorical_crossentropy', optimizer='adam', metrics=['accuracy'])\n",
    "    return model"
   ]
  },
  {
   "cell_type": "code",
   "execution_count": 86,
   "metadata": {},
   "outputs": [],
   "source": [
    "len_trn = 600"
   ]
  },
  {
   "cell_type": "code",
   "execution_count": 87,
   "metadata": {},
   "outputs": [],
   "source": [
    "# # build the model\n",
    "# model = baseline_model()\n",
    "# # Fit the model\n",
    "# model.fit(train_f[0:len_trn], test_f[0:len_trn], validation_data=(train_f[len_trn:], test_f[len_trn:]), epochs=100, batch_size=30, verbose=2)\n",
    "# # Final evaluation of the model\n",
    "# scores = model.evaluate(train_f[len_trn:], test_f[len_trn:], verbose=0)\n",
    "# print(\"Baseline Error: %.2f%%\" % (100-scores[1]*100))"
   ]
  },
  {
   "cell_type": "code",
   "execution_count": 88,
   "metadata": {},
   "outputs": [
    {
     "name": "stdout",
     "output_type": "stream",
     "text": [
      "Train on 600 samples, validate on 210 samples\n",
      "Epoch 1/100\n",
      " - 3s - loss: 1.5196 - accuracy: 0.6150 - val_loss: 0.7655 - val_accuracy: 0.7000\n",
      "Epoch 2/100\n",
      " - 2s - loss: 0.5515 - accuracy: 0.7817 - val_loss: 0.4153 - val_accuracy: 0.8048\n",
      "Epoch 3/100\n",
      " - 2s - loss: 0.2791 - accuracy: 0.8883 - val_loss: 0.2875 - val_accuracy: 0.8952\n",
      "Epoch 4/100\n",
      " - 2s - loss: 0.1751 - accuracy: 0.9450 - val_loss: 0.1820 - val_accuracy: 0.9143\n",
      "Epoch 5/100\n",
      " - 2s - loss: 0.1105 - accuracy: 0.9667 - val_loss: 0.2818 - val_accuracy: 0.9143\n",
      "Epoch 6/100\n",
      " - 2s - loss: 0.0629 - accuracy: 0.9817 - val_loss: 0.1853 - val_accuracy: 0.9381\n",
      "Epoch 7/100\n",
      " - 2s - loss: 0.0203 - accuracy: 0.9967 - val_loss: 0.1790 - val_accuracy: 0.9333\n",
      "Epoch 8/100\n",
      " - 2s - loss: 0.0269 - accuracy: 0.9933 - val_loss: 0.2323 - val_accuracy: 0.9333\n",
      "Epoch 9/100\n",
      " - 2s - loss: 0.0298 - accuracy: 0.9917 - val_loss: 0.2297 - val_accuracy: 0.9381\n",
      "Epoch 10/100\n",
      " - 2s - loss: 0.0673 - accuracy: 0.9767 - val_loss: 0.2217 - val_accuracy: 0.9476\n",
      "Epoch 11/100\n",
      " - 2s - loss: 0.0366 - accuracy: 0.9933 - val_loss: 0.1920 - val_accuracy: 0.9524\n",
      "Epoch 12/100\n",
      " - 2s - loss: 0.0062 - accuracy: 1.0000 - val_loss: 0.1992 - val_accuracy: 0.9571\n",
      "Baseline Error: 4.29%\n"
     ]
    }
   ],
   "source": [
    "# build the model\n",
    "model = baseline_model()\n",
    "# Fit the model\n",
    "es_callback = callbacks.EarlyStopping(monitor='val_loss', patience=5)\n",
    "model.fit(train_x[0:len_trn], train_y[0:len_trn], validation_data=(train_x[len_trn:], train_y[len_trn:])\n",
    "          ,epochs=100, batch_size=5, verbose=2\n",
    "          ,callbacks=[es_callback])\n",
    "# Final evaluation of the model\n",
    "scores = model.evaluate(train_x[len_trn:], train_y[len_trn:], verbose=0)\n",
    "print(\"Baseline Error: %.2f%%\" % (100-scores[1]*100))"
   ]
  },
  {
   "cell_type": "code",
   "execution_count": 17,
   "metadata": {},
   "outputs": [
    {
     "data": {
      "text/plain": [
       "(810, 10)"
      ]
     },
     "execution_count": 17,
     "metadata": {},
     "output_type": "execute_result"
    }
   ],
   "source": [
    "train_y.shape"
   ]
  },
  {
   "cell_type": "code",
   "execution_count": 18,
   "metadata": {},
   "outputs": [],
   "source": [
    "actual = np.argmax(train_y[len_trn:], axis=1)"
   ]
  },
  {
   "cell_type": "code",
   "execution_count": 19,
   "metadata": {},
   "outputs": [],
   "source": [
    "predicted = np.argmax(model.predict(train_x[len_trn:]), axis=1)"
   ]
  },
  {
   "cell_type": "code",
   "execution_count": 20,
   "metadata": {},
   "outputs": [
    {
     "data": {
      "text/html": [
       "<div>\n",
       "<style scoped>\n",
       "    .dataframe tbody tr th:only-of-type {\n",
       "        vertical-align: middle;\n",
       "    }\n",
       "\n",
       "    .dataframe tbody tr th {\n",
       "        vertical-align: top;\n",
       "    }\n",
       "\n",
       "    .dataframe thead th {\n",
       "        text-align: right;\n",
       "    }\n",
       "</style>\n",
       "<table border=\"1\" class=\"dataframe\">\n",
       "  <thead>\n",
       "    <tr style=\"text-align: right;\">\n",
       "      <th>predicted</th>\n",
       "      <th>0</th>\n",
       "      <th>1</th>\n",
       "      <th>2</th>\n",
       "      <th>3</th>\n",
       "      <th>4</th>\n",
       "      <th>5</th>\n",
       "      <th>6</th>\n",
       "      <th>7</th>\n",
       "      <th>8</th>\n",
       "      <th>9</th>\n",
       "    </tr>\n",
       "    <tr>\n",
       "      <th>actual</th>\n",
       "      <th></th>\n",
       "      <th></th>\n",
       "      <th></th>\n",
       "      <th></th>\n",
       "      <th></th>\n",
       "      <th></th>\n",
       "      <th></th>\n",
       "      <th></th>\n",
       "      <th></th>\n",
       "      <th></th>\n",
       "    </tr>\n",
       "  </thead>\n",
       "  <tbody>\n",
       "    <tr>\n",
       "      <th>0</th>\n",
       "      <td>111</td>\n",
       "      <td>0</td>\n",
       "      <td>0</td>\n",
       "      <td>0</td>\n",
       "      <td>0</td>\n",
       "      <td>0</td>\n",
       "      <td>0</td>\n",
       "      <td>0</td>\n",
       "      <td>0</td>\n",
       "      <td>0</td>\n",
       "    </tr>\n",
       "    <tr>\n",
       "      <th>1</th>\n",
       "      <td>0</td>\n",
       "      <td>7</td>\n",
       "      <td>0</td>\n",
       "      <td>0</td>\n",
       "      <td>0</td>\n",
       "      <td>0</td>\n",
       "      <td>0</td>\n",
       "      <td>0</td>\n",
       "      <td>0</td>\n",
       "      <td>0</td>\n",
       "    </tr>\n",
       "    <tr>\n",
       "      <th>2</th>\n",
       "      <td>0</td>\n",
       "      <td>0</td>\n",
       "      <td>9</td>\n",
       "      <td>0</td>\n",
       "      <td>0</td>\n",
       "      <td>0</td>\n",
       "      <td>0</td>\n",
       "      <td>0</td>\n",
       "      <td>0</td>\n",
       "      <td>0</td>\n",
       "    </tr>\n",
       "    <tr>\n",
       "      <th>3</th>\n",
       "      <td>0</td>\n",
       "      <td>0</td>\n",
       "      <td>0</td>\n",
       "      <td>13</td>\n",
       "      <td>0</td>\n",
       "      <td>0</td>\n",
       "      <td>0</td>\n",
       "      <td>0</td>\n",
       "      <td>0</td>\n",
       "      <td>0</td>\n",
       "    </tr>\n",
       "    <tr>\n",
       "      <th>4</th>\n",
       "      <td>0</td>\n",
       "      <td>1</td>\n",
       "      <td>0</td>\n",
       "      <td>0</td>\n",
       "      <td>8</td>\n",
       "      <td>0</td>\n",
       "      <td>0</td>\n",
       "      <td>0</td>\n",
       "      <td>0</td>\n",
       "      <td>0</td>\n",
       "    </tr>\n",
       "    <tr>\n",
       "      <th>5</th>\n",
       "      <td>0</td>\n",
       "      <td>0</td>\n",
       "      <td>0</td>\n",
       "      <td>0</td>\n",
       "      <td>0</td>\n",
       "      <td>10</td>\n",
       "      <td>1</td>\n",
       "      <td>0</td>\n",
       "      <td>0</td>\n",
       "      <td>1</td>\n",
       "    </tr>\n",
       "    <tr>\n",
       "      <th>6</th>\n",
       "      <td>0</td>\n",
       "      <td>0</td>\n",
       "      <td>0</td>\n",
       "      <td>0</td>\n",
       "      <td>0</td>\n",
       "      <td>1</td>\n",
       "      <td>11</td>\n",
       "      <td>0</td>\n",
       "      <td>0</td>\n",
       "      <td>1</td>\n",
       "    </tr>\n",
       "    <tr>\n",
       "      <th>7</th>\n",
       "      <td>0</td>\n",
       "      <td>0</td>\n",
       "      <td>0</td>\n",
       "      <td>0</td>\n",
       "      <td>0</td>\n",
       "      <td>1</td>\n",
       "      <td>0</td>\n",
       "      <td>13</td>\n",
       "      <td>0</td>\n",
       "      <td>0</td>\n",
       "    </tr>\n",
       "    <tr>\n",
       "      <th>8</th>\n",
       "      <td>0</td>\n",
       "      <td>0</td>\n",
       "      <td>0</td>\n",
       "      <td>0</td>\n",
       "      <td>1</td>\n",
       "      <td>1</td>\n",
       "      <td>2</td>\n",
       "      <td>0</td>\n",
       "      <td>7</td>\n",
       "      <td>1</td>\n",
       "    </tr>\n",
       "    <tr>\n",
       "      <th>9</th>\n",
       "      <td>0</td>\n",
       "      <td>0</td>\n",
       "      <td>0</td>\n",
       "      <td>0</td>\n",
       "      <td>0</td>\n",
       "      <td>0</td>\n",
       "      <td>1</td>\n",
       "      <td>0</td>\n",
       "      <td>0</td>\n",
       "      <td>9</td>\n",
       "    </tr>\n",
       "  </tbody>\n",
       "</table>\n",
       "</div>"
      ],
      "text/plain": [
       "predicted    0  1  2   3  4   5   6   7  8  9\n",
       "actual                                       \n",
       "0          111  0  0   0  0   0   0   0  0  0\n",
       "1            0  7  0   0  0   0   0   0  0  0\n",
       "2            0  0  9   0  0   0   0   0  0  0\n",
       "3            0  0  0  13  0   0   0   0  0  0\n",
       "4            0  1  0   0  8   0   0   0  0  0\n",
       "5            0  0  0   0  0  10   1   0  0  1\n",
       "6            0  0  0   0  0   1  11   0  0  1\n",
       "7            0  0  0   0  0   1   0  13  0  0\n",
       "8            0  0  0   0  1   1   2   0  7  1\n",
       "9            0  0  0   0  0   0   1   0  0  9"
      ]
     },
     "execution_count": 20,
     "metadata": {},
     "output_type": "execute_result"
    }
   ],
   "source": [
    "pd.crosstab(actual, predicted, rownames = ['actual'], colnames = ['predicted'])"
   ]
  },
  {
   "cell_type": "code",
   "execution_count": null,
   "metadata": {},
   "outputs": [],
   "source": []
  },
  {
   "cell_type": "code",
   "execution_count": null,
   "metadata": {},
   "outputs": [],
   "source": []
  },
  {
   "cell_type": "markdown",
   "metadata": {},
   "source": [
    "#### downsample zeroes"
   ]
  },
  {
   "cell_type": "code",
   "execution_count": 59,
   "metadata": {},
   "outputs": [],
   "source": [
    "remove = []\n",
    "for i in range(len(train_y0)):\n",
    "    if train_y0[i] == 0:\n",
    "        if randint(0,3) < 3:\n",
    "            remove.append(i)"
   ]
  },
  {
   "cell_type": "code",
   "execution_count": 60,
   "metadata": {},
   "outputs": [],
   "source": [
    "train_y0_use = np.delete(train_y0, remove)\n",
    "train_x_use = np.delete(train_x, remove, axis = 0)"
   ]
  },
  {
   "cell_type": "code",
   "execution_count": 61,
   "metadata": {},
   "outputs": [
    {
     "data": {
      "text/plain": [
       "(810, 479)"
      ]
     },
     "execution_count": 61,
     "metadata": {},
     "output_type": "execute_result"
    }
   ],
   "source": [
    "len(train_x), len(train_x_use)"
   ]
  },
  {
   "cell_type": "code",
   "execution_count": 62,
   "metadata": {},
   "outputs": [
    {
     "data": {
      "text/plain": [
       "(810, 479)"
      ]
     },
     "execution_count": 62,
     "metadata": {},
     "output_type": "execute_result"
    }
   ],
   "source": [
    "len(train_y), len(train_y0_use)"
   ]
  },
  {
   "cell_type": "code",
   "execution_count": 63,
   "metadata": {},
   "outputs": [],
   "source": [
    "train_y_use = np_utils.to_categorical(train_y0_use)"
   ]
  },
  {
   "cell_type": "code",
   "execution_count": 64,
   "metadata": {},
   "outputs": [
    {
     "data": {
      "text/plain": [
       "((479, 784), (479, 10))"
      ]
     },
     "execution_count": 64,
     "metadata": {},
     "output_type": "execute_result"
    }
   ],
   "source": [
    "train_x_use.shape, train_y_use.shape"
   ]
  },
  {
   "cell_type": "code",
   "execution_count": 65,
   "metadata": {},
   "outputs": [],
   "source": [
    "len_trn = int(train_x_use.shape[0]*0.75)"
   ]
  },
  {
   "cell_type": "code",
   "execution_count": 67,
   "metadata": {},
   "outputs": [
    {
     "name": "stdout",
     "output_type": "stream",
     "text": [
      "Train on 359 samples, validate on 120 samples\n",
      "Epoch 1/100\n",
      " - 2s - loss: 2.1793 - accuracy: 0.3315 - val_loss: 1.7327 - val_accuracy: 0.5667\n",
      "Epoch 2/100\n",
      " - 1s - loss: 1.1911 - accuracy: 0.6630 - val_loss: 0.6582 - val_accuracy: 0.7500\n",
      "Epoch 3/100\n",
      " - 1s - loss: 0.5226 - accuracy: 0.8134 - val_loss: 0.5070 - val_accuracy: 0.8417\n",
      "Epoch 4/100\n",
      " - 1s - loss: 0.2831 - accuracy: 0.8997 - val_loss: 0.3711 - val_accuracy: 0.8667\n",
      "Epoch 5/100\n",
      " - 1s - loss: 0.1779 - accuracy: 0.9499 - val_loss: 0.3699 - val_accuracy: 0.8333\n",
      "Epoch 6/100\n",
      " - 1s - loss: 0.0855 - accuracy: 0.9749 - val_loss: 0.2156 - val_accuracy: 0.9083\n",
      "Epoch 7/100\n",
      " - 1s - loss: 0.0512 - accuracy: 0.9889 - val_loss: 0.1998 - val_accuracy: 0.9250\n",
      "Epoch 8/100\n",
      " - 1s - loss: 0.0424 - accuracy: 0.9889 - val_loss: 0.2536 - val_accuracy: 0.9417\n",
      "Epoch 9/100\n",
      " - 1s - loss: 0.0191 - accuracy: 1.0000 - val_loss: 0.2609 - val_accuracy: 0.9333\n",
      "Epoch 10/100\n",
      " - 1s - loss: 0.0110 - accuracy: 0.9972 - val_loss: 0.2939 - val_accuracy: 0.9250\n",
      "Epoch 11/100\n",
      " - 1s - loss: 0.0114 - accuracy: 0.9972 - val_loss: 0.2841 - val_accuracy: 0.9333\n",
      "Epoch 12/100\n",
      " - 1s - loss: 0.0084 - accuracy: 1.0000 - val_loss: 0.3767 - val_accuracy: 0.9000\n",
      "Baseline Error: 10.00%\n"
     ]
    }
   ],
   "source": [
    "# build the model\n",
    "model = baseline_model()\n",
    "# Fit the model\n",
    "es_callback = callbacks.EarlyStopping(monitor='val_loss', patience=5)\n",
    "model.fit(train_x_use[0:len_trn], train_y_use[0:len_trn], validation_data=(train_x_use[len_trn:], train_y_use[len_trn:])\n",
    "          ,epochs=100, batch_size=5, verbose=2\n",
    "          ,callbacks=[es_callback])\n",
    "# Final evaluation of the model\n",
    "scores = model.evaluate(train_x_use[len_trn:], train_y_use[len_trn:], verbose=0)\n",
    "print(\"Baseline Error: %.2f%%\" % (100-scores[1]*100))"
   ]
  },
  {
   "cell_type": "code",
   "execution_count": 68,
   "metadata": {},
   "outputs": [],
   "source": [
    "actual = np.argmax(train_y_use[len_trn:], axis=1)"
   ]
  },
  {
   "cell_type": "code",
   "execution_count": 69,
   "metadata": {},
   "outputs": [],
   "source": [
    "predicted = np.argmax(model.predict(train_x_use[len_trn:]), axis=1)"
   ]
  },
  {
   "cell_type": "code",
   "execution_count": 70,
   "metadata": {},
   "outputs": [
    {
     "data": {
      "text/html": [
       "<div>\n",
       "<style scoped>\n",
       "    .dataframe tbody tr th:only-of-type {\n",
       "        vertical-align: middle;\n",
       "    }\n",
       "\n",
       "    .dataframe tbody tr th {\n",
       "        vertical-align: top;\n",
       "    }\n",
       "\n",
       "    .dataframe thead th {\n",
       "        text-align: right;\n",
       "    }\n",
       "</style>\n",
       "<table border=\"1\" class=\"dataframe\">\n",
       "  <thead>\n",
       "    <tr style=\"text-align: right;\">\n",
       "      <th>predicted</th>\n",
       "      <th>0</th>\n",
       "      <th>1</th>\n",
       "      <th>2</th>\n",
       "      <th>3</th>\n",
       "      <th>4</th>\n",
       "      <th>5</th>\n",
       "      <th>6</th>\n",
       "      <th>7</th>\n",
       "      <th>8</th>\n",
       "      <th>9</th>\n",
       "    </tr>\n",
       "    <tr>\n",
       "      <th>actual</th>\n",
       "      <th></th>\n",
       "      <th></th>\n",
       "      <th></th>\n",
       "      <th></th>\n",
       "      <th></th>\n",
       "      <th></th>\n",
       "      <th></th>\n",
       "      <th></th>\n",
       "      <th></th>\n",
       "      <th></th>\n",
       "    </tr>\n",
       "  </thead>\n",
       "  <tbody>\n",
       "    <tr>\n",
       "      <th>0</th>\n",
       "      <td>26</td>\n",
       "      <td>0</td>\n",
       "      <td>0</td>\n",
       "      <td>0</td>\n",
       "      <td>0</td>\n",
       "      <td>0</td>\n",
       "      <td>0</td>\n",
       "      <td>0</td>\n",
       "      <td>0</td>\n",
       "      <td>0</td>\n",
       "    </tr>\n",
       "    <tr>\n",
       "      <th>1</th>\n",
       "      <td>0</td>\n",
       "      <td>6</td>\n",
       "      <td>0</td>\n",
       "      <td>0</td>\n",
       "      <td>0</td>\n",
       "      <td>0</td>\n",
       "      <td>0</td>\n",
       "      <td>0</td>\n",
       "      <td>0</td>\n",
       "      <td>0</td>\n",
       "    </tr>\n",
       "    <tr>\n",
       "      <th>2</th>\n",
       "      <td>0</td>\n",
       "      <td>0</td>\n",
       "      <td>9</td>\n",
       "      <td>0</td>\n",
       "      <td>0</td>\n",
       "      <td>0</td>\n",
       "      <td>0</td>\n",
       "      <td>0</td>\n",
       "      <td>0</td>\n",
       "      <td>0</td>\n",
       "    </tr>\n",
       "    <tr>\n",
       "      <th>3</th>\n",
       "      <td>0</td>\n",
       "      <td>0</td>\n",
       "      <td>1</td>\n",
       "      <td>11</td>\n",
       "      <td>0</td>\n",
       "      <td>1</td>\n",
       "      <td>0</td>\n",
       "      <td>0</td>\n",
       "      <td>0</td>\n",
       "      <td>0</td>\n",
       "    </tr>\n",
       "    <tr>\n",
       "      <th>4</th>\n",
       "      <td>0</td>\n",
       "      <td>0</td>\n",
       "      <td>0</td>\n",
       "      <td>0</td>\n",
       "      <td>9</td>\n",
       "      <td>0</td>\n",
       "      <td>0</td>\n",
       "      <td>0</td>\n",
       "      <td>0</td>\n",
       "      <td>0</td>\n",
       "    </tr>\n",
       "    <tr>\n",
       "      <th>5</th>\n",
       "      <td>0</td>\n",
       "      <td>0</td>\n",
       "      <td>0</td>\n",
       "      <td>0</td>\n",
       "      <td>0</td>\n",
       "      <td>11</td>\n",
       "      <td>1</td>\n",
       "      <td>0</td>\n",
       "      <td>0</td>\n",
       "      <td>0</td>\n",
       "    </tr>\n",
       "    <tr>\n",
       "      <th>6</th>\n",
       "      <td>0</td>\n",
       "      <td>0</td>\n",
       "      <td>0</td>\n",
       "      <td>0</td>\n",
       "      <td>0</td>\n",
       "      <td>6</td>\n",
       "      <td>5</td>\n",
       "      <td>0</td>\n",
       "      <td>0</td>\n",
       "      <td>0</td>\n",
       "    </tr>\n",
       "    <tr>\n",
       "      <th>7</th>\n",
       "      <td>0</td>\n",
       "      <td>0</td>\n",
       "      <td>0</td>\n",
       "      <td>0</td>\n",
       "      <td>0</td>\n",
       "      <td>0</td>\n",
       "      <td>0</td>\n",
       "      <td>14</td>\n",
       "      <td>0</td>\n",
       "      <td>0</td>\n",
       "    </tr>\n",
       "    <tr>\n",
       "      <th>8</th>\n",
       "      <td>0</td>\n",
       "      <td>0</td>\n",
       "      <td>0</td>\n",
       "      <td>0</td>\n",
       "      <td>0</td>\n",
       "      <td>1</td>\n",
       "      <td>1</td>\n",
       "      <td>0</td>\n",
       "      <td>7</td>\n",
       "      <td>1</td>\n",
       "    </tr>\n",
       "    <tr>\n",
       "      <th>9</th>\n",
       "      <td>0</td>\n",
       "      <td>0</td>\n",
       "      <td>0</td>\n",
       "      <td>0</td>\n",
       "      <td>0</td>\n",
       "      <td>0</td>\n",
       "      <td>0</td>\n",
       "      <td>0</td>\n",
       "      <td>0</td>\n",
       "      <td>10</td>\n",
       "    </tr>\n",
       "  </tbody>\n",
       "</table>\n",
       "</div>"
      ],
      "text/plain": [
       "predicted   0  1  2   3  4   5  6   7  8   9\n",
       "actual                                      \n",
       "0          26  0  0   0  0   0  0   0  0   0\n",
       "1           0  6  0   0  0   0  0   0  0   0\n",
       "2           0  0  9   0  0   0  0   0  0   0\n",
       "3           0  0  1  11  0   1  0   0  0   0\n",
       "4           0  0  0   0  9   0  0   0  0   0\n",
       "5           0  0  0   0  0  11  1   0  0   0\n",
       "6           0  0  0   0  0   6  5   0  0   0\n",
       "7           0  0  0   0  0   0  0  14  0   0\n",
       "8           0  0  0   0  0   1  1   0  7   1\n",
       "9           0  0  0   0  0   0  0   0  0  10"
      ]
     },
     "execution_count": 70,
     "metadata": {},
     "output_type": "execute_result"
    }
   ],
   "source": [
    "pd.crosstab(actual, predicted, rownames = ['actual'], colnames = ['predicted'])"
   ]
  },
  {
   "cell_type": "markdown",
   "metadata": {},
   "source": [
    "-------downsampling doesn't help-------"
   ]
  },
  {
   "cell_type": "code",
   "execution_count": null,
   "metadata": {},
   "outputs": [],
   "source": []
  },
  {
   "cell_type": "markdown",
   "metadata": {},
   "source": [
    "#### predict"
   ]
  },
  {
   "cell_type": "code",
   "execution_count": 94,
   "metadata": {},
   "outputs": [],
   "source": [
    "# filelist[2]"
   ]
  },
  {
   "cell_type": "code",
   "execution_count": 95,
   "metadata": {},
   "outputs": [],
   "source": [
    "sudoku_array = [[1, 2, 3, 4, 5, 6, 7, 8, 9]]\n",
    "for i in range(80):\n",
    "    sudoku_array.append([1, 2, 3, 4, 5, 6, 7, 8, 9])"
   ]
  },
  {
   "cell_type": "code",
   "execution_count": 96,
   "metadata": {},
   "outputs": [
    {
     "name": "stderr",
     "output_type": "stream",
     "text": [
      "/opt/anaconda3/lib/python3.7/site-packages/numpy/core/fromnumeric.py:3335: RuntimeWarning: Mean of empty slice.\n",
      "  out=out, **kwargs)\n",
      "/opt/anaconda3/lib/python3.7/site-packages/numpy/core/_methods.py:161: RuntimeWarning: invalid value encountered in double_scalars\n",
      "  ret = ret.dtype.type(ret / rcount)\n"
     ]
    }
   ],
   "source": [
    "for f in ['difficulty_hard_p1_copy.png']:\n",
    "    foo = cv2.imread(f)\n",
    "#         removing horizontal and vertical grids\n",
    "    foo = h_v(foo)\n",
    "#         making both height and width of the same dimension which is 9 * 28\n",
    "    foo = cv2.resize(foo, (252,252), interpolation = cv2.INTER_LINEAR)\n",
    "    foo = cv2.cvtColor(foo,cv2.COLOR_BGR2GRAY)\n",
    "    foo = cv2.threshold(foo, 170, 255, cv2.THRESH_BINARY_INV)[1]\n",
    "#     plt.imshow(foo)\n",
    "#     plt.show()\n",
    "\n",
    "#         store train data\n",
    "    h,w = foo.shape\n",
    "    box = 28\n",
    "    s = 0\n",
    "    for i in range(0,h,box):\n",
    "        for j in range(0,w,box):\n",
    "            foo_r = foo[i:i+box:, j:j+box]\n",
    "#             plt.imshow(foo_r)\n",
    "#             plt.show()\n",
    "\n",
    "            foo_f = foo_r.reshape(1, 784).astype('float32')\n",
    "            foo_f = foo_f/255\n",
    "#             print(np.round(model.predict(foo_f),3))\n",
    "#             print(np.argmax(model.predict(foo_f)))\n",
    "            if (np.argmax(model.predict(foo_f)) > 0):\n",
    "                sudoku_array[s] = [np.argmax(model.predict(foo_f))]\n",
    "            s = s + 1    "
   ]
  },
  {
   "cell_type": "code",
   "execution_count": 97,
   "metadata": {},
   "outputs": [
    {
     "data": {
      "text/plain": [
       "[[6],\n",
       " [1, 2, 3, 4, 5, 6, 7, 8, 9],\n",
       " [1, 2, 3, 4, 5, 6, 7, 8, 9],\n",
       " [1, 2, 3, 4, 5, 6, 7, 8, 9],\n",
       " [1, 2, 3, 4, 5, 6, 7, 8, 9],\n",
       " [1, 2, 3, 4, 5, 6, 7, 8, 9],\n",
       " [1, 2, 3, 4, 5, 6, 7, 8, 9],\n",
       " [1, 2, 3, 4, 5, 6, 7, 8, 9],\n",
       " [1, 2, 3, 4, 5, 6, 7, 8, 9],\n",
       " [1, 2, 3, 4, 5, 6, 7, 8, 9],\n",
       " [6],\n",
       " [1, 2, 3, 4, 5, 6, 7, 8, 9],\n",
       " [1, 2, 3, 4, 5, 6, 7, 8, 9],\n",
       " [1, 2, 3, 4, 5, 6, 7, 8, 9],\n",
       " [1, 2, 3, 4, 5, 6, 7, 8, 9],\n",
       " [8],\n",
       " [1, 2, 3, 4, 5, 6, 7, 8, 9],\n",
       " [1, 2, 3, 4, 5, 6, 7, 8, 9],\n",
       " [1, 2, 3, 4, 5, 6, 7, 8, 9],\n",
       " [1, 2, 3, 4, 5, 6, 7, 8, 9],\n",
       " [1, 2, 3, 4, 5, 6, 7, 8, 9],\n",
       " [2],\n",
       " [1, 2, 3, 4, 5, 6, 7, 8, 9],\n",
       " [1, 2, 3, 4, 5, 6, 7, 8, 9],\n",
       " [7],\n",
       " [6],\n",
       " [1, 2, 3, 4, 5, 6, 7, 8, 9],\n",
       " [4],\n",
       " [5],\n",
       " [1, 2, 3, 4, 5, 6, 7, 8, 9],\n",
       " [1, 2, 3, 4, 5, 6, 7, 8, 9],\n",
       " [9],\n",
       " [1, 2, 3, 4, 5, 6, 7, 8, 9],\n",
       " [1, 2, 3, 4, 5, 6, 7, 8, 9],\n",
       " [8],\n",
       " [1, 2, 3, 4, 5, 6, 7, 8, 9],\n",
       " [7],\n",
       " [1, 2, 3, 4, 5, 6, 7, 8, 9],\n",
       " [1, 2, 3, 4, 5, 6, 7, 8, 9],\n",
       " [1, 2, 3, 4, 5, 6, 7, 8, 9],\n",
       " [4],\n",
       " [1, 2, 3, 4, 5, 6, 7, 8, 9],\n",
       " [1, 2, 3, 4, 5, 6, 7, 8, 9],\n",
       " [1],\n",
       " [1, 2, 3, 4, 5, 6, 7, 8, 9],\n",
       " [3],\n",
       " [1, 2, 3, 4, 5, 6, 7, 8, 9],\n",
       " [1, 2, 3, 4, 5, 6, 7, 8, 9],\n",
       " [5],\n",
       " [1, 2, 3, 4, 5, 6, 7, 8, 9],\n",
       " [1, 2, 3, 4, 5, 6, 7, 8, 9],\n",
       " [1, 2, 3, 4, 5, 6, 7, 8, 9],\n",
       " [1, 2, 3, 4, 5, 6, 7, 8, 9],\n",
       " [1, 2, 3, 4, 5, 6, 7, 8, 9],\n",
       " [5],\n",
       " [4],\n",
       " [3],\n",
       " [1, 2, 3, 4, 5, 6, 7, 8, 9],\n",
       " [1, 2, 3, 4, 5, 6, 7, 8, 9],\n",
       " [1, 2, 3, 4, 5, 6, 7, 8, 9],\n",
       " [1, 2, 3, 4, 5, 6, 7, 8, 9],\n",
       " [1, 2, 3, 4, 5, 6, 7, 8, 9],\n",
       " [1],\n",
       " [1],\n",
       " [1, 2, 3, 4, 5, 6, 7, 8, 9],\n",
       " [1, 2, 3, 4, 5, 6, 7, 8, 9],\n",
       " [1, 2, 3, 4, 5, 6, 7, 8, 9],\n",
       " [7],\n",
       " [1, 2, 3, 4, 5, 6, 7, 8, 9],\n",
       " [1, 2, 3, 4, 5, 6, 7, 8, 9],\n",
       " [1, 2, 3, 4, 5, 6, 7, 8, 9],\n",
       " [1, 2, 3, 4, 5, 6, 7, 8, 9],\n",
       " [1, 2, 3, 4, 5, 6, 7, 8, 9],\n",
       " [1, 2, 3, 4, 5, 6, 7, 8, 9],\n",
       " [1, 2, 3, 4, 5, 6, 7, 8, 9],\n",
       " [8],\n",
       " [1, 2, 3, 4, 5, 6, 7, 8, 9],\n",
       " [1],\n",
       " [1, 2, 3, 4, 5, 6, 7, 8, 9],\n",
       " [4],\n",
       " [8]]"
      ]
     },
     "execution_count": 97,
     "metadata": {},
     "output_type": "execute_result"
    }
   ],
   "source": [
    "sudoku_array"
   ]
  },
  {
   "cell_type": "code",
   "execution_count": null,
   "metadata": {},
   "outputs": [],
   "source": []
  },
  {
   "cell_type": "markdown",
   "metadata": {},
   "source": [
    "### model using CNN"
   ]
  },
  {
   "cell_type": "code",
   "execution_count": 5,
   "metadata": {},
   "outputs": [],
   "source": [
    "(X_train, y_train), (X_test, y_test) = mnist.load_data()"
   ]
  },
  {
   "cell_type": "code",
   "execution_count": 6,
   "metadata": {},
   "outputs": [
    {
     "data": {
      "text/plain": [
       "(60000, 28, 28)"
      ]
     },
     "execution_count": 6,
     "metadata": {},
     "output_type": "execute_result"
    }
   ],
   "source": [
    "X_train.shape"
   ]
  },
  {
   "cell_type": "code",
   "execution_count": 8,
   "metadata": {},
   "outputs": [
    {
     "data": {
      "text/plain": [
       "(28, 28)"
      ]
     },
     "execution_count": 8,
     "metadata": {},
     "output_type": "execute_result"
    }
   ],
   "source": [
    "X_train[0].shape"
   ]
  },
  {
   "cell_type": "code",
   "execution_count": 47,
   "metadata": {},
   "outputs": [],
   "source": [
    "path = 'create-train-data/'\n",
    "filelist = os.listdir(path)\n",
    "filelist.sort()\n",
    "cnt = 0\n",
    "for f in filelist[:]:\n",
    "    if (f.endswith(\".png\")):\n",
    "        foo = cv2.imread(path+f)\n",
    "        \n",
    "#         removing horizontal and vertical grids\n",
    "        foo = h_v(foo)\n",
    "        \n",
    "#         making both height and width of the same dimension which is 9 * 28\n",
    "        foo = cv2.resize(foo, (252,252), interpolation = cv2.INTER_LINEAR)\n",
    "        foo = cv2.cvtColor(foo,cv2.COLOR_BGR2GRAY)\n",
    "        foo = cv2.threshold(foo, 170, 255, cv2.THRESH_BINARY_INV)[1]\n",
    "#         plt.imshow(foo)\n",
    "#         plt.show()\n",
    "        \n",
    "#         store train data\n",
    "        h,w = foo.shape\n",
    "        box = 28\n",
    "        for i in range(0,h,box):\n",
    "            for j in range(0,w,box):\n",
    "                foo_r = foo[i:i+box:, j:j+box]\n",
    "#                 plt.imshow(foo_r)\n",
    "#                 plt.show()\n",
    "\n",
    "                foo_f = foo_r.reshape((1, foo_r.shape[0], foo_r.shape[1]))\n",
    "                if((i==0) & (j==0)):\n",
    "                    train = foo_f.copy()\n",
    "                else:\n",
    "                    train = np.append(train, foo_f, axis = 0)\n",
    "        if cnt == 0: train_x = train.copy()\n",
    "        else: train_x = np.append(train_x, train, axis = 0)\n",
    "        cnt = cnt + 1"
   ]
  },
  {
   "cell_type": "code",
   "execution_count": 50,
   "metadata": {},
   "outputs": [
    {
     "data": {
      "text/plain": [
       "(810, 28, 28)"
      ]
     },
     "execution_count": 50,
     "metadata": {},
     "output_type": "execute_result"
    }
   ],
   "source": [
    "train_x.shape"
   ]
  },
  {
   "cell_type": "code",
   "execution_count": 51,
   "metadata": {},
   "outputs": [],
   "source": [
    "train_y0 = np.array([0,0,0,6,9,0,4,0,0\n",
    "                 ,0,2,9,0,0,5,0,0,3\n",
    "                 ,0,0,1,0,3,4,0,0,8\n",
    "                 ,9,8,0,0,0,1,0,7,0\n",
    "                 ,2,0,7,0,6,9,0,3,1\n",
    "                 ,0,0,3,2,0,7,5,4,0\n",
    "                 ,8,3,0,9,0,0,0,0,7\n",
    "                 ,0,0,5,0,2,0,0,0,0\n",
    "                 ,1,0,6,5,7,3,0,0,4\n",
    "                 ,6,0,0,1,0,0,0,0,2\n",
    "                 ,8,0,1,0,9,0,0,0,0\n",
    "                 ,0,7,5,0,8,4,0,0,0\n",
    "                 ,4,3,0,0,2,0,5,6,1\n",
    "                 ,5,1,8,7,0,0,4,0,9\n",
    "                 ,0,9,6,4,1,0,3,0,0\n",
    "                 ,0,0,0,0,7,0,0,0,0\n",
    "                 ,0,6,0,0,3,1,0,5,0\n",
    "                 ,7,0,2,5,4,0,6,0,3\n",
    "                 ,0,9,1,0,5,0,6,8,0\n",
    "                 ,0,0,0,6,8,7,0,0,5\n",
    "                 ,8,0,0,0,1,3,0,2,0\n",
    "                 ,4,0,0,0,0,2,0,0,0\n",
    "                 ,0,0,2,0,0,8,7,6,0\n",
    "                 ,0,8,6,4,0,0,1,0,0\n",
    "                 ,3,0,4,8,0,0,2,5,0\n",
    "                 ,1,5,8,0,0,0,3,4,0\n",
    "                 ,0,2,9,0,0,5,0,7,1\n",
    "                 ,4,0,6,7,5,1,0,8,0\n",
    "                 ,2,0,8,0,0,0,4,7,0\n",
    "                 ,0,0,0,0,0,0,9,0,6\n",
    "                 ,5,3,0,2,0,0,0,0,0\n",
    "                 ,6,4,9,1,3,0,0,0,0\n",
    "                 ,0,0,7,9,0,5,1,0,0\n",
    "                 ,0,7,0,8,2,9,0,5,0\n",
    "                 ,0,6,2,0,1,0,0,3,8\n",
    "                 ,1,8,0,0,0,7,0,0,9\n",
    "                 ,7,0,4,5,3,0,2,0,0\n",
    "                 ,0,0,8,1,6,0,0,0,0\n",
    "                 ,1,0,2,0,0,0,6,8,5\n",
    "                 ,0,0,7,9,1,0,0,6,8\n",
    "                 ,0,0,5,0,0,7,3,0,2\n",
    "                 ,6,8,0,0,5,4,1,9,0\n",
    "                 ,0,0,0,7,0,0,8,0,0\n",
    "                 ,2,5,0,0,0,0,4,7,3\n",
    "                 ,0,0,0,0,4,0,0,2,6\n",
    "                 ,7,4,5,0,9,0,0,0,0\n",
    "                 ,0,3,2,1,5,0,0,4,6\n",
    "                 ,0,0,0,2,8,0,5,0,3\n",
    "                 ,2,0,0,0,0,0,0,6,0\n",
    "                 ,9,8,0,6,0,0,3,5,1\n",
    "                 ,0,0,0,5,4,0,2,0,7\n",
    "                 ,3,0,8,0,0,0,0,0,2\n",
    "                 ,0,2,0,7,6,0,0,1,0\n",
    "                 ,0,6,0,9,0,8,0,3,4\n",
    "                 ,3,1,5,6,0,0,0,0,4\n",
    "                 ,0,9,0,0,0,0,2,0,0\n",
    "                 ,2,0,0,5,9,0,0,1,3\n",
    "                 ,0,6,0,1,7,5,0,0,0\n",
    "                 ,1,8,0,3,0,0,7,0,0\n",
    "                 ,5,3,0,0,4,0,0,9,6\n",
    "                 ,0,2,9,0,5,1,0,7,8\n",
    "                 ,0,0,0,0,3,0,0,2,0\n",
    "                 ,7,4,3,0,0,2,5,0,0\n",
    "                 ,0,0,0,7,0,0,0,0,0\n",
    "                 ,7,2,0,0,0,9,0,5,1\n",
    "                 ,8,9,1,0,2,6,0,7,0\n",
    "                 ,9,0,3,2,0,0,0,6,8\n",
    "                 ,6,8,0,1,0,0,3,4,2\n",
    "                 ,2,5,4,0,0,0,0,0,0\n",
    "                 ,0,0,9,3,1,0,6,8,0\n",
    "                 ,0,0,0,9,5,0,0,0,4\n",
    "                 ,0,3,0,6,7,0,0,1,0\n",
    "                 ,6,9,0,0,0,0,7,0,0\n",
    "                 ,0,0,0,0,9,6,0,0,0\n",
    "                 ,0,8,0,7,5,3,0,9,0\n",
    "                 ,0,2,0,3,7,4,5,6,1\n",
    "                 ,3,6,0,0,0,5,0,2,0\n",
    "                 ,0,0,0,9,6,0,3,7,8\n",
    "                 ,0,0,6,0,3,1,0,8,4\n",
    "                 ,0,4,5,8,0,7,6,0,0\n",
    "                 ,0,0,0,0,0,0,0,5,7\n",
    "                 ,0,0,0,4,0,9,8,0,2\n",
    "                 ,5,7,0,3,8,0,0,0,4\n",
    "                 ,0,0,0,0,0,2,5,0,0\n",
    "                 ,3,2,8,0,1,7,0,6,0\n",
    "                 ,0,5,7,9,3,0,0,0,0\n",
    "                 ,9,0,0,0,2,0,7,3,0\n",
    "                 ,7,8,0,1,0,0,0,0,0\n",
    "                 ,6,0,5,2,0,8,0,0,7\n",
    "                 ,0,9,4,0,7,3,0,5,0])"
   ]
  },
  {
   "cell_type": "code",
   "execution_count": 52,
   "metadata": {},
   "outputs": [],
   "source": [
    "train_y = np_utils.to_categorical(train_y0)"
   ]
  },
  {
   "cell_type": "code",
   "execution_count": 53,
   "metadata": {},
   "outputs": [
    {
     "data": {
      "text/plain": [
       "(810, 10)"
      ]
     },
     "execution_count": 53,
     "metadata": {},
     "output_type": "execute_result"
    }
   ],
   "source": [
    "train_y.shape"
   ]
  },
  {
   "cell_type": "code",
   "execution_count": 55,
   "metadata": {},
   "outputs": [],
   "source": [
    "# reshape to be [samples][width][height][channels]\n",
    "train_x = train_x.reshape((train_x.shape[0], 28, 28, 1)).astype('float32')"
   ]
  },
  {
   "cell_type": "code",
   "execution_count": 56,
   "metadata": {},
   "outputs": [],
   "source": [
    "# normalize inputs from 0-255 to 0-1\n",
    "train_x = train_x / 255"
   ]
  },
  {
   "cell_type": "code",
   "execution_count": 60,
   "metadata": {},
   "outputs": [],
   "source": [
    "# num_pixels = 784"
   ]
  },
  {
   "cell_type": "code",
   "execution_count": 61,
   "metadata": {},
   "outputs": [],
   "source": [
    "num_classes = train_y.shape[1]"
   ]
  },
  {
   "cell_type": "code",
   "execution_count": 63,
   "metadata": {},
   "outputs": [],
   "source": [
    "# define baseline model\n",
    "def baseline_model():\n",
    "    model = Sequential()\n",
    "    model.add(Conv2D(32, (5, 5), input_shape=(28, 28, 1), activation='relu'))\n",
    "    model.add(MaxPooling2D())\n",
    "    model.add(Dropout(0.2))\n",
    "    model.add(Flatten())\n",
    "    model.add(Dense(128, activation='relu'))\n",
    "    model.add(Dense(num_classes, activation='softmax'))\n",
    "    model.compile(loss='categorical_crossentropy', optimizer='adam', metrics=['accuracy'])\n",
    "    return model"
   ]
  },
  {
   "cell_type": "code",
   "execution_count": 87,
   "metadata": {},
   "outputs": [],
   "source": [
    "def larger_model():\n",
    "    model = Sequential()\n",
    "    model.add(Conv2D(30, (5, 5), input_shape=(28, 28, 1), activation='relu'))\n",
    "    model.add(MaxPooling2D(pool_size=(2, 2)))\n",
    "    model.add(Conv2D(15, (3, 3), activation='relu'))\n",
    "    model.add(MaxPooling2D(pool_size=(2, 2)))\n",
    "    model.add(Dropout(0.2))\n",
    "    model.add(Flatten())\n",
    "    model.add(Dense(128, activation='relu'))\n",
    "    model.add(Dense(50, activation='relu'))\n",
    "    model.add(Dense(num_classes, activation='softmax'))\n",
    "    model.compile(loss='categorical_crossentropy', optimizer='adam', metrics=['accuracy'])\n",
    "    return model"
   ]
  },
  {
   "cell_type": "code",
   "execution_count": 64,
   "metadata": {},
   "outputs": [],
   "source": [
    "len_trn = 600"
   ]
  },
  {
   "cell_type": "code",
   "execution_count": 79,
   "metadata": {},
   "outputs": [
    {
     "name": "stdout",
     "output_type": "stream",
     "text": [
      "Train on 600 samples, validate on 210 samples\n",
      "Epoch 1/100\n",
      " - 2s - loss: 1.1722 - accuracy: 0.6500 - val_loss: 0.6986 - val_accuracy: 0.7333\n",
      "Epoch 2/100\n",
      " - 1s - loss: 0.4102 - accuracy: 0.8617 - val_loss: 0.2662 - val_accuracy: 0.9000\n",
      "Epoch 3/100\n",
      " - 2s - loss: 0.2215 - accuracy: 0.9400 - val_loss: 0.1545 - val_accuracy: 0.9571\n",
      "Epoch 4/100\n",
      " - 2s - loss: 0.1438 - accuracy: 0.9567 - val_loss: 0.0959 - val_accuracy: 0.9762\n",
      "Epoch 5/100\n",
      " - 2s - loss: 0.0644 - accuracy: 0.9917 - val_loss: 0.0985 - val_accuracy: 0.9762\n",
      "Epoch 6/100\n",
      " - 2s - loss: 0.0401 - accuracy: 0.9933 - val_loss: 0.0954 - val_accuracy: 0.9714\n",
      "Epoch 7/100\n",
      " - 2s - loss: 0.0286 - accuracy: 0.9933 - val_loss: 0.0637 - val_accuracy: 0.9762\n",
      "Epoch 8/100\n",
      " - 2s - loss: 0.0178 - accuracy: 0.9983 - val_loss: 0.0568 - val_accuracy: 0.9810\n",
      "Epoch 9/100\n",
      " - 2s - loss: 0.0160 - accuracy: 1.0000 - val_loss: 0.0348 - val_accuracy: 0.9810\n",
      "Epoch 10/100\n",
      " - 2s - loss: 0.0053 - accuracy: 1.0000 - val_loss: 0.0349 - val_accuracy: 0.9905\n",
      "Epoch 11/100\n",
      " - 2s - loss: 0.0030 - accuracy: 1.0000 - val_loss: 0.0396 - val_accuracy: 0.9857\n",
      "Epoch 12/100\n",
      " - 2s - loss: 0.0025 - accuracy: 1.0000 - val_loss: 0.0363 - val_accuracy: 0.9905\n",
      "Epoch 13/100\n",
      " - 2s - loss: 0.0020 - accuracy: 1.0000 - val_loss: 0.0401 - val_accuracy: 0.9857\n",
      "Epoch 14/100\n",
      " - 2s - loss: 0.0028 - accuracy: 1.0000 - val_loss: 0.0358 - val_accuracy: 0.9952\n",
      "CNN Error: 0.48%\n"
     ]
    }
   ],
   "source": [
    "# build the model\n",
    "model = baseline_model()\n",
    "# Fit the model\n",
    "es_callback = callbacks.EarlyStopping(monitor='val_loss', patience=5)\n",
    "model.fit(train_x[0:len_trn], train_y[0:len_trn], validation_data=(train_x[len_trn:], train_y[len_trn:])\n",
    "          ,epochs=100, batch_size=5, verbose=2\n",
    "          ,callbacks=[es_callback])\n",
    "# Final evaluation of the model\n",
    "scores = model.evaluate(train_x[len_trn:], train_y[len_trn:], verbose=0)\n",
    "print(\"CNN Error: %.2f%%\" % (100-scores[1]*100))"
   ]
  },
  {
   "cell_type": "code",
   "execution_count": 88,
   "metadata": {},
   "outputs": [
    {
     "name": "stdout",
     "output_type": "stream",
     "text": [
      "Train on 600 samples, validate on 210 samples\n",
      "Epoch 1/100\n",
      " - 2s - loss: 1.4990 - accuracy: 0.6217 - val_loss: 0.8019 - val_accuracy: 0.6952\n",
      "Epoch 2/100\n",
      " - 1s - loss: 0.5870 - accuracy: 0.7967 - val_loss: 0.4505 - val_accuracy: 0.7857\n",
      "Epoch 3/100\n",
      " - 1s - loss: 0.3618 - accuracy: 0.8567 - val_loss: 0.2107 - val_accuracy: 0.9190\n",
      "Epoch 4/100\n",
      " - 1s - loss: 0.1844 - accuracy: 0.9417 - val_loss: 0.1130 - val_accuracy: 0.9571\n",
      "Epoch 5/100\n",
      " - 1s - loss: 0.1203 - accuracy: 0.9517 - val_loss: 0.0981 - val_accuracy: 0.9619\n",
      "Epoch 6/100\n",
      " - 1s - loss: 0.0834 - accuracy: 0.9683 - val_loss: 0.0360 - val_accuracy: 0.9952\n",
      "Epoch 7/100\n",
      " - 1s - loss: 0.0531 - accuracy: 0.9867 - val_loss: 0.1479 - val_accuracy: 0.9476\n",
      "Epoch 8/100\n",
      " - 1s - loss: 0.0430 - accuracy: 0.9833 - val_loss: 0.0646 - val_accuracy: 0.9762\n",
      "Epoch 9/100\n",
      " - 1s - loss: 0.0321 - accuracy: 0.9900 - val_loss: 0.0227 - val_accuracy: 1.0000\n",
      "Epoch 10/100\n",
      " - 1s - loss: 0.0180 - accuracy: 0.9983 - val_loss: 0.0105 - val_accuracy: 1.0000\n",
      "Epoch 11/100\n",
      " - 1s - loss: 0.0198 - accuracy: 0.9933 - val_loss: 0.0184 - val_accuracy: 0.9952\n",
      "Epoch 12/100\n",
      " - 1s - loss: 0.0107 - accuracy: 0.9983 - val_loss: 0.0093 - val_accuracy: 1.0000\n",
      "Epoch 13/100\n",
      " - 1s - loss: 0.0141 - accuracy: 0.9967 - val_loss: 0.0088 - val_accuracy: 0.9952\n",
      "Epoch 14/100\n",
      " - 1s - loss: 0.0118 - accuracy: 0.9950 - val_loss: 0.0480 - val_accuracy: 0.9857\n",
      "Epoch 15/100\n",
      " - 1s - loss: 0.0337 - accuracy: 0.9883 - val_loss: 0.0175 - val_accuracy: 0.9952\n",
      "Epoch 16/100\n",
      " - 1s - loss: 0.0048 - accuracy: 1.0000 - val_loss: 0.0066 - val_accuracy: 1.0000\n",
      "Epoch 17/100\n",
      " - 1s - loss: 0.0018 - accuracy: 1.0000 - val_loss: 0.0084 - val_accuracy: 1.0000\n",
      "Epoch 18/100\n",
      " - 1s - loss: 0.0012 - accuracy: 1.0000 - val_loss: 0.0049 - val_accuracy: 1.0000\n",
      "Epoch 19/100\n",
      " - 1s - loss: 0.0125 - accuracy: 0.9950 - val_loss: 0.0111 - val_accuracy: 0.9952\n",
      "Epoch 20/100\n",
      " - 1s - loss: 0.0160 - accuracy: 0.9917 - val_loss: 0.1886 - val_accuracy: 0.9619\n",
      "Epoch 21/100\n",
      " - 1s - loss: 0.0503 - accuracy: 0.9850 - val_loss: 0.0312 - val_accuracy: 0.9952\n",
      "Epoch 22/100\n",
      " - 1s - loss: 0.0281 - accuracy: 0.9883 - val_loss: 0.0155 - val_accuracy: 0.9952\n",
      "Epoch 23/100\n",
      " - 1s - loss: 0.0079 - accuracy: 0.9983 - val_loss: 0.0363 - val_accuracy: 0.9952\n",
      "CNN Error: 0.48%\n"
     ]
    }
   ],
   "source": [
    "# build the model\n",
    "model = larger_model()\n",
    "# Fit the model\n",
    "es_callback = callbacks.EarlyStopping(monitor='val_loss', patience=5)\n",
    "model.fit(train_x[0:len_trn], train_y[0:len_trn], validation_data=(train_x[len_trn:], train_y[len_trn:])\n",
    "          ,epochs=100, batch_size=5, verbose=2\n",
    "          ,callbacks=[es_callback])\n",
    "# Final evaluation of the model\n",
    "scores = model.evaluate(train_x[len_trn:], train_y[len_trn:], verbose=0)\n",
    "print(\"CNN Error: %.2f%%\" % (100-scores[1]*100))"
   ]
  },
  {
   "cell_type": "code",
   "execution_count": 89,
   "metadata": {},
   "outputs": [],
   "source": [
    "actual = np.argmax(train_y[len_trn:], axis=1)"
   ]
  },
  {
   "cell_type": "code",
   "execution_count": 90,
   "metadata": {},
   "outputs": [],
   "source": [
    "predicted = np.argmax(model.predict(train_x[len_trn:]), axis=1)"
   ]
  },
  {
   "cell_type": "code",
   "execution_count": 91,
   "metadata": {},
   "outputs": [
    {
     "data": {
      "text/html": [
       "<div>\n",
       "<style scoped>\n",
       "    .dataframe tbody tr th:only-of-type {\n",
       "        vertical-align: middle;\n",
       "    }\n",
       "\n",
       "    .dataframe tbody tr th {\n",
       "        vertical-align: top;\n",
       "    }\n",
       "\n",
       "    .dataframe thead th {\n",
       "        text-align: right;\n",
       "    }\n",
       "</style>\n",
       "<table border=\"1\" class=\"dataframe\">\n",
       "  <thead>\n",
       "    <tr style=\"text-align: right;\">\n",
       "      <th>predicted</th>\n",
       "      <th>0</th>\n",
       "      <th>1</th>\n",
       "      <th>2</th>\n",
       "      <th>3</th>\n",
       "      <th>4</th>\n",
       "      <th>5</th>\n",
       "      <th>6</th>\n",
       "      <th>7</th>\n",
       "      <th>8</th>\n",
       "      <th>9</th>\n",
       "    </tr>\n",
       "    <tr>\n",
       "      <th>actual</th>\n",
       "      <th></th>\n",
       "      <th></th>\n",
       "      <th></th>\n",
       "      <th></th>\n",
       "      <th></th>\n",
       "      <th></th>\n",
       "      <th></th>\n",
       "      <th></th>\n",
       "      <th></th>\n",
       "      <th></th>\n",
       "    </tr>\n",
       "  </thead>\n",
       "  <tbody>\n",
       "    <tr>\n",
       "      <th>0</th>\n",
       "      <td>111</td>\n",
       "      <td>0</td>\n",
       "      <td>0</td>\n",
       "      <td>0</td>\n",
       "      <td>0</td>\n",
       "      <td>0</td>\n",
       "      <td>0</td>\n",
       "      <td>0</td>\n",
       "      <td>0</td>\n",
       "      <td>0</td>\n",
       "    </tr>\n",
       "    <tr>\n",
       "      <th>1</th>\n",
       "      <td>0</td>\n",
       "      <td>7</td>\n",
       "      <td>0</td>\n",
       "      <td>0</td>\n",
       "      <td>0</td>\n",
       "      <td>0</td>\n",
       "      <td>0</td>\n",
       "      <td>0</td>\n",
       "      <td>0</td>\n",
       "      <td>0</td>\n",
       "    </tr>\n",
       "    <tr>\n",
       "      <th>2</th>\n",
       "      <td>0</td>\n",
       "      <td>0</td>\n",
       "      <td>9</td>\n",
       "      <td>0</td>\n",
       "      <td>0</td>\n",
       "      <td>0</td>\n",
       "      <td>0</td>\n",
       "      <td>0</td>\n",
       "      <td>0</td>\n",
       "      <td>0</td>\n",
       "    </tr>\n",
       "    <tr>\n",
       "      <th>3</th>\n",
       "      <td>0</td>\n",
       "      <td>0</td>\n",
       "      <td>0</td>\n",
       "      <td>13</td>\n",
       "      <td>0</td>\n",
       "      <td>0</td>\n",
       "      <td>0</td>\n",
       "      <td>0</td>\n",
       "      <td>0</td>\n",
       "      <td>0</td>\n",
       "    </tr>\n",
       "    <tr>\n",
       "      <th>4</th>\n",
       "      <td>0</td>\n",
       "      <td>0</td>\n",
       "      <td>0</td>\n",
       "      <td>0</td>\n",
       "      <td>9</td>\n",
       "      <td>0</td>\n",
       "      <td>0</td>\n",
       "      <td>0</td>\n",
       "      <td>0</td>\n",
       "      <td>0</td>\n",
       "    </tr>\n",
       "    <tr>\n",
       "      <th>5</th>\n",
       "      <td>0</td>\n",
       "      <td>0</td>\n",
       "      <td>0</td>\n",
       "      <td>0</td>\n",
       "      <td>0</td>\n",
       "      <td>12</td>\n",
       "      <td>0</td>\n",
       "      <td>0</td>\n",
       "      <td>0</td>\n",
       "      <td>0</td>\n",
       "    </tr>\n",
       "    <tr>\n",
       "      <th>6</th>\n",
       "      <td>0</td>\n",
       "      <td>0</td>\n",
       "      <td>0</td>\n",
       "      <td>0</td>\n",
       "      <td>0</td>\n",
       "      <td>0</td>\n",
       "      <td>13</td>\n",
       "      <td>0</td>\n",
       "      <td>0</td>\n",
       "      <td>0</td>\n",
       "    </tr>\n",
       "    <tr>\n",
       "      <th>7</th>\n",
       "      <td>0</td>\n",
       "      <td>0</td>\n",
       "      <td>0</td>\n",
       "      <td>0</td>\n",
       "      <td>0</td>\n",
       "      <td>0</td>\n",
       "      <td>0</td>\n",
       "      <td>14</td>\n",
       "      <td>0</td>\n",
       "      <td>0</td>\n",
       "    </tr>\n",
       "    <tr>\n",
       "      <th>8</th>\n",
       "      <td>0</td>\n",
       "      <td>0</td>\n",
       "      <td>0</td>\n",
       "      <td>0</td>\n",
       "      <td>0</td>\n",
       "      <td>0</td>\n",
       "      <td>0</td>\n",
       "      <td>0</td>\n",
       "      <td>11</td>\n",
       "      <td>1</td>\n",
       "    </tr>\n",
       "    <tr>\n",
       "      <th>9</th>\n",
       "      <td>0</td>\n",
       "      <td>0</td>\n",
       "      <td>0</td>\n",
       "      <td>0</td>\n",
       "      <td>0</td>\n",
       "      <td>0</td>\n",
       "      <td>0</td>\n",
       "      <td>0</td>\n",
       "      <td>0</td>\n",
       "      <td>10</td>\n",
       "    </tr>\n",
       "  </tbody>\n",
       "</table>\n",
       "</div>"
      ],
      "text/plain": [
       "predicted    0  1  2   3  4   5   6   7   8   9\n",
       "actual                                         \n",
       "0          111  0  0   0  0   0   0   0   0   0\n",
       "1            0  7  0   0  0   0   0   0   0   0\n",
       "2            0  0  9   0  0   0   0   0   0   0\n",
       "3            0  0  0  13  0   0   0   0   0   0\n",
       "4            0  0  0   0  9   0   0   0   0   0\n",
       "5            0  0  0   0  0  12   0   0   0   0\n",
       "6            0  0  0   0  0   0  13   0   0   0\n",
       "7            0  0  0   0  0   0   0  14   0   0\n",
       "8            0  0  0   0  0   0   0   0  11   1\n",
       "9            0  0  0   0  0   0   0   0   0  10"
      ]
     },
     "execution_count": 91,
     "metadata": {},
     "output_type": "execute_result"
    }
   ],
   "source": [
    "pd.crosstab(actual, predicted, rownames = ['actual'], colnames = ['predicted'])"
   ]
  },
  {
   "cell_type": "code",
   "execution_count": null,
   "metadata": {},
   "outputs": [],
   "source": []
  },
  {
   "cell_type": "markdown",
   "metadata": {},
   "source": [
    "#### predict"
   ]
  },
  {
   "cell_type": "code",
   "execution_count": 107,
   "metadata": {},
   "outputs": [],
   "source": [
    "sudoku_array = [[1, 2, 3, 4, 5, 6, 7, 8, 9]]\n",
    "for i in range(80):\n",
    "    sudoku_array.append([1, 2, 3, 4, 5, 6, 7, 8, 9])"
   ]
  },
  {
   "cell_type": "code",
   "execution_count": 113,
   "metadata": {},
   "outputs": [
    {
     "name": "stderr",
     "output_type": "stream",
     "text": [
      "/opt/anaconda3/lib/python3.7/site-packages/numpy/core/fromnumeric.py:3335: RuntimeWarning: Mean of empty slice.\n",
      "  out=out, **kwargs)\n",
      "/opt/anaconda3/lib/python3.7/site-packages/numpy/core/_methods.py:161: RuntimeWarning: invalid value encountered in double_scalars\n",
      "  ret = ret.dtype.type(ret / rcount)\n"
     ]
    }
   ],
   "source": [
    "foo = cv2.imread(f)\n",
    "foo = h_v(foo)"
   ]
  },
  {
   "cell_type": "code",
   "execution_count": 116,
   "metadata": {},
   "outputs": [],
   "source": [
    "foo = cv2.resize(foo, (252,252), interpolation = cv2.INTER_LINEAR)\n",
    "foo = cv2.cvtColor(foo,cv2.COLOR_BGR2GRAY)\n",
    "foo = cv2.threshold(foo, 170, 255, cv2.THRESH_BINARY_INV)[1]"
   ]
  },
  {
   "cell_type": "code",
   "execution_count": 117,
   "metadata": {},
   "outputs": [
    {
     "data": {
      "image/png": "[encoded data removed]",
      "text/plain": [
       "<Figure size 1332x756 with 1 Axes>"
      ]
     },
     "metadata": {
      "needs_background": "light"
     },
     "output_type": "display_data"
    }
   ],
   "source": [
    "fig = plt.figure()\n",
    "fig.set_size_inches(18.5, 10.5)\n",
    "plt.imshow(foo)\n",
    "plt.show()"
   ]
  },
  {
   "cell_type": "code",
   "execution_count": 118,
   "metadata": {},
   "outputs": [
    {
     "data": {
      "image/png": "[encoded data removed]",
      "text/plain": [
       "<Figure size 432x288 with 1 Axes>"
      ]
     },
     "metadata": {
      "needs_background": "light"
     },
     "output_type": "display_data"
    },
    {
     "name": "stdout",
     "output_type": "stream",
     "text": [
      "[[0.    0.    0.    0.    0.015 0.    0.033 0.    0.    0.952]]\n",
      "9\n"
     ]
    },
    {
     "data": {
      "image/png": "[encoded data removed]",
      "text/plain": [
       "<Figure size 432x288 with 1 Axes>"
      ]
     },
     "metadata": {
      "needs_background": "light"
     },
     "output_type": "display_data"
    },
    {
     "name": "stdout",
     "output_type": "stream",
     "text": [
      "[[1. 0. 0. 0. 0. 0. 0. 0. 0. 0.]]\n",
      "0\n"
     ]
    },
    {
     "data": {
      "image/png": "[encoded data removed]",
      "text/plain": [
       "<Figure size 432x288 with 1 Axes>"
      ]
     },
     "metadata": {
      "needs_background": "light"
     },
     "output_type": "display_data"
    },
    {
     "name": "stdout",
     "output_type": "stream",
     "text": [
      "[[1. 0. 0. 0. 0. 0. 0. 0. 0. 0.]]\n",
      "0\n"
     ]
    },
    {
     "data": {
      "image/png": "[encoded data removed]",
      "text/plain": [
       "<Figure size 432x288 with 1 Axes>"
      ]
     },
     "metadata": {
      "needs_background": "light"
     },
     "output_type": "display_data"
    },
    {
     "name": "stdout",
     "output_type": "stream",
     "text": [
      "[[1. 0. 0. 0. 0. 0. 0. 0. 0. 0.]]\n",
      "0\n"
     ]
    },
    {
     "data": {
      "image/png": "[encoded data removed]",
      "text/plain": [
       "<Figure size 432x288 with 1 Axes>"
      ]
     },
     "metadata": {
      "needs_background": "light"
     },
     "output_type": "display_data"
    },
    {
     "name": "stdout",
     "output_type": "stream",
     "text": [
      "[[1. 0. 0. 0. 0. 0. 0. 0. 0. 0.]]\n",
      "0\n"
     ]
    },
    {
     "data": {
      "image/png": "[encoded data removed]",
      "text/plain": [
       "<Figure size 432x288 with 1 Axes>"
      ]
     },
     "metadata": {
      "needs_background": "light"
     },
     "output_type": "display_data"
    },
    {
     "name": "stdout",
     "output_type": "stream",
     "text": [
      "[[1. 0. 0. 0. 0. 0. 0. 0. 0. 0.]]\n",
      "0\n"
     ]
    },
    {
     "data": {
      "image/png": "[encoded data removed]",
      "text/plain": [
       "<Figure size 432x288 with 1 Axes>"
      ]
     },
     "metadata": {
      "needs_background": "light"
     },
     "output_type": "display_data"
    },
    {
     "name": "stdout",
     "output_type": "stream",
     "text": [
      "[[1. 0. 0. 0. 0. 0. 0. 0. 0. 0.]]\n",
      "0\n"
     ]
    },
    {
     "data": {
      "image/png": "[encoded data removed]",
      "text/plain": [
       "<Figure size 432x288 with 1 Axes>"
      ]
     },
     "metadata": {
      "needs_background": "light"
     },
     "output_type": "display_data"
    },
    {
     "name": "stdout",
     "output_type": "stream",
     "text": [
      "[[1. 0. 0. 0. 0. 0. 0. 0. 0. 0.]]\n",
      "0\n"
     ]
    },
    {
     "data": {
      "image/png": "[encoded data removed]",
      "text/plain": [
       "<Figure size 432x288 with 1 Axes>"
      ]
     },
     "metadata": {
      "needs_background": "light"
     },
     "output_type": "display_data"
    },
    {
     "name": "stdout",
     "output_type": "stream",
     "text": [
      "[[1. 0. 0. 0. 0. 0. 0. 0. 0. 0.]]\n",
      "0\n"
     ]
    },
    {
     "data": {
      "image/png": "[encoded data removed]",
      "text/plain": [
       "<Figure size 432x288 with 1 Axes>"
      ]
     },
     "metadata": {
      "needs_background": "light"
     },
     "output_type": "display_data"
    },
    {
     "name": "stdout",
     "output_type": "stream",
     "text": [
      "[[1. 0. 0. 0. 0. 0. 0. 0. 0. 0.]]\n",
      "0\n"
     ]
    },
    {
     "data": {
      "image/png": "[encoded data removed]",
      "text/plain": [
       "<Figure size 432x288 with 1 Axes>"
      ]
     },
     "metadata": {
      "needs_background": "light"
     },
     "output_type": "display_data"
    },
    {
     "name": "stdout",
     "output_type": "stream",
     "text": [
      "[[0.    0.    0.    0.    0.001 0.    0.994 0.    0.005 0.001]]\n",
      "6\n"
     ]
    },
    {
     "data": {
      "image/png": "[encoded data removed]",
      "text/plain": [
       "<Figure size 432x288 with 1 Axes>"
      ]
     },
     "metadata": {
      "needs_background": "light"
     },
     "output_type": "display_data"
    },
    {
     "name": "stdout",
     "output_type": "stream",
     "text": [
      "[[1. 0. 0. 0. 0. 0. 0. 0. 0. 0.]]\n",
      "0\n"
     ]
    },
    {
     "data": {
      "image/png": "[encoded data removed]",
      "text/plain": [
       "<Figure size 432x288 with 1 Axes>"
      ]
     },
     "metadata": {
      "needs_background": "light"
     },
     "output_type": "display_data"
    },
    {
     "name": "stdout",
     "output_type": "stream",
     "text": [
      "[[1. 0. 0. 0. 0. 0. 0. 0. 0. 0.]]\n",
      "0\n"
     ]
    },
    {
     "data": {
      "image/png": "[encoded data removed]",
      "text/plain": [
       "<Figure size 432x288 with 1 Axes>"
      ]
     },
     "metadata": {
      "needs_background": "light"
     },
     "output_type": "display_data"
    },
    {
     "name": "stdout",
     "output_type": "stream",
     "text": [
      "[[1. 0. 0. 0. 0. 0. 0. 0. 0. 0.]]\n",
      "0\n"
     ]
    },
    {
     "data": {
      "image/png": "[encoded data removed]",
      "text/plain": [
       "<Figure size 432x288 with 1 Axes>"
      ]
     },
     "metadata": {
      "needs_background": "light"
     },
     "output_type": "display_data"
    },
    {
     "name": "stdout",
     "output_type": "stream",
     "text": [
      "[[1. 0. 0. 0. 0. 0. 0. 0. 0. 0.]]\n",
      "0\n"
     ]
    },
    {
     "data": {
      "image/png": "[encoded data removed]",
      "text/plain": [
       "<Figure size 432x288 with 1 Axes>"
      ]
     },
     "metadata": {
      "needs_background": "light"
     },
     "output_type": "display_data"
    },
    {
     "name": "stdout",
     "output_type": "stream",
     "text": [
      "[[0.    0.    0.    0.    0.    0.106 0.006 0.    0.    0.888]]\n",
      "9\n"
     ]
    },
    {
     "data": {
      "image/png": "[encoded data removed]",
      "text/plain": [
       "<Figure size 432x288 with 1 Axes>"
      ]
     },
     "metadata": {
      "needs_background": "light"
     },
     "output_type": "display_data"
    },
    {
     "name": "stdout",
     "output_type": "stream",
     "text": [
      "[[1. 0. 0. 0. 0. 0. 0. 0. 0. 0.]]\n",
      "0\n"
     ]
    },
    {
     "data": {
      "image/png": "[encoded data removed]",
      "text/plain": [
       "<Figure size 432x288 with 1 Axes>"
      ]
     },
     "metadata": {
      "needs_background": "light"
     },
     "output_type": "display_data"
    },
    {
     "name": "stdout",
     "output_type": "stream",
     "text": [
      "[[1. 0. 0. 0. 0. 0. 0. 0. 0. 0.]]\n",
      "0\n"
     ]
    },
    {
     "data": {
      "image/png": "[encoded data removed]",
      "text/plain": [
       "<Figure size 432x288 with 1 Axes>"
      ]
     },
     "metadata": {
      "needs_background": "light"
     },
     "output_type": "display_data"
    },
    {
     "name": "stdout",
     "output_type": "stream",
     "text": [
      "[[1. 0. 0. 0. 0. 0. 0. 0. 0. 0.]]\n",
      "0\n"
     ]
    },
    {
     "data": {
      "image/png": "[encoded data removed]",
      "text/plain": [
       "<Figure size 432x288 with 1 Axes>"
      ]
     },
     "metadata": {
      "needs_background": "light"
     },
     "output_type": "display_data"
    },
    {
     "name": "stdout",
     "output_type": "stream",
     "text": [
      "[[1. 0. 0. 0. 0. 0. 0. 0. 0. 0.]]\n",
      "0\n"
     ]
    },
    {
     "data": {
      "image/png": "[encoded data removed]",
      "text/plain": [
       "<Figure size 432x288 with 1 Axes>"
      ]
     },
     "metadata": {
      "needs_background": "light"
     },
     "output_type": "display_data"
    },
    {
     "name": "stdout",
     "output_type": "stream",
     "text": [
      "[[1. 0. 0. 0. 0. 0. 0. 0. 0. 0.]]\n",
      "0\n"
     ]
    },
    {
     "data": {
      "image/png": "[encoded data removed]",
      "text/plain": [
       "<Figure size 432x288 with 1 Axes>"
      ]
     },
     "metadata": {
      "needs_background": "light"
     },
     "output_type": "display_data"
    },
    {
     "name": "stdout",
     "output_type": "stream",
     "text": [
      "[[0.    0.    0.999 0.    0.    0.    0.    0.    0.    0.   ]]\n",
      "2\n"
     ]
    },
    {
     "data": {
      "image/png": "[encoded data removed]",
      "text/plain": [
       "<Figure size 432x288 with 1 Axes>"
      ]
     },
     "metadata": {
      "needs_background": "light"
     },
     "output_type": "display_data"
    },
    {
     "name": "stdout",
     "output_type": "stream",
     "text": [
      "[[1. 0. 0. 0. 0. 0. 0. 0. 0. 0.]]\n",
      "0\n"
     ]
    },
    {
     "data": {
      "image/png": "[encoded data removed]",
      "text/plain": [
       "<Figure size 432x288 with 1 Axes>"
      ]
     },
     "metadata": {
      "needs_background": "light"
     },
     "output_type": "display_data"
    },
    {
     "name": "stdout",
     "output_type": "stream",
     "text": [
      "[[1. 0. 0. 0. 0. 0. 0. 0. 0. 0.]]\n",
      "0\n"
     ]
    },
    {
     "data": {
      "image/png": "[encoded data removed]",
      "text/plain": [
       "<Figure size 432x288 with 1 Axes>"
      ]
     },
     "metadata": {
      "needs_background": "light"
     },
     "output_type": "display_data"
    },
    {
     "name": "stdout",
     "output_type": "stream",
     "text": [
      "[[0. 0. 0. 0. 0. 0. 0. 1. 0. 0.]]\n",
      "7\n"
     ]
    },
    {
     "data": {
      "image/png": "[encoded data removed]",
      "text/plain": [
       "<Figure size 432x288 with 1 Axes>"
      ]
     },
     "metadata": {
      "needs_background": "light"
     },
     "output_type": "display_data"
    },
    {
     "name": "stdout",
     "output_type": "stream",
     "text": [
      "[[0.    0.    0.    0.    0.    0.    0.999 0.    0.    0.   ]]\n",
      "6\n"
     ]
    },
    {
     "data": {
      "image/png": "[encoded data removed]",
      "text/plain": [
       "<Figure size 432x288 with 1 Axes>"
      ]
     },
     "metadata": {
      "needs_background": "light"
     },
     "output_type": "display_data"
    },
    {
     "name": "stdout",
     "output_type": "stream",
     "text": [
      "[[1. 0. 0. 0. 0. 0. 0. 0. 0. 0.]]\n",
      "0\n"
     ]
    },
    {
     "data": {
      "image/png": "[encoded data removed]",
      "text/plain": [
       "<Figure size 432x288 with 1 Axes>"
      ]
     },
     "metadata": {
      "needs_background": "light"
     },
     "output_type": "display_data"
    },
    {
     "name": "stdout",
     "output_type": "stream",
     "text": [
      "[[0. 0. 0. 0. 1. 0. 0. 0. 0. 0.]]\n",
      "4\n"
     ]
    },
    {
     "data": {
      "image/png": "[encoded data removed]",
      "text/plain": [
       "<Figure size 432x288 with 1 Axes>"
      ]
     },
     "metadata": {
      "needs_background": "light"
     },
     "output_type": "display_data"
    },
    {
     "name": "stdout",
     "output_type": "stream",
     "text": [
      "[[0. 0. 0. 0. 0. 1. 0. 0. 0. 0.]]\n",
      "5\n"
     ]
    },
    {
     "data": {
      "image/png": "[encoded data removed]",
      "text/plain": [
       "<Figure size 432x288 with 1 Axes>"
      ]
     },
     "metadata": {
      "needs_background": "light"
     },
     "output_type": "display_data"
    },
    {
     "name": "stdout",
     "output_type": "stream",
     "text": [
      "[[1. 0. 0. 0. 0. 0. 0. 0. 0. 0.]]\n",
      "0\n"
     ]
    },
    {
     "data": {
      "image/png": "[encoded data removed]",
      "text/plain": [
       "<Figure size 432x288 with 1 Axes>"
      ]
     },
     "metadata": {
      "needs_background": "light"
     },
     "output_type": "display_data"
    },
    {
     "name": "stdout",
     "output_type": "stream",
     "text": [
      "[[1. 0. 0. 0. 0. 0. 0. 0. 0. 0.]]\n",
      "0\n"
     ]
    },
    {
     "data": {
      "image/png": "[encoded data removed]",
      "text/plain": [
       "<Figure size 432x288 with 1 Axes>"
      ]
     },
     "metadata": {
      "needs_background": "light"
     },
     "output_type": "display_data"
    },
    {
     "name": "stdout",
     "output_type": "stream",
     "text": [
      "[[0. 0. 0. 0. 0. 0. 0. 0. 0. 1.]]\n",
      "9\n"
     ]
    },
    {
     "data": {
      "image/png": "[encoded data removed]",
      "text/plain": [
       "<Figure size 432x288 with 1 Axes>"
      ]
     },
     "metadata": {
      "needs_background": "light"
     },
     "output_type": "display_data"
    },
    {
     "name": "stdout",
     "output_type": "stream",
     "text": [
      "[[1. 0. 0. 0. 0. 0. 0. 0. 0. 0.]]\n",
      "0\n"
     ]
    },
    {
     "data": {
      "image/png": "[encoded data removed]",
      "text/plain": [
       "<Figure size 432x288 with 1 Axes>"
      ]
     },
     "metadata": {
      "needs_background": "light"
     },
     "output_type": "display_data"
    },
    {
     "name": "stdout",
     "output_type": "stream",
     "text": [
      "[[1. 0. 0. 0. 0. 0. 0. 0. 0. 0.]]\n",
      "0\n"
     ]
    },
    {
     "data": {
      "image/png": "[encoded data removed]",
      "text/plain": [
       "<Figure size 432x288 with 1 Axes>"
      ]
     },
     "metadata": {
      "needs_background": "light"
     },
     "output_type": "display_data"
    },
    {
     "name": "stdout",
     "output_type": "stream",
     "text": [
      "[[0.    0.    0.    0.098 0.011 0.    0.001 0.    0.886 0.004]]\n",
      "8\n"
     ]
    },
    {
     "data": {
      "image/png": "[encoded data removed]",
      "text/plain": [
       "<Figure size 432x288 with 1 Axes>"
      ]
     },
     "metadata": {
      "needs_background": "light"
     },
     "output_type": "display_data"
    },
    {
     "name": "stdout",
     "output_type": "stream",
     "text": [
      "[[1. 0. 0. 0. 0. 0. 0. 0. 0. 0.]]\n",
      "0\n"
     ]
    },
    {
     "data": {
      "image/png": "[encoded data removed]",
      "text/plain": [
       "<Figure size 432x288 with 1 Axes>"
      ]
     },
     "metadata": {
      "needs_background": "light"
     },
     "output_type": "display_data"
    },
    {
     "name": "stdout",
     "output_type": "stream",
     "text": [
      "[[0. 0. 0. 0. 0. 0. 0. 1. 0. 0.]]\n",
      "7\n"
     ]
    },
    {
     "data": {
      "image/png": "[encoded data removed]",
      "text/plain": [
       "<Figure size 432x288 with 1 Axes>"
      ]
     },
     "metadata": {
      "needs_background": "light"
     },
     "output_type": "display_data"
    },
    {
     "name": "stdout",
     "output_type": "stream",
     "text": [
      "[[1. 0. 0. 0. 0. 0. 0. 0. 0. 0.]]\n",
      "0\n"
     ]
    },
    {
     "data": {
      "image/png": "[encoded data removed]",
      "text/plain": [
       "<Figure size 432x288 with 1 Axes>"
      ]
     },
     "metadata": {
      "needs_background": "light"
     },
     "output_type": "display_data"
    },
    {
     "name": "stdout",
     "output_type": "stream",
     "text": [
      "[[1. 0. 0. 0. 0. 0. 0. 0. 0. 0.]]\n",
      "0\n"
     ]
    },
    {
     "data": {
      "image/png": "[encoded data removed]",
      "text/plain": [
       "<Figure size 432x288 with 1 Axes>"
      ]
     },
     "metadata": {
      "needs_background": "light"
     },
     "output_type": "display_data"
    },
    {
     "name": "stdout",
     "output_type": "stream",
     "text": [
      "[[1. 0. 0. 0. 0. 0. 0. 0. 0. 0.]]\n",
      "0\n"
     ]
    },
    {
     "data": {
      "image/png": "[encoded data removed]",
      "text/plain": [
       "<Figure size 432x288 with 1 Axes>"
      ]
     },
     "metadata": {
      "needs_background": "light"
     },
     "output_type": "display_data"
    },
    {
     "name": "stdout",
     "output_type": "stream",
     "text": [
      "[[0. 0. 0. 0. 1. 0. 0. 0. 0. 0.]]\n",
      "4\n"
     ]
    },
    {
     "data": {
      "image/png": "[encoded data removed]",
      "text/plain": [
       "<Figure size 432x288 with 1 Axes>"
      ]
     },
     "metadata": {
      "needs_background": "light"
     },
     "output_type": "display_data"
    },
    {
     "name": "stdout",
     "output_type": "stream",
     "text": [
      "[[1. 0. 0. 0. 0. 0. 0. 0. 0. 0.]]\n",
      "0\n"
     ]
    },
    {
     "data": {
      "image/png": "[encoded data removed]",
      "text/plain": [
       "<Figure size 432x288 with 1 Axes>"
      ]
     },
     "metadata": {
      "needs_background": "light"
     },
     "output_type": "display_data"
    },
    {
     "name": "stdout",
     "output_type": "stream",
     "text": [
      "[[1. 0. 0. 0. 0. 0. 0. 0. 0. 0.]]\n",
      "0\n"
     ]
    },
    {
     "data": {
      "image/png": "[encoded data removed]",
      "text/plain": [
       "<Figure size 432x288 with 1 Axes>"
      ]
     },
     "metadata": {
      "needs_background": "light"
     },
     "output_type": "display_data"
    },
    {
     "name": "stdout",
     "output_type": "stream",
     "text": [
      "[[0. 1. 0. 0. 0. 0. 0. 0. 0. 0.]]\n",
      "1\n"
     ]
    },
    {
     "data": {
      "image/png": "[encoded data removed]",
      "text/plain": [
       "<Figure size 432x288 with 1 Axes>"
      ]
     },
     "metadata": {
      "needs_background": "light"
     },
     "output_type": "display_data"
    },
    {
     "name": "stdout",
     "output_type": "stream",
     "text": [
      "[[1. 0. 0. 0. 0. 0. 0. 0. 0. 0.]]\n",
      "0\n"
     ]
    },
    {
     "data": {
      "image/png": "[encoded data removed]",
      "text/plain": [
       "<Figure size 432x288 with 1 Axes>"
      ]
     },
     "metadata": {
      "needs_background": "light"
     },
     "output_type": "display_data"
    },
    {
     "name": "stdout",
     "output_type": "stream",
     "text": [
      "[[0.    0.    0.    0.999 0.    0.    0.    0.    0.    0.001]]\n",
      "3\n"
     ]
    },
    {
     "data": {
      "image/png": "[encoded data removed]",
      "text/plain": [
       "<Figure size 432x288 with 1 Axes>"
      ]
     },
     "metadata": {
      "needs_background": "light"
     },
     "output_type": "display_data"
    },
    {
     "name": "stdout",
     "output_type": "stream",
     "text": [
      "[[1. 0. 0. 0. 0. 0. 0. 0. 0. 0.]]\n",
      "0\n"
     ]
    },
    {
     "data": {
      "image/png": "[encoded data removed]",
      "text/plain": [
       "<Figure size 432x288 with 1 Axes>"
      ]
     },
     "metadata": {
      "needs_background": "light"
     },
     "output_type": "display_data"
    },
    {
     "name": "stdout",
     "output_type": "stream",
     "text": [
      "[[1. 0. 0. 0. 0. 0. 0. 0. 0. 0.]]\n",
      "0\n"
     ]
    },
    {
     "data": {
      "image/png": "[encoded data removed]",
      "text/plain": [
       "<Figure size 432x288 with 1 Axes>"
      ]
     },
     "metadata": {
      "needs_background": "light"
     },
     "output_type": "display_data"
    },
    {
     "name": "stdout",
     "output_type": "stream",
     "text": [
      "[[0.    0.    0.    0.    0.    0.986 0.001 0.    0.012 0.001]]\n",
      "5\n"
     ]
    },
    {
     "data": {
      "image/png": "[encoded data removed]",
      "text/plain": [
       "<Figure size 432x288 with 1 Axes>"
      ]
     },
     "metadata": {
      "needs_background": "light"
     },
     "output_type": "display_data"
    },
    {
     "name": "stdout",
     "output_type": "stream",
     "text": [
      "[[1. 0. 0. 0. 0. 0. 0. 0. 0. 0.]]\n",
      "0\n"
     ]
    },
    {
     "data": {
      "image/png": "[encoded data removed]",
      "text/plain": [
       "<Figure size 432x288 with 1 Axes>"
      ]
     },
     "metadata": {
      "needs_background": "light"
     },
     "output_type": "display_data"
    },
    {
     "name": "stdout",
     "output_type": "stream",
     "text": [
      "[[1. 0. 0. 0. 0. 0. 0. 0. 0. 0.]]\n",
      "0\n"
     ]
    },
    {
     "data": {
      "image/png": "[encoded data removed]",
      "text/plain": [
       "<Figure size 432x288 with 1 Axes>"
      ]
     },
     "metadata": {
      "needs_background": "light"
     },
     "output_type": "display_data"
    },
    {
     "name": "stdout",
     "output_type": "stream",
     "text": [
      "[[1. 0. 0. 0. 0. 0. 0. 0. 0. 0.]]\n",
      "0\n"
     ]
    },
    {
     "data": {
      "image/png": "[encoded data removed]",
      "text/plain": [
       "<Figure size 432x288 with 1 Axes>"
      ]
     },
     "metadata": {
      "needs_background": "light"
     },
     "output_type": "display_data"
    },
    {
     "name": "stdout",
     "output_type": "stream",
     "text": [
      "[[1. 0. 0. 0. 0. 0. 0. 0. 0. 0.]]\n",
      "0\n"
     ]
    },
    {
     "data": {
      "image/png": "[encoded data removed]",
      "text/plain": [
       "<Figure size 432x288 with 1 Axes>"
      ]
     },
     "metadata": {
      "needs_background": "light"
     },
     "output_type": "display_data"
    },
    {
     "name": "stdout",
     "output_type": "stream",
     "text": [
      "[[1. 0. 0. 0. 0. 0. 0. 0. 0. 0.]]\n",
      "0\n"
     ]
    },
    {
     "data": {
      "image/png": "[encoded data removed]",
      "text/plain": [
       "<Figure size 432x288 with 1 Axes>"
      ]
     },
     "metadata": {
      "needs_background": "light"
     },
     "output_type": "display_data"
    },
    {
     "name": "stdout",
     "output_type": "stream",
     "text": [
      "[[0.    0.    0.    0.    0.    0.996 0.003 0.    0.001 0.   ]]\n",
      "5\n"
     ]
    },
    {
     "data": {
      "image/png": "[encoded data removed]",
      "text/plain": [
       "<Figure size 432x288 with 1 Axes>"
      ]
     },
     "metadata": {
      "needs_background": "light"
     },
     "output_type": "display_data"
    },
    {
     "name": "stdout",
     "output_type": "stream",
     "text": [
      "[[0. 0. 0. 0. 1. 0. 0. 0. 0. 0.]]\n",
      "4\n"
     ]
    },
    {
     "data": {
      "image/png": "[encoded data removed]",
      "text/plain": [
       "<Figure size 432x288 with 1 Axes>"
      ]
     },
     "metadata": {
      "needs_background": "light"
     },
     "output_type": "display_data"
    },
    {
     "name": "stdout",
     "output_type": "stream",
     "text": [
      "[[0.    0.    0.015 0.984 0.    0.    0.    0.    0.    0.001]]\n",
      "3\n"
     ]
    },
    {
     "data": {
      "image/png": "[encoded data removed]",
      "text/plain": [
       "<Figure size 432x288 with 1 Axes>"
      ]
     },
     "metadata": {
      "needs_background": "light"
     },
     "output_type": "display_data"
    },
    {
     "name": "stdout",
     "output_type": "stream",
     "text": [
      "[[1. 0. 0. 0. 0. 0. 0. 0. 0. 0.]]\n",
      "0\n"
     ]
    },
    {
     "data": {
      "image/png": "[encoded data removed]",
      "text/plain": [
       "<Figure size 432x288 with 1 Axes>"
      ]
     },
     "metadata": {
      "needs_background": "light"
     },
     "output_type": "display_data"
    },
    {
     "name": "stdout",
     "output_type": "stream",
     "text": [
      "[[1. 0. 0. 0. 0. 0. 0. 0. 0. 0.]]\n",
      "0\n"
     ]
    },
    {
     "data": {
      "image/png": "[encoded data removed]",
      "text/plain": [
       "<Figure size 432x288 with 1 Axes>"
      ]
     },
     "metadata": {
      "needs_background": "light"
     },
     "output_type": "display_data"
    },
    {
     "name": "stdout",
     "output_type": "stream",
     "text": [
      "[[1. 0. 0. 0. 0. 0. 0. 0. 0. 0.]]\n",
      "0\n"
     ]
    },
    {
     "data": {
      "image/png": "[encoded data removed]",
      "text/plain": [
       "<Figure size 432x288 with 1 Axes>"
      ]
     },
     "metadata": {
      "needs_background": "light"
     },
     "output_type": "display_data"
    },
    {
     "name": "stdout",
     "output_type": "stream",
     "text": [
      "[[1. 0. 0. 0. 0. 0. 0. 0. 0. 0.]]\n",
      "0\n"
     ]
    },
    {
     "data": {
      "image/png": "[encoded data removed]",
      "text/plain": [
       "<Figure size 432x288 with 1 Axes>"
      ]
     },
     "metadata": {
      "needs_background": "light"
     },
     "output_type": "display_data"
    },
    {
     "name": "stdout",
     "output_type": "stream",
     "text": [
      "[[1. 0. 0. 0. 0. 0. 0. 0. 0. 0.]]\n",
      "0\n"
     ]
    },
    {
     "data": {
      "image/png": "[encoded data removed]",
      "text/plain": [
       "<Figure size 432x288 with 1 Axes>"
      ]
     },
     "metadata": {
      "needs_background": "light"
     },
     "output_type": "display_data"
    },
    {
     "name": "stdout",
     "output_type": "stream",
     "text": [
      "[[0. 1. 0. 0. 0. 0. 0. 0. 0. 0.]]\n",
      "1\n"
     ]
    },
    {
     "data": {
      "image/png": "[encoded data removed]",
      "text/plain": [
       "<Figure size 432x288 with 1 Axes>"
      ]
     },
     "metadata": {
      "needs_background": "light"
     },
     "output_type": "display_data"
    },
    {
     "name": "stdout",
     "output_type": "stream",
     "text": [
      "[[0. 1. 0. 0. 0. 0. 0. 0. 0. 0.]]\n",
      "1\n"
     ]
    },
    {
     "data": {
      "image/png": "[encoded data removed]",
      "text/plain": [
       "<Figure size 432x288 with 1 Axes>"
      ]
     },
     "metadata": {
      "needs_background": "light"
     },
     "output_type": "display_data"
    },
    {
     "name": "stdout",
     "output_type": "stream",
     "text": [
      "[[1. 0. 0. 0. 0. 0. 0. 0. 0. 0.]]\n",
      "0\n"
     ]
    },
    {
     "data": {
      "image/png": "[encoded data removed]",
      "text/plain": [
       "<Figure size 432x288 with 1 Axes>"
      ]
     },
     "metadata": {
      "needs_background": "light"
     },
     "output_type": "display_data"
    },
    {
     "name": "stdout",
     "output_type": "stream",
     "text": [
      "[[1. 0. 0. 0. 0. 0. 0. 0. 0. 0.]]\n",
      "0\n"
     ]
    },
    {
     "data": {
      "image/png": "[encoded data removed]",
      "text/plain": [
       "<Figure size 432x288 with 1 Axes>"
      ]
     },
     "metadata": {
      "needs_background": "light"
     },
     "output_type": "display_data"
    },
    {
     "name": "stdout",
     "output_type": "stream",
     "text": [
      "[[1. 0. 0. 0. 0. 0. 0. 0. 0. 0.]]\n",
      "0\n"
     ]
    },
    {
     "data": {
      "image/png": "[encoded data removed]",
      "text/plain": [
       "<Figure size 432x288 with 1 Axes>"
      ]
     },
     "metadata": {
      "needs_background": "light"
     },
     "output_type": "display_data"
    },
    {
     "name": "stdout",
     "output_type": "stream",
     "text": [
      "[[0. 0. 0. 0. 0. 0. 0. 1. 0. 0.]]\n",
      "7\n"
     ]
    },
    {
     "data": {
      "image/png": "[encoded data removed]",
      "text/plain": [
       "<Figure size 432x288 with 1 Axes>"
      ]
     },
     "metadata": {
      "needs_background": "light"
     },
     "output_type": "display_data"
    },
    {
     "name": "stdout",
     "output_type": "stream",
     "text": [
      "[[1. 0. 0. 0. 0. 0. 0. 0. 0. 0.]]\n",
      "0\n"
     ]
    },
    {
     "data": {
      "image/png": "[encoded data removed]",
      "text/plain": [
       "<Figure size 432x288 with 1 Axes>"
      ]
     },
     "metadata": {
      "needs_background": "light"
     },
     "output_type": "display_data"
    },
    {
     "name": "stdout",
     "output_type": "stream",
     "text": [
      "[[1. 0. 0. 0. 0. 0. 0. 0. 0. 0.]]\n",
      "0\n"
     ]
    },
    {
     "data": {
      "image/png": "[encoded data removed]",
      "text/plain": [
       "<Figure size 432x288 with 1 Axes>"
      ]
     },
     "metadata": {
      "needs_background": "light"
     },
     "output_type": "display_data"
    },
    {
     "name": "stdout",
     "output_type": "stream",
     "text": [
      "[[1. 0. 0. 0. 0. 0. 0. 0. 0. 0.]]\n",
      "0\n"
     ]
    },
    {
     "data": {
      "image/png": "[encoded data removed]",
      "text/plain": [
       "<Figure size 432x288 with 1 Axes>"
      ]
     },
     "metadata": {
      "needs_background": "light"
     },
     "output_type": "display_data"
    },
    {
     "name": "stdout",
     "output_type": "stream",
     "text": [
      "[[1. 0. 0. 0. 0. 0. 0. 0. 0. 0.]]\n",
      "0\n"
     ]
    },
    {
     "data": {
      "image/png": "[encoded data removed]",
      "text/plain": [
       "<Figure size 432x288 with 1 Axes>"
      ]
     },
     "metadata": {
      "needs_background": "light"
     },
     "output_type": "display_data"
    },
    {
     "name": "stdout",
     "output_type": "stream",
     "text": [
      "[[1. 0. 0. 0. 0. 0. 0. 0. 0. 0.]]\n",
      "0\n"
     ]
    },
    {
     "data": {
      "image/png": "[encoded data removed]",
      "text/plain": [
       "<Figure size 432x288 with 1 Axes>"
      ]
     },
     "metadata": {
      "needs_background": "light"
     },
     "output_type": "display_data"
    },
    {
     "name": "stdout",
     "output_type": "stream",
     "text": [
      "[[1. 0. 0. 0. 0. 0. 0. 0. 0. 0.]]\n",
      "0\n"
     ]
    },
    {
     "data": {
      "image/png": "[encoded data removed]",
      "text/plain": [
       "<Figure size 432x288 with 1 Axes>"
      ]
     },
     "metadata": {
      "needs_background": "light"
     },
     "output_type": "display_data"
    },
    {
     "name": "stdout",
     "output_type": "stream",
     "text": [
      "[[1. 0. 0. 0. 0. 0. 0. 0. 0. 0.]]\n",
      "0\n"
     ]
    },
    {
     "data": {
      "image/png": "[encoded data removed]",
      "text/plain": [
       "<Figure size 432x288 with 1 Axes>"
      ]
     },
     "metadata": {
      "needs_background": "light"
     },
     "output_type": "display_data"
    },
    {
     "name": "stdout",
     "output_type": "stream",
     "text": [
      "[[0.    0.    0.    0.    0.002 0.    0.254 0.    0.738 0.006]]\n",
      "8\n"
     ]
    },
    {
     "data": {
      "image/png": "[encoded data removed]",
      "text/plain": [
       "<Figure size 432x288 with 1 Axes>"
      ]
     },
     "metadata": {
      "needs_background": "light"
     },
     "output_type": "display_data"
    },
    {
     "name": "stdout",
     "output_type": "stream",
     "text": [
      "[[1. 0. 0. 0. 0. 0. 0. 0. 0. 0.]]\n",
      "0\n"
     ]
    },
    {
     "data": {
      "image/png": "[encoded data removed]",
      "text/plain": [
       "<Figure size 432x288 with 1 Axes>"
      ]
     },
     "metadata": {
      "needs_background": "light"
     },
     "output_type": "display_data"
    },
    {
     "name": "stdout",
     "output_type": "stream",
     "text": [
      "[[0. 1. 0. 0. 0. 0. 0. 0. 0. 0.]]\n",
      "1\n"
     ]
    },
    {
     "data": {
      "image/png": "[encoded data removed]",
      "text/plain": [
       "<Figure size 432x288 with 1 Axes>"
      ]
     },
     "metadata": {
      "needs_background": "light"
     },
     "output_type": "display_data"
    },
    {
     "name": "stdout",
     "output_type": "stream",
     "text": [
      "[[1. 0. 0. 0. 0. 0. 0. 0. 0. 0.]]\n",
      "0\n"
     ]
    },
    {
     "data": {
      "image/png": "[encoded data removed]",
      "text/plain": [
       "<Figure size 432x288 with 1 Axes>"
      ]
     },
     "metadata": {
      "needs_background": "light"
     },
     "output_type": "display_data"
    },
    {
     "name": "stdout",
     "output_type": "stream",
     "text": [
      "[[0. 0. 0. 0. 1. 0. 0. 0. 0. 0.]]\n",
      "4\n"
     ]
    },
    {
     "data": {
      "image/png": "[encoded data removed]",
      "text/plain": [
       "<Figure size 432x288 with 1 Axes>"
      ]
     },
     "metadata": {
      "needs_background": "light"
     },
     "output_type": "display_data"
    },
    {
     "name": "stdout",
     "output_type": "stream",
     "text": [
      "[[0. 0. 0. 0. 0. 0. 0. 0. 0. 1.]]\n",
      "9\n"
     ]
    }
   ],
   "source": [
    "for f in ['difficulty_hard_p1_copy.png']:\n",
    "    foo = cv2.imread(f)\n",
    "#         removing horizontal and vertical grids\n",
    "    foo = h_v(foo)\n",
    "#         making both height and width of the same dimension which is 9 * 28\n",
    "    foo = cv2.resize(foo, (252,252), interpolation = cv2.INTER_LINEAR)\n",
    "    foo = cv2.cvtColor(foo,cv2.COLOR_BGR2GRAY)\n",
    "    foo = cv2.threshold(foo, 170, 255, cv2.THRESH_BINARY_INV)[1]\n",
    "#     plt.imshow(foo)\n",
    "#     plt.show()\n",
    "\n",
    "#         store train data\n",
    "    h,w = foo.shape\n",
    "    box = 28\n",
    "    s = 0\n",
    "    for i in range(0,h,box):\n",
    "        for j in range(0,w,box):\n",
    "            foo_r = foo[i:i+box:, j:j+box]\n",
    "            plt.imshow(foo_r)\n",
    "            plt.show()\n",
    "\n",
    "            foo_f = foo_r.reshape((1, foo_r.shape[0], foo_r.shape[1], 1)).astype('float32')\n",
    "            foo_f = foo_f / 255\n",
    "            print(np.round(model.predict(foo_f),3))\n",
    "            print(np.argmax(model.predict(foo_f)))\n",
    "            if (np.argmax(model.predict(foo_f)) > 0):\n",
    "                sudoku_array[s] = [np.argmax(model.predict(foo_f))]\n",
    "            s = s + 1    "
   ]
  },
  {
   "cell_type": "code",
   "execution_count": 109,
   "metadata": {},
   "outputs": [
    {
     "data": {
      "text/plain": [
       "[[9],\n",
       " [1, 2, 3, 4, 5, 6, 7, 8, 9],\n",
       " [1, 2, 3, 4, 5, 6, 7, 8, 9],\n",
       " [1, 2, 3, 4, 5, 6, 7, 8, 9],\n",
       " [1, 2, 3, 4, 5, 6, 7, 8, 9],\n",
       " [1, 2, 3, 4, 5, 6, 7, 8, 9],\n",
       " [1, 2, 3, 4, 5, 6, 7, 8, 9],\n",
       " [1, 2, 3, 4, 5, 6, 7, 8, 9],\n",
       " [1, 2, 3, 4, 5, 6, 7, 8, 9],\n",
       " [1, 2, 3, 4, 5, 6, 7, 8, 9],\n",
       " [6],\n",
       " [1, 2, 3, 4, 5, 6, 7, 8, 9],\n",
       " [1, 2, 3, 4, 5, 6, 7, 8, 9],\n",
       " [1, 2, 3, 4, 5, 6, 7, 8, 9],\n",
       " [1, 2, 3, 4, 5, 6, 7, 8, 9],\n",
       " [9],\n",
       " [1, 2, 3, 4, 5, 6, 7, 8, 9],\n",
       " [1, 2, 3, 4, 5, 6, 7, 8, 9],\n",
       " [1, 2, 3, 4, 5, 6, 7, 8, 9],\n",
       " [1, 2, 3, 4, 5, 6, 7, 8, 9],\n",
       " [1, 2, 3, 4, 5, 6, 7, 8, 9],\n",
       " [2],\n",
       " [1, 2, 3, 4, 5, 6, 7, 8, 9],\n",
       " [1, 2, 3, 4, 5, 6, 7, 8, 9],\n",
       " [7],\n",
       " [6],\n",
       " [1, 2, 3, 4, 5, 6, 7, 8, 9],\n",
       " [4],\n",
       " [5],\n",
       " [1, 2, 3, 4, 5, 6, 7, 8, 9],\n",
       " [1, 2, 3, 4, 5, 6, 7, 8, 9],\n",
       " [9],\n",
       " [1, 2, 3, 4, 5, 6, 7, 8, 9],\n",
       " [1, 2, 3, 4, 5, 6, 7, 8, 9],\n",
       " [8],\n",
       " [1, 2, 3, 4, 5, 6, 7, 8, 9],\n",
       " [7],\n",
       " [1, 2, 3, 4, 5, 6, 7, 8, 9],\n",
       " [1, 2, 3, 4, 5, 6, 7, 8, 9],\n",
       " [1, 2, 3, 4, 5, 6, 7, 8, 9],\n",
       " [4],\n",
       " [1, 2, 3, 4, 5, 6, 7, 8, 9],\n",
       " [1, 2, 3, 4, 5, 6, 7, 8, 9],\n",
       " [1],\n",
       " [1, 2, 3, 4, 5, 6, 7, 8, 9],\n",
       " [3],\n",
       " [1, 2, 3, 4, 5, 6, 7, 8, 9],\n",
       " [1, 2, 3, 4, 5, 6, 7, 8, 9],\n",
       " [5],\n",
       " [1, 2, 3, 4, 5, 6, 7, 8, 9],\n",
       " [1, 2, 3, 4, 5, 6, 7, 8, 9],\n",
       " [1, 2, 3, 4, 5, 6, 7, 8, 9],\n",
       " [1, 2, 3, 4, 5, 6, 7, 8, 9],\n",
       " [1, 2, 3, 4, 5, 6, 7, 8, 9],\n",
       " [5],\n",
       " [4],\n",
       " [3],\n",
       " [1, 2, 3, 4, 5, 6, 7, 8, 9],\n",
       " [1, 2, 3, 4, 5, 6, 7, 8, 9],\n",
       " [1, 2, 3, 4, 5, 6, 7, 8, 9],\n",
       " [1, 2, 3, 4, 5, 6, 7, 8, 9],\n",
       " [1, 2, 3, 4, 5, 6, 7, 8, 9],\n",
       " [1],\n",
       " [1],\n",
       " [1, 2, 3, 4, 5, 6, 7, 8, 9],\n",
       " [1, 2, 3, 4, 5, 6, 7, 8, 9],\n",
       " [1, 2, 3, 4, 5, 6, 7, 8, 9],\n",
       " [7],\n",
       " [1, 2, 3, 4, 5, 6, 7, 8, 9],\n",
       " [1, 2, 3, 4, 5, 6, 7, 8, 9],\n",
       " [1, 2, 3, 4, 5, 6, 7, 8, 9],\n",
       " [1, 2, 3, 4, 5, 6, 7, 8, 9],\n",
       " [1, 2, 3, 4, 5, 6, 7, 8, 9],\n",
       " [1, 2, 3, 4, 5, 6, 7, 8, 9],\n",
       " [1, 2, 3, 4, 5, 6, 7, 8, 9],\n",
       " [8],\n",
       " [1, 2, 3, 4, 5, 6, 7, 8, 9],\n",
       " [1],\n",
       " [1, 2, 3, 4, 5, 6, 7, 8, 9],\n",
       " [4],\n",
       " [9]]"
      ]
     },
     "execution_count": 109,
     "metadata": {},
     "output_type": "execute_result"
    }
   ],
   "source": [
    "sudoku_array"
   ]
  },
  {
   "cell_type": "code",
   "execution_count": null,
   "metadata": {},
   "outputs": [],
   "source": []
  }
 ],
 "metadata": {
  "kernelspec": {
   "display_name": "Python 3",
   "language": "python",
   "name": "python3"
  },
  "language_info": {
   "codemirror_mode": {
    "name": "ipython",
    "version": 3
   },
   "file_extension": ".py",
   "mimetype": "text/x-python",
   "name": "python",
   "nbconvert_exporter": "python",
   "pygments_lexer": "ipython3",
   "version": "3.7.6"
  }
 },
 "nbformat": 4,
 "nbformat_minor": 4
}
