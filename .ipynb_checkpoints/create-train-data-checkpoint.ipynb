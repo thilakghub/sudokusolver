{
 "cells": [
  {
   "cell_type": "code",
   "execution_count": 25,
   "metadata": {},
   "outputs": [],
   "source": [
    "import cv2\n",
    "import os\n",
    "import numpy as np\n",
    "from matplotlib import pyplot as plt"
   ]
  },
  {
   "cell_type": "code",
   "execution_count": 9,
   "metadata": {},
   "outputs": [
    {
     "name": "stderr",
     "output_type": "stream",
     "text": [
      "Using TensorFlow backend.\n",
      "/opt/anaconda3/lib/python3.7/site-packages/tensorflow/python/framework/dtypes.py:516: FutureWarning: Passing (type, 1) or '1type' as a synonym of type is deprecated; in a future version of numpy, it will be understood as (type, (1,)) / '(1,)type'.\n",
      "  _np_qint8 = np.dtype([(\"qint8\", np.int8, 1)])\n",
      "/opt/anaconda3/lib/python3.7/site-packages/tensorflow/python/framework/dtypes.py:517: FutureWarning: Passing (type, 1) or '1type' as a synonym of type is deprecated; in a future version of numpy, it will be understood as (type, (1,)) / '(1,)type'.\n",
      "  _np_quint8 = np.dtype([(\"quint8\", np.uint8, 1)])\n",
      "/opt/anaconda3/lib/python3.7/site-packages/tensorflow/python/framework/dtypes.py:518: FutureWarning: Passing (type, 1) or '1type' as a synonym of type is deprecated; in a future version of numpy, it will be understood as (type, (1,)) / '(1,)type'.\n",
      "  _np_qint16 = np.dtype([(\"qint16\", np.int16, 1)])\n",
      "/opt/anaconda3/lib/python3.7/site-packages/tensorflow/python/framework/dtypes.py:519: FutureWarning: Passing (type, 1) or '1type' as a synonym of type is deprecated; in a future version of numpy, it will be understood as (type, (1,)) / '(1,)type'.\n",
      "  _np_quint16 = np.dtype([(\"quint16\", np.uint16, 1)])\n",
      "/opt/anaconda3/lib/python3.7/site-packages/tensorflow/python/framework/dtypes.py:520: FutureWarning: Passing (type, 1) or '1type' as a synonym of type is deprecated; in a future version of numpy, it will be understood as (type, (1,)) / '(1,)type'.\n",
      "  _np_qint32 = np.dtype([(\"qint32\", np.int32, 1)])\n",
      "/opt/anaconda3/lib/python3.7/site-packages/tensorflow/python/framework/dtypes.py:525: FutureWarning: Passing (type, 1) or '1type' as a synonym of type is deprecated; in a future version of numpy, it will be understood as (type, (1,)) / '(1,)type'.\n",
      "  np_resource = np.dtype([(\"resource\", np.ubyte, 1)])\n",
      "/opt/anaconda3/lib/python3.7/site-packages/tensorboard/compat/tensorflow_stub/dtypes.py:541: FutureWarning: Passing (type, 1) or '1type' as a synonym of type is deprecated; in a future version of numpy, it will be understood as (type, (1,)) / '(1,)type'.\n",
      "  _np_qint8 = np.dtype([(\"qint8\", np.int8, 1)])\n",
      "/opt/anaconda3/lib/python3.7/site-packages/tensorboard/compat/tensorflow_stub/dtypes.py:542: FutureWarning: Passing (type, 1) or '1type' as a synonym of type is deprecated; in a future version of numpy, it will be understood as (type, (1,)) / '(1,)type'.\n",
      "  _np_quint8 = np.dtype([(\"quint8\", np.uint8, 1)])\n",
      "/opt/anaconda3/lib/python3.7/site-packages/tensorboard/compat/tensorflow_stub/dtypes.py:543: FutureWarning: Passing (type, 1) or '1type' as a synonym of type is deprecated; in a future version of numpy, it will be understood as (type, (1,)) / '(1,)type'.\n",
      "  _np_qint16 = np.dtype([(\"qint16\", np.int16, 1)])\n",
      "/opt/anaconda3/lib/python3.7/site-packages/tensorboard/compat/tensorflow_stub/dtypes.py:544: FutureWarning: Passing (type, 1) or '1type' as a synonym of type is deprecated; in a future version of numpy, it will be understood as (type, (1,)) / '(1,)type'.\n",
      "  _np_quint16 = np.dtype([(\"quint16\", np.uint16, 1)])\n",
      "/opt/anaconda3/lib/python3.7/site-packages/tensorboard/compat/tensorflow_stub/dtypes.py:545: FutureWarning: Passing (type, 1) or '1type' as a synonym of type is deprecated; in a future version of numpy, it will be understood as (type, (1,)) / '(1,)type'.\n",
      "  _np_qint32 = np.dtype([(\"qint32\", np.int32, 1)])\n",
      "/opt/anaconda3/lib/python3.7/site-packages/tensorboard/compat/tensorflow_stub/dtypes.py:550: FutureWarning: Passing (type, 1) or '1type' as a synonym of type is deprecated; in a future version of numpy, it will be understood as (type, (1,)) / '(1,)type'.\n",
      "  np_resource = np.dtype([(\"resource\", np.ubyte, 1)])\n"
     ]
    }
   ],
   "source": [
    "import numpy as np\n",
    "from keras.datasets import mnist\n",
    "from keras.models import Sequential\n",
    "from keras.layers import Dense\n",
    "from keras.layers import Dropout\n",
    "from keras.utils import np_utils\n",
    "import matplotlib.pyplot as plt\n",
    "from keras.utils import np_utils"
   ]
  },
  {
   "cell_type": "code",
   "execution_count": 22,
   "metadata": {},
   "outputs": [],
   "source": [
    "import os\n",
    "os.environ['KMP_DUPLICATE_LIB_OK']='True'"
   ]
  },
  {
   "cell_type": "code",
   "execution_count": 23,
   "metadata": {},
   "outputs": [],
   "source": [
    "def h_v(image):\n",
    "    steps = 1\n",
    "    cutoff = 220\n",
    "    h,w,d = image.shape\n",
    "    for i in range(w):\n",
    "        if(np.mean(image[i:i+1,:,:]) < cutoff):\n",
    "            image[i:i+1,:,:].fill(255)\n",
    "    for i in range(h):\n",
    "        if(np.mean(image[:,i:i+1,:]) < cutoff):\n",
    "            image[:,i:i+1,:].fill(255)\n",
    "    return(image)"
   ]
  },
  {
   "cell_type": "code",
   "execution_count": 29,
   "metadata": {},
   "outputs": [],
   "source": [
    "path = 'create-train-data/'\n",
    "filelist = os.listdir(path)\n",
    "filelist.sort()\n",
    "cnt = 0\n",
    "for f in filelist[:]:\n",
    "    if (f.endswith(\".png\")):\n",
    "        foo = cv2.imread(path+f)\n",
    "        \n",
    "#         removing horizontal and vertical grids\n",
    "        foo = h_v(foo)\n",
    "        \n",
    "#         making both height and width of the same dimension which is 9 * 28\n",
    "        foo = cv2.resize(foo, (252,252), interpolation = cv2.INTER_LINEAR)\n",
    "        foo = cv2.cvtColor(foo,cv2.COLOR_BGR2GRAY)\n",
    "        foo = cv2.threshold(foo, 170, 255, cv2.THRESH_BINARY_INV)[1]\n",
    "#         plt.imshow(foo)\n",
    "#         plt.show()\n",
    "        \n",
    "#         store train data\n",
    "        h,w = foo.shape\n",
    "        box = 28\n",
    "        for i in range(0,h,box):\n",
    "            for j in range(0,w,box):\n",
    "                foo_r = foo[i:i+box:, j:j+box]\n",
    "#                 plt.imshow(foo_r)\n",
    "#                 plt.show()\n",
    "\n",
    "                foo_f = foo_r.reshape(1, 784).astype('float32')\n",
    "                foo_f = foo_f/255\n",
    "                if((i==0) & (j==0)):\n",
    "                    train = foo_f.copy()\n",
    "                else:\n",
    "                    train = np.append(train, foo_f, axis = 0)\n",
    "        if cnt == 0: train_f = train.copy()\n",
    "        else: train_f = np.append(train_f, train, axis = 0)\n",
    "        cnt = cnt + 1"
   ]
  },
  {
   "cell_type": "code",
   "execution_count": 27,
   "metadata": {},
   "outputs": [],
   "source": [
    "# train_f = train_f[0:162]"
   ]
  },
  {
   "cell_type": "code",
   "execution_count": 30,
   "metadata": {},
   "outputs": [
    {
     "data": {
      "text/plain": [
       "(405, 784)"
      ]
     },
     "execution_count": 30,
     "metadata": {},
     "output_type": "execute_result"
    }
   ],
   "source": [
    "train_f.shape"
   ]
  },
  {
   "cell_type": "code",
   "execution_count": 31,
   "metadata": {},
   "outputs": [],
   "source": [
    "test = np.array([0,0,0,6,9,0,4,0,0\n",
    "                 ,0,2,9,0,0,5,0,0,3\n",
    "                 ,0,0,1,0,3,4,0,0,8\n",
    "                 ,9,8,0,0,0,1,0,7,0\n",
    "                 ,2,0,7,0,6,9,0,3,1\n",
    "                 ,0,0,3,2,0,7,5,4,0\n",
    "                 ,8,3,0,9,0,0,0,0,7\n",
    "                 ,0,0,5,0,2,0,0,0,0\n",
    "                 ,1,0,6,5,7,3,0,0,4\n",
    "                 ,6,0,0,1,0,0,0,0,2\n",
    "                 ,8,0,1,0,9,0,0,0,0\n",
    "                 ,0,7,5,0,8,4,0,0,0\n",
    "                 ,4,3,0,0,2,0,5,6,1\n",
    "                 ,5,1,8,7,0,0,4,0,9\n",
    "                 ,0,9,6,4,1,0,3,0,0\n",
    "                 ,0,0,0,0,7,0,0,0,0\n",
    "                 ,0,6,0,0,3,1,0,5,0\n",
    "                 ,7,0,2,5,4,0,6,0,3\n",
    "                 ,0,9,1,0,5,0,6,8,0\n",
    "                 ,0,0,0,6,8,7,0,0,5\n",
    "                 ,8,0,0,0,1,3,0,2,0\n",
    "                 ,4,0,0,0,0,2,0,0,0\n",
    "                 ,0,0,2,0,0,8,7,6,0\n",
    "                 ,0,8,6,4,0,0,1,0,0\n",
    "                 ,3,0,4,8,0,0,2,5,0\n",
    "                 ,1,5,8,0,0,0,3,4,0\n",
    "                 ,0,2,9,0,0,5,0,7,1\n",
    "                 ,4,0,6,7,5,1,0,8,0\n",
    "                 ,2,0,8,0,0,0,4,7,0\n",
    "                 ,0,0,0,0,0,0,9,0,6\n",
    "                 ,5,3,0,2,0,0,0,0,0\n",
    "                 ,6,4,9,1,3,0,0,0,0\n",
    "                 ,0,0,7,9,0,5,1,0,0\n",
    "                 ,0,7,0,8,2,9,0,5,0\n",
    "                 ,0,6,2,0,1,0,0,3,8\n",
    "                 ,1,8,0,0,0,7,0,0,9\n",
    "                 ,7,0,4,5,3,0,2,0,0\n",
    "                 ,0,0,8,1,6,0,0,0,0\n",
    "                 ,1,0,2,0,0,0,6,8,5\n",
    "                 ,0,0,7,9,1,0,0,6,8\n",
    "                 ,0,0,5,0,0,7,3,0,2\n",
    "                 ,6,8,0,0,5,4,1,9,0\n",
    "                 ,0,0,0,7,0,0,8,0,0\n",
    "                 ,2,5,0,0,0,0,4,7,3\n",
    "                 ,0,0,0,0,4,0,0,2,6])"
   ]
  },
  {
   "cell_type": "code",
   "execution_count": 32,
   "metadata": {},
   "outputs": [],
   "source": [
    "test_f = np_utils.to_categorical(test)"
   ]
  },
  {
   "cell_type": "code",
   "execution_count": 33,
   "metadata": {},
   "outputs": [
    {
     "data": {
      "text/plain": [
       "(405, 10)"
      ]
     },
     "execution_count": 33,
     "metadata": {},
     "output_type": "execute_result"
    }
   ],
   "source": [
    "test_f.shape"
   ]
  },
  {
   "cell_type": "code",
   "execution_count": 34,
   "metadata": {},
   "outputs": [],
   "source": [
    "num_pixels = 784"
   ]
  },
  {
   "cell_type": "code",
   "execution_count": 35,
   "metadata": {},
   "outputs": [],
   "source": [
    "num_classes = test_f.shape[1]"
   ]
  },
  {
   "cell_type": "code",
   "execution_count": 59,
   "metadata": {},
   "outputs": [],
   "source": [
    "# define baseline model\n",
    "def baseline_model():\n",
    "    # create model\n",
    "    model = Sequential()\n",
    "    model.add(Dense(num_pixels, input_dim=num_pixels, kernel_initializer='normal', activation='relu'))\n",
    "    model.add(Dense(392, kernel_initializer='normal', activation='relu'))\n",
    "    model.add(Dense(196, kernel_initializer='normal', activation='relu'))\n",
    "    model.add(Dense(num_classes, kernel_initializer='normal', activation='softmax'))\n",
    "    # Compile model\n",
    "    model.compile(loss='categorical_crossentropy', optimizer='adam', metrics=['accuracy'])\n",
    "    return model"
   ]
  },
  {
   "cell_type": "code",
   "execution_count": 61,
   "metadata": {},
   "outputs": [
    {
     "name": "stdout",
     "output_type": "stream",
     "text": [
      "Train on 350 samples, validate on 55 samples\n",
      "Epoch 1/10\n",
      " - 3s - loss: 1.4114 - accuracy: 0.6171 - val_loss: 0.7697 - val_accuracy: 0.7091\n",
      "Epoch 2/10\n",
      " - 3s - loss: 0.4666 - accuracy: 0.8429 - val_loss: 0.4960 - val_accuracy: 0.8545\n",
      "Epoch 3/10\n",
      " - 3s - loss: 0.2396 - accuracy: 0.9286 - val_loss: 0.4893 - val_accuracy: 0.8182\n",
      "Epoch 4/10\n",
      " - 3s - loss: 0.1113 - accuracy: 0.9600 - val_loss: 0.6401 - val_accuracy: 0.7636\n",
      "Epoch 5/10\n",
      " - 3s - loss: 0.0982 - accuracy: 0.9714 - val_loss: 0.7707 - val_accuracy: 0.7818\n",
      "Epoch 6/10\n",
      " - 2s - loss: 0.0531 - accuracy: 0.9800 - val_loss: 0.4331 - val_accuracy: 0.8364\n",
      "Epoch 7/10\n",
      " - 2s - loss: 0.0063 - accuracy: 1.0000 - val_loss: 0.3826 - val_accuracy: 0.8909\n",
      "Epoch 8/10\n",
      " - 2s - loss: 7.5902e-04 - accuracy: 1.0000 - val_loss: 0.3973 - val_accuracy: 0.8909\n",
      "Epoch 9/10\n",
      " - 2s - loss: 4.2675e-04 - accuracy: 1.0000 - val_loss: 0.4174 - val_accuracy: 0.8909\n",
      "Epoch 10/10\n",
      " - 2s - loss: 2.2198e-04 - accuracy: 1.0000 - val_loss: 0.4370 - val_accuracy: 0.8909\n",
      "Baseline Error: 10.91%\n"
     ]
    }
   ],
   "source": [
    "# build the model\n",
    "model = baseline_model()\n",
    "# Fit the model\n",
    "model.fit(train_f[0:350], test_f[0:350], validation_data=(train_f[350:], test_f[350:]), epochs=10, batch_size=3, verbose=2)\n",
    "# Final evaluation of the model\n",
    "scores = model.evaluate(train_f[350:], test_f[350:], verbose=0)\n",
    "print(\"Baseline Error: %.2f%%\" % (100-scores[1]*100))"
   ]
  },
  {
   "cell_type": "markdown",
   "metadata": {},
   "source": [
    "#### predict"
   ]
  },
  {
   "cell_type": "code",
   "execution_count": 16,
   "metadata": {},
   "outputs": [
    {
     "data": {
      "text/plain": [
       "'003.png'"
      ]
     },
     "execution_count": 16,
     "metadata": {},
     "output_type": "execute_result"
    }
   ],
   "source": [
    "filelist[2]"
   ]
  },
  {
   "cell_type": "code",
   "execution_count": 62,
   "metadata": {},
   "outputs": [],
   "source": [
    "sudoku_array = [[1, 2, 3, 4, 5, 6, 7, 8, 9]]\n",
    "for i in range(80):\n",
    "    sudoku_array.append([1, 2, 3, 4, 5, 6, 7, 8, 9])"
   ]
  },
  {
   "cell_type": "code",
   "execution_count": 63,
   "metadata": {},
   "outputs": [
    {
     "name": "stderr",
     "output_type": "stream",
     "text": [
      "/opt/anaconda3/lib/python3.7/site-packages/numpy/core/fromnumeric.py:3335: RuntimeWarning: Mean of empty slice.\n",
      "  out=out, **kwargs)\n",
      "/opt/anaconda3/lib/python3.7/site-packages/numpy/core/_methods.py:161: RuntimeWarning: invalid value encountered in double_scalars\n",
      "  ret = ret.dtype.type(ret / rcount)\n"
     ]
    }
   ],
   "source": [
    "for f in ['difficulty_hard_p1_copy.png']:\n",
    "    foo = cv2.imread(f)\n",
    "#         removing horizontal and vertical grids\n",
    "    foo = h_v(foo)\n",
    "#         making both height and width of the same dimension which is 9 * 28\n",
    "    foo = cv2.resize(foo, (252,252), interpolation = cv2.INTER_LINEAR)\n",
    "    foo = cv2.cvtColor(foo,cv2.COLOR_BGR2GRAY)\n",
    "    foo = cv2.threshold(foo, 170, 255, cv2.THRESH_BINARY_INV)[1]\n",
    "#     plt.imshow(foo)\n",
    "#     plt.show()\n",
    "\n",
    "#         store train data\n",
    "    h,w = foo.shape\n",
    "    box = 28\n",
    "    s = 0\n",
    "    for i in range(0,h,box):\n",
    "        for j in range(0,w,box):\n",
    "            foo_r = foo[i:i+box:, j:j+box]\n",
    "#             plt.imshow(foo_r)\n",
    "#             plt.show()\n",
    "\n",
    "            foo_f = foo_r.reshape(1, 784).astype('float32')\n",
    "            foo_f = foo_f/255\n",
    "#             print(np.round(model.predict(foo_f),3))\n",
    "#             print(np.argmax(model.predict(foo_f)))\n",
    "            if (np.argmax(model.predict(foo_f)) > 0):\n",
    "                sudoku_array[s] = [np.argmax(model.predict(foo_f))]\n",
    "            s = s + 1    "
   ]
  },
  {
   "cell_type": "code",
   "execution_count": 64,
   "metadata": {},
   "outputs": [
    {
     "data": {
      "text/plain": [
       "[[6],\n",
       " [1, 2, 3, 4, 5, 6, 7, 8, 9],\n",
       " [1, 2, 3, 4, 5, 6, 7, 8, 9],\n",
       " [1, 2, 3, 4, 5, 6, 7, 8, 9],\n",
       " [1, 2, 3, 4, 5, 6, 7, 8, 9],\n",
       " [1, 2, 3, 4, 5, 6, 7, 8, 9],\n",
       " [1, 2, 3, 4, 5, 6, 7, 8, 9],\n",
       " [1, 2, 3, 4, 5, 6, 7, 8, 9],\n",
       " [1, 2, 3, 4, 5, 6, 7, 8, 9],\n",
       " [1, 2, 3, 4, 5, 6, 7, 8, 9],\n",
       " [6],\n",
       " [1, 2, 3, 4, 5, 6, 7, 8, 9],\n",
       " [1, 2, 3, 4, 5, 6, 7, 8, 9],\n",
       " [1, 2, 3, 4, 5, 6, 7, 8, 9],\n",
       " [1, 2, 3, 4, 5, 6, 7, 8, 9],\n",
       " [8],\n",
       " [1, 2, 3, 4, 5, 6, 7, 8, 9],\n",
       " [1, 2, 3, 4, 5, 6, 7, 8, 9],\n",
       " [1, 2, 3, 4, 5, 6, 7, 8, 9],\n",
       " [1, 2, 3, 4, 5, 6, 7, 8, 9],\n",
       " [1, 2, 3, 4, 5, 6, 7, 8, 9],\n",
       " [2],\n",
       " [1, 2, 3, 4, 5, 6, 7, 8, 9],\n",
       " [1, 2, 3, 4, 5, 6, 7, 8, 9],\n",
       " [2],\n",
       " [8],\n",
       " [1, 2, 3, 4, 5, 6, 7, 8, 9],\n",
       " [4],\n",
       " [5],\n",
       " [1, 2, 3, 4, 5, 6, 7, 8, 9],\n",
       " [1, 2, 3, 4, 5, 6, 7, 8, 9],\n",
       " [9],\n",
       " [1, 2, 3, 4, 5, 6, 7, 8, 9],\n",
       " [1, 2, 3, 4, 5, 6, 7, 8, 9],\n",
       " [8],\n",
       " [1, 2, 3, 4, 5, 6, 7, 8, 9],\n",
       " [7],\n",
       " [1, 2, 3, 4, 5, 6, 7, 8, 9],\n",
       " [1, 2, 3, 4, 5, 6, 7, 8, 9],\n",
       " [1, 2, 3, 4, 5, 6, 7, 8, 9],\n",
       " [4],\n",
       " [1, 2, 3, 4, 5, 6, 7, 8, 9],\n",
       " [1, 2, 3, 4, 5, 6, 7, 8, 9],\n",
       " [1],\n",
       " [1, 2, 3, 4, 5, 6, 7, 8, 9],\n",
       " [3],\n",
       " [1, 2, 3, 4, 5, 6, 7, 8, 9],\n",
       " [1, 2, 3, 4, 5, 6, 7, 8, 9],\n",
       " [5],\n",
       " [1, 2, 3, 4, 5, 6, 7, 8, 9],\n",
       " [1, 2, 3, 4, 5, 6, 7, 8, 9],\n",
       " [1, 2, 3, 4, 5, 6, 7, 8, 9],\n",
       " [1, 2, 3, 4, 5, 6, 7, 8, 9],\n",
       " [1, 2, 3, 4, 5, 6, 7, 8, 9],\n",
       " [6],\n",
       " [4],\n",
       " [3],\n",
       " [1, 2, 3, 4, 5, 6, 7, 8, 9],\n",
       " [1, 2, 3, 4, 5, 6, 7, 8, 9],\n",
       " [1, 2, 3, 4, 5, 6, 7, 8, 9],\n",
       " [1, 2, 3, 4, 5, 6, 7, 8, 9],\n",
       " [1, 2, 3, 4, 5, 6, 7, 8, 9],\n",
       " [1],\n",
       " [1],\n",
       " [1, 2, 3, 4, 5, 6, 7, 8, 9],\n",
       " [1, 2, 3, 4, 5, 6, 7, 8, 9],\n",
       " [1, 2, 3, 4, 5, 6, 7, 8, 9],\n",
       " [7],\n",
       " [1, 2, 3, 4, 5, 6, 7, 8, 9],\n",
       " [1, 2, 3, 4, 5, 6, 7, 8, 9],\n",
       " [1, 2, 3, 4, 5, 6, 7, 8, 9],\n",
       " [1, 2, 3, 4, 5, 6, 7, 8, 9],\n",
       " [1, 2, 3, 4, 5, 6, 7, 8, 9],\n",
       " [1, 2, 3, 4, 5, 6, 7, 8, 9],\n",
       " [1, 2, 3, 4, 5, 6, 7, 8, 9],\n",
       " [8],\n",
       " [1, 2, 3, 4, 5, 6, 7, 8, 9],\n",
       " [1],\n",
       " [1, 2, 3, 4, 5, 6, 7, 8, 9],\n",
       " [4],\n",
       " [8]]"
      ]
     },
     "execution_count": 64,
     "metadata": {},
     "output_type": "execute_result"
    }
   ],
   "source": [
    "sudoku_array"
   ]
  },
  {
   "cell_type": "code",
   "execution_count": 4,
   "metadata": {},
   "outputs": [
    {
     "data": {
      "text/plain": [
       "[0, 9, 18, 27, 36, 45, 54, 63, 72]"
      ]
     },
     "execution_count": 4,
     "metadata": {},
     "output_type": "execute_result"
    }
   ],
   "source": [
    "list(range(0,80,9))"
   ]
  },
  {
   "cell_type": "code",
   "execution_count": null,
   "metadata": {},
   "outputs": [],
   "source": []
  },
  {
   "cell_type": "code",
   "execution_count": 9,
   "metadata": {},
   "outputs": [],
   "source": [
    "from solver import sudoku"
   ]
  },
  {
   "cell_type": "code",
   "execution_count": 10,
   "metadata": {},
   "outputs": [],
   "source": [
    "arr = sudoku()"
   ]
  },
  {
   "cell_type": "code",
   "execution_count": 11,
   "metadata": {},
   "outputs": [],
   "source": [
    "arr.sudoku_array[4] = [9]\n",
    "arr.sudoku_array[6] = [3]\n",
    "arr.sudoku_array[10] = [4]\n",
    "arr.sudoku_array[11] = [9]\n",
    "arr.sudoku_array[15] = [7]\n",
    "arr.sudoku_array[19] = [5]\n",
    "arr.sudoku_array[20] = [6]\n",
    "arr.sudoku_array[30] = [6]\n",
    "arr.sudoku_array[32] = [8]\n",
    "arr.sudoku_array[40] = [3]\n",
    "arr.sudoku_array[41] = [2]\n",
    "arr.sudoku_array[46] = [8]\n",
    "arr.sudoku_array[48] = [9]\n",
    "arr.sudoku_array[49] = [1]\n",
    "arr.sudoku_array[51] = [2]\n",
    "arr.sudoku_array[53] = [4]\n",
    "arr.sudoku_array[55] = [9]\n",
    "arr.sudoku_array[59] = [4]\n",
    "arr.sudoku_array[60] = [1]\n",
    "arr.sudoku_array[62] = [2]\n",
    "arr.sudoku_array[65] = [4]\n",
    "arr.sudoku_array[69] = [5]\n",
    "arr.sudoku_array[71] = [8]\n",
    "arr.sudoku_array[76] = [6]\n",
    "arr.sudoku_array[80] = [9]"
   ]
  },
  {
   "cell_type": "code",
   "execution_count": 12,
   "metadata": {},
   "outputs": [
    {
     "name": "stdout",
     "output_type": "stream",
     "text": [
      "     a    b    c    d    e    f    g    h    i\n",
      "0  [8]  [7]  [1]  [2]  [9]  [6]  [3]  [4]  [5]\n",
      "1  [3]  [4]  [9]  [5]  [8]  [1]  [7]  [2]  [6]\n",
      "2  [2]  [5]  [6]  [7]  [4]  [3]  [8]  [9]  [1]\n",
      "3  [4]  [2]  [7]  [6]  [5]  [8]  [9]  [1]  [3]\n",
      "4  [9]  [1]  [5]  [4]  [3]  [2]  [6]  [8]  [7]\n",
      "5  [6]  [8]  [3]  [9]  [1]  [7]  [2]  [5]  [4]\n",
      "6  [5]  [9]  [8]  [3]  [7]  [4]  [1]  [6]  [2]\n",
      "7  [7]  [6]  [4]  [1]  [2]  [9]  [5]  [3]  [8]\n",
      "8  [1]  [3]  [2]  [8]  [6]  [5]  [4]  [7]  [9]\n"
     ]
    }
   ],
   "source": [
    "arr.verbose = 0\n",
    "arr.row_excl_update()\n",
    "arr.col_excl_update()\n",
    "arr.box_excl_update()\n",
    "arr.solve()"
   ]
  },
  {
   "cell_type": "code",
   "execution_count": null,
   "metadata": {},
   "outputs": [],
   "source": []
  }
 ],
 "metadata": {
  "kernelspec": {
   "display_name": "Python 3",
   "language": "python",
   "name": "python3"
  },
  "language_info": {
   "codemirror_mode": {
    "name": "ipython",
    "version": 3
   },
   "file_extension": ".py",
   "mimetype": "text/x-python",
   "name": "python",
   "nbconvert_exporter": "python",
   "pygments_lexer": "ipython3",
   "version": "3.7.6"
  }
 },
 "nbformat": 4,
 "nbformat_minor": 4
}
